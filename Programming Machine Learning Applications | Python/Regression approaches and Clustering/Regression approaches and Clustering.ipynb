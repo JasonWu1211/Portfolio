{
 "cells": [
  {
   "cell_type": "code",
   "execution_count": 6,
   "metadata": {
    "collapsed": true
   },
   "outputs": [],
   "source": [
    "#libarary\n",
    "import pandas as pd\n",
    "import numpy as np\n",
    "import matplotlib.pyplot as plt\n",
    "import matplotlib\n",
    "matplotlib.style.use('ggplot')\n",
    "%matplotlib inline"
   ]
  },
  {
   "cell_type": "markdown",
   "metadata": {},
   "source": [
    "## Q1 : Linear Regression\n",
    "\n",
    "[Dataset: communities.zip]\n",
    "\n",
    "For this problem you will experiment with linear regression models to make predictions with numerical data. You will also explore more systematic methods for feature selection and for optimizing model parameters (model selection). The data set you will use is a subset of the \"Communities and Crime\" data set that combines information from the 1990 census data as well as FBI crime data from 1995. Please read the full description of the data, including the description and statistics on different variables. The target attribute for regression purposes is \"ViolentCrimesPerPop\". The two identifier attributes \"state\" and \"community name\" should be excluded for the regression task.\n",
    "\n",
    "Your tasks in this problem are the following [Note: for these tasks you will use the available linear-models from scikit-learn as well as the implementations of the relevant approaches from the Ch. 8 of MLA] ."
   ]
  },
  {
   "cell_type": "markdown",
   "metadata": {},
   "source": [
    "## 1a.\n",
    "\n",
    "Load and preprocess the data using Pandas or Numpy and, if necessary, preprocessing functions from scikit-learn. The provided data is already normalized (see description), so there is no need for additional normalization. Compute and display basic statistics (mean, standard deviation, min, max, etc.) for each of the variables in the data set. Separate the target attribute for regression."
   ]
  },
  {
   "cell_type": "markdown",
   "metadata": {},
   "source": [
    "### Load the data"
   ]
  },
  {
   "cell_type": "code",
   "execution_count": 51,
   "metadata": {
    "collapsed": true
   },
   "outputs": [],
   "source": [
    "community = pd.read_csv('communities/communities.csv',na_values='?')"
   ]
  },
  {
   "cell_type": "code",
   "execution_count": 52,
   "metadata": {
    "collapsed": false
   },
   "outputs": [
    {
     "data": {
      "text/html": [
       "<div>\n",
       "<table border=\"1\" class=\"dataframe\">\n",
       "  <thead>\n",
       "    <tr style=\"text-align: right;\">\n",
       "      <th></th>\n",
       "      <th>state</th>\n",
       "      <th>communityname</th>\n",
       "      <th>population</th>\n",
       "      <th>householdsize</th>\n",
       "      <th>racepctblack</th>\n",
       "      <th>racePctWhite</th>\n",
       "      <th>racePctAsian</th>\n",
       "      <th>racePctHisp</th>\n",
       "      <th>agePct12t21</th>\n",
       "      <th>agePct12t29</th>\n",
       "      <th>...</th>\n",
       "      <th>NumStreet</th>\n",
       "      <th>PctForeignBorn</th>\n",
       "      <th>PctBornSameState</th>\n",
       "      <th>PctSameHouse85</th>\n",
       "      <th>PctSameCity85</th>\n",
       "      <th>PctSameState85</th>\n",
       "      <th>LandArea</th>\n",
       "      <th>PopDens</th>\n",
       "      <th>PctUsePubTrans</th>\n",
       "      <th>ViolentCrimesPerPop</th>\n",
       "    </tr>\n",
       "  </thead>\n",
       "  <tbody>\n",
       "    <tr>\n",
       "      <th>0</th>\n",
       "      <td>8</td>\n",
       "      <td>Lakewoodcity</td>\n",
       "      <td>0.19</td>\n",
       "      <td>0.33</td>\n",
       "      <td>0.02</td>\n",
       "      <td>0.90</td>\n",
       "      <td>0.12</td>\n",
       "      <td>0.17</td>\n",
       "      <td>0.34</td>\n",
       "      <td>0.47</td>\n",
       "      <td>...</td>\n",
       "      <td>0.0</td>\n",
       "      <td>0.12</td>\n",
       "      <td>0.42</td>\n",
       "      <td>0.50</td>\n",
       "      <td>0.51</td>\n",
       "      <td>0.64</td>\n",
       "      <td>0.12</td>\n",
       "      <td>0.26</td>\n",
       "      <td>0.20</td>\n",
       "      <td>0.20</td>\n",
       "    </tr>\n",
       "    <tr>\n",
       "      <th>1</th>\n",
       "      <td>53</td>\n",
       "      <td>Tukwilacity</td>\n",
       "      <td>0.00</td>\n",
       "      <td>0.16</td>\n",
       "      <td>0.12</td>\n",
       "      <td>0.74</td>\n",
       "      <td>0.45</td>\n",
       "      <td>0.07</td>\n",
       "      <td>0.26</td>\n",
       "      <td>0.59</td>\n",
       "      <td>...</td>\n",
       "      <td>0.0</td>\n",
       "      <td>0.21</td>\n",
       "      <td>0.50</td>\n",
       "      <td>0.34</td>\n",
       "      <td>0.60</td>\n",
       "      <td>0.52</td>\n",
       "      <td>0.02</td>\n",
       "      <td>0.12</td>\n",
       "      <td>0.45</td>\n",
       "      <td>0.67</td>\n",
       "    </tr>\n",
       "    <tr>\n",
       "      <th>2</th>\n",
       "      <td>24</td>\n",
       "      <td>Aberdeentown</td>\n",
       "      <td>0.00</td>\n",
       "      <td>0.42</td>\n",
       "      <td>0.49</td>\n",
       "      <td>0.56</td>\n",
       "      <td>0.17</td>\n",
       "      <td>0.04</td>\n",
       "      <td>0.39</td>\n",
       "      <td>0.47</td>\n",
       "      <td>...</td>\n",
       "      <td>0.0</td>\n",
       "      <td>0.14</td>\n",
       "      <td>0.49</td>\n",
       "      <td>0.54</td>\n",
       "      <td>0.67</td>\n",
       "      <td>0.56</td>\n",
       "      <td>0.01</td>\n",
       "      <td>0.21</td>\n",
       "      <td>0.02</td>\n",
       "      <td>0.43</td>\n",
       "    </tr>\n",
       "    <tr>\n",
       "      <th>3</th>\n",
       "      <td>34</td>\n",
       "      <td>Willingborotownship</td>\n",
       "      <td>0.04</td>\n",
       "      <td>0.77</td>\n",
       "      <td>1.00</td>\n",
       "      <td>0.08</td>\n",
       "      <td>0.12</td>\n",
       "      <td>0.10</td>\n",
       "      <td>0.51</td>\n",
       "      <td>0.50</td>\n",
       "      <td>...</td>\n",
       "      <td>0.0</td>\n",
       "      <td>0.19</td>\n",
       "      <td>0.30</td>\n",
       "      <td>0.73</td>\n",
       "      <td>0.64</td>\n",
       "      <td>0.65</td>\n",
       "      <td>0.02</td>\n",
       "      <td>0.39</td>\n",
       "      <td>0.28</td>\n",
       "      <td>0.12</td>\n",
       "    </tr>\n",
       "    <tr>\n",
       "      <th>4</th>\n",
       "      <td>42</td>\n",
       "      <td>Bethlehemtownship</td>\n",
       "      <td>0.01</td>\n",
       "      <td>0.55</td>\n",
       "      <td>0.02</td>\n",
       "      <td>0.95</td>\n",
       "      <td>0.09</td>\n",
       "      <td>0.05</td>\n",
       "      <td>0.38</td>\n",
       "      <td>0.38</td>\n",
       "      <td>...</td>\n",
       "      <td>0.0</td>\n",
       "      <td>0.11</td>\n",
       "      <td>0.72</td>\n",
       "      <td>0.64</td>\n",
       "      <td>0.61</td>\n",
       "      <td>0.53</td>\n",
       "      <td>0.04</td>\n",
       "      <td>0.09</td>\n",
       "      <td>0.02</td>\n",
       "      <td>0.03</td>\n",
       "    </tr>\n",
       "  </tbody>\n",
       "</table>\n",
       "<p>5 rows × 100 columns</p>\n",
       "</div>"
      ],
      "text/plain": [
       "   state        communityname  population  householdsize  racepctblack  \\\n",
       "0      8         Lakewoodcity        0.19           0.33          0.02   \n",
       "1     53          Tukwilacity        0.00           0.16          0.12   \n",
       "2     24         Aberdeentown        0.00           0.42          0.49   \n",
       "3     34  Willingborotownship        0.04           0.77          1.00   \n",
       "4     42    Bethlehemtownship        0.01           0.55          0.02   \n",
       "\n",
       "   racePctWhite  racePctAsian  racePctHisp  agePct12t21  agePct12t29  \\\n",
       "0          0.90          0.12         0.17         0.34         0.47   \n",
       "1          0.74          0.45         0.07         0.26         0.59   \n",
       "2          0.56          0.17         0.04         0.39         0.47   \n",
       "3          0.08          0.12         0.10         0.51         0.50   \n",
       "4          0.95          0.09         0.05         0.38         0.38   \n",
       "\n",
       "          ...           NumStreet  PctForeignBorn  PctBornSameState  \\\n",
       "0         ...                 0.0            0.12              0.42   \n",
       "1         ...                 0.0            0.21              0.50   \n",
       "2         ...                 0.0            0.14              0.49   \n",
       "3         ...                 0.0            0.19              0.30   \n",
       "4         ...                 0.0            0.11              0.72   \n",
       "\n",
       "   PctSameHouse85  PctSameCity85  PctSameState85  LandArea  PopDens  \\\n",
       "0            0.50           0.51            0.64      0.12     0.26   \n",
       "1            0.34           0.60            0.52      0.02     0.12   \n",
       "2            0.54           0.67            0.56      0.01     0.21   \n",
       "3            0.73           0.64            0.65      0.02     0.39   \n",
       "4            0.64           0.61            0.53      0.04     0.09   \n",
       "\n",
       "   PctUsePubTrans  ViolentCrimesPerPop  \n",
       "0            0.20                 0.20  \n",
       "1            0.45                 0.67  \n",
       "2            0.02                 0.43  \n",
       "3            0.28                 0.12  \n",
       "4            0.02                 0.03  \n",
       "\n",
       "[5 rows x 100 columns]"
      ]
     },
     "execution_count": 52,
     "metadata": {},
     "output_type": "execute_result"
    }
   ],
   "source": [
    "community.head(5)"
   ]
  },
  {
   "cell_type": "code",
   "execution_count": 53,
   "metadata": {
    "collapsed": false
   },
   "outputs": [
    {
     "data": {
      "text/plain": [
       "(1994, 100)"
      ]
     },
     "execution_count": 53,
     "metadata": {},
     "output_type": "execute_result"
    }
   ],
   "source": [
    "community.shape"
   ]
  },
  {
   "cell_type": "markdown",
   "metadata": {},
   "source": [
    "### preprocessing"
   ]
  },
  {
   "cell_type": "markdown",
   "metadata": {},
   "source": [
    "#### Drop identifier"
   ]
  },
  {
   "cell_type": "code",
   "execution_count": 54,
   "metadata": {
    "collapsed": false
   },
   "outputs": [
    {
     "data": {
      "text/html": [
       "<div>\n",
       "<table border=\"1\" class=\"dataframe\">\n",
       "  <thead>\n",
       "    <tr style=\"text-align: right;\">\n",
       "      <th></th>\n",
       "      <th>population</th>\n",
       "      <th>householdsize</th>\n",
       "      <th>racepctblack</th>\n",
       "      <th>racePctWhite</th>\n",
       "      <th>racePctAsian</th>\n",
       "      <th>racePctHisp</th>\n",
       "      <th>agePct12t21</th>\n",
       "      <th>agePct12t29</th>\n",
       "      <th>agePct16t24</th>\n",
       "      <th>agePct65up</th>\n",
       "      <th>...</th>\n",
       "      <th>NumStreet</th>\n",
       "      <th>PctForeignBorn</th>\n",
       "      <th>PctBornSameState</th>\n",
       "      <th>PctSameHouse85</th>\n",
       "      <th>PctSameCity85</th>\n",
       "      <th>PctSameState85</th>\n",
       "      <th>LandArea</th>\n",
       "      <th>PopDens</th>\n",
       "      <th>PctUsePubTrans</th>\n",
       "      <th>ViolentCrimesPerPop</th>\n",
       "    </tr>\n",
       "  </thead>\n",
       "  <tbody>\n",
       "    <tr>\n",
       "      <th>0</th>\n",
       "      <td>0.19</td>\n",
       "      <td>0.33</td>\n",
       "      <td>0.02</td>\n",
       "      <td>0.90</td>\n",
       "      <td>0.12</td>\n",
       "      <td>0.17</td>\n",
       "      <td>0.34</td>\n",
       "      <td>0.47</td>\n",
       "      <td>0.29</td>\n",
       "      <td>0.32</td>\n",
       "      <td>...</td>\n",
       "      <td>0.0</td>\n",
       "      <td>0.12</td>\n",
       "      <td>0.42</td>\n",
       "      <td>0.50</td>\n",
       "      <td>0.51</td>\n",
       "      <td>0.64</td>\n",
       "      <td>0.12</td>\n",
       "      <td>0.26</td>\n",
       "      <td>0.20</td>\n",
       "      <td>0.20</td>\n",
       "    </tr>\n",
       "    <tr>\n",
       "      <th>1</th>\n",
       "      <td>0.00</td>\n",
       "      <td>0.16</td>\n",
       "      <td>0.12</td>\n",
       "      <td>0.74</td>\n",
       "      <td>0.45</td>\n",
       "      <td>0.07</td>\n",
       "      <td>0.26</td>\n",
       "      <td>0.59</td>\n",
       "      <td>0.35</td>\n",
       "      <td>0.27</td>\n",
       "      <td>...</td>\n",
       "      <td>0.0</td>\n",
       "      <td>0.21</td>\n",
       "      <td>0.50</td>\n",
       "      <td>0.34</td>\n",
       "      <td>0.60</td>\n",
       "      <td>0.52</td>\n",
       "      <td>0.02</td>\n",
       "      <td>0.12</td>\n",
       "      <td>0.45</td>\n",
       "      <td>0.67</td>\n",
       "    </tr>\n",
       "    <tr>\n",
       "      <th>2</th>\n",
       "      <td>0.00</td>\n",
       "      <td>0.42</td>\n",
       "      <td>0.49</td>\n",
       "      <td>0.56</td>\n",
       "      <td>0.17</td>\n",
       "      <td>0.04</td>\n",
       "      <td>0.39</td>\n",
       "      <td>0.47</td>\n",
       "      <td>0.28</td>\n",
       "      <td>0.32</td>\n",
       "      <td>...</td>\n",
       "      <td>0.0</td>\n",
       "      <td>0.14</td>\n",
       "      <td>0.49</td>\n",
       "      <td>0.54</td>\n",
       "      <td>0.67</td>\n",
       "      <td>0.56</td>\n",
       "      <td>0.01</td>\n",
       "      <td>0.21</td>\n",
       "      <td>0.02</td>\n",
       "      <td>0.43</td>\n",
       "    </tr>\n",
       "    <tr>\n",
       "      <th>3</th>\n",
       "      <td>0.04</td>\n",
       "      <td>0.77</td>\n",
       "      <td>1.00</td>\n",
       "      <td>0.08</td>\n",
       "      <td>0.12</td>\n",
       "      <td>0.10</td>\n",
       "      <td>0.51</td>\n",
       "      <td>0.50</td>\n",
       "      <td>0.34</td>\n",
       "      <td>0.21</td>\n",
       "      <td>...</td>\n",
       "      <td>0.0</td>\n",
       "      <td>0.19</td>\n",
       "      <td>0.30</td>\n",
       "      <td>0.73</td>\n",
       "      <td>0.64</td>\n",
       "      <td>0.65</td>\n",
       "      <td>0.02</td>\n",
       "      <td>0.39</td>\n",
       "      <td>0.28</td>\n",
       "      <td>0.12</td>\n",
       "    </tr>\n",
       "    <tr>\n",
       "      <th>4</th>\n",
       "      <td>0.01</td>\n",
       "      <td>0.55</td>\n",
       "      <td>0.02</td>\n",
       "      <td>0.95</td>\n",
       "      <td>0.09</td>\n",
       "      <td>0.05</td>\n",
       "      <td>0.38</td>\n",
       "      <td>0.38</td>\n",
       "      <td>0.23</td>\n",
       "      <td>0.36</td>\n",
       "      <td>...</td>\n",
       "      <td>0.0</td>\n",
       "      <td>0.11</td>\n",
       "      <td>0.72</td>\n",
       "      <td>0.64</td>\n",
       "      <td>0.61</td>\n",
       "      <td>0.53</td>\n",
       "      <td>0.04</td>\n",
       "      <td>0.09</td>\n",
       "      <td>0.02</td>\n",
       "      <td>0.03</td>\n",
       "    </tr>\n",
       "  </tbody>\n",
       "</table>\n",
       "<p>5 rows × 98 columns</p>\n",
       "</div>"
      ],
      "text/plain": [
       "   population  householdsize  racepctblack  racePctWhite  racePctAsian  \\\n",
       "0        0.19           0.33          0.02          0.90          0.12   \n",
       "1        0.00           0.16          0.12          0.74          0.45   \n",
       "2        0.00           0.42          0.49          0.56          0.17   \n",
       "3        0.04           0.77          1.00          0.08          0.12   \n",
       "4        0.01           0.55          0.02          0.95          0.09   \n",
       "\n",
       "   racePctHisp  agePct12t21  agePct12t29  agePct16t24  agePct65up  \\\n",
       "0         0.17         0.34         0.47         0.29        0.32   \n",
       "1         0.07         0.26         0.59         0.35        0.27   \n",
       "2         0.04         0.39         0.47         0.28        0.32   \n",
       "3         0.10         0.51         0.50         0.34        0.21   \n",
       "4         0.05         0.38         0.38         0.23        0.36   \n",
       "\n",
       "          ...           NumStreet  PctForeignBorn  PctBornSameState  \\\n",
       "0         ...                 0.0            0.12              0.42   \n",
       "1         ...                 0.0            0.21              0.50   \n",
       "2         ...                 0.0            0.14              0.49   \n",
       "3         ...                 0.0            0.19              0.30   \n",
       "4         ...                 0.0            0.11              0.72   \n",
       "\n",
       "   PctSameHouse85  PctSameCity85  PctSameState85  LandArea  PopDens  \\\n",
       "0            0.50           0.51            0.64      0.12     0.26   \n",
       "1            0.34           0.60            0.52      0.02     0.12   \n",
       "2            0.54           0.67            0.56      0.01     0.21   \n",
       "3            0.73           0.64            0.65      0.02     0.39   \n",
       "4            0.64           0.61            0.53      0.04     0.09   \n",
       "\n",
       "   PctUsePubTrans  ViolentCrimesPerPop  \n",
       "0            0.20                 0.20  \n",
       "1            0.45                 0.67  \n",
       "2            0.02                 0.43  \n",
       "3            0.28                 0.12  \n",
       "4            0.02                 0.03  \n",
       "\n",
       "[5 rows x 98 columns]"
      ]
     },
     "execution_count": 54,
     "metadata": {},
     "output_type": "execute_result"
    }
   ],
   "source": [
    "#drop identifier\n",
    "num_community = community.drop(['state','communityname'], axis=1, inplace = False)\n",
    "num_community.head()"
   ]
  },
  {
   "cell_type": "code",
   "execution_count": 55,
   "metadata": {
    "collapsed": false
   },
   "outputs": [
    {
     "data": {
      "text/plain": [
       "(1994, 98)"
      ]
     },
     "execution_count": 55,
     "metadata": {},
     "output_type": "execute_result"
    }
   ],
   "source": [
    "num_community.shape"
   ]
  },
  {
   "cell_type": "markdown",
   "metadata": {},
   "source": [
    "#### missing values?"
   ]
  },
  {
   "cell_type": "code",
   "execution_count": 56,
   "metadata": {
    "collapsed": false
   },
   "outputs": [
    {
     "name": "stdout",
     "output_type": "stream",
     "text": [
      "attribute with missing values: \n",
      "\n",
      "['OtherPerCap']\n"
     ]
    }
   ],
   "source": [
    "#check for missing values\n",
    "print \"attribute with missing values: \\n\"\n",
    "print [col for col in num_community.columns if num_community[col].isnull().any()]"
   ]
  },
  {
   "cell_type": "code",
   "execution_count": 58,
   "metadata": {
    "collapsed": false
   },
   "outputs": [
    {
     "data": {
      "text/plain": [
       "dtype('float64')"
      ]
     },
     "execution_count": 58,
     "metadata": {},
     "output_type": "execute_result"
    }
   ],
   "source": [
    "#check data type\n",
    "num_community.OtherPerCap.dtype"
   ]
  },
  {
   "cell_type": "code",
   "execution_count": 59,
   "metadata": {
    "collapsed": true
   },
   "outputs": [],
   "source": [
    "#fill in missing value\n",
    "OtherPerCap_mean = num_community.OtherPerCap.mean()\n",
    "num_community.OtherPerCap.fillna(OtherPerCap_mean, axis=0, inplace=True)"
   ]
  },
  {
   "cell_type": "code",
   "execution_count": 60,
   "metadata": {
    "collapsed": false
   },
   "outputs": [
    {
     "name": "stdout",
     "output_type": "stream",
     "text": [
      "attribute with missing values: \n",
      "\n",
      "[]\n"
     ]
    }
   ],
   "source": [
    "#check for missing values again\n",
    "print \"attribute with missing values: \\n\"\n",
    "print [col for col in num_community.columns if num_community[col].isnull().any()]"
   ]
  },
  {
   "cell_type": "markdown",
   "metadata": {},
   "source": [
    "### basic statistics"
   ]
  },
  {
   "cell_type": "code",
   "execution_count": 61,
   "metadata": {
    "collapsed": false,
    "scrolled": false
   },
   "outputs": [
    {
     "data": {
      "text/html": [
       "<div>\n",
       "<table border=\"1\" class=\"dataframe\">\n",
       "  <thead>\n",
       "    <tr style=\"text-align: right;\">\n",
       "      <th></th>\n",
       "      <th>count</th>\n",
       "      <th>mean</th>\n",
       "      <th>std</th>\n",
       "      <th>min</th>\n",
       "      <th>25%</th>\n",
       "      <th>50%</th>\n",
       "      <th>75%</th>\n",
       "      <th>max</th>\n",
       "    </tr>\n",
       "  </thead>\n",
       "  <tbody>\n",
       "    <tr>\n",
       "      <th>population</th>\n",
       "      <td>1994.0</td>\n",
       "      <td>0.057593</td>\n",
       "      <td>0.126906</td>\n",
       "      <td>0.0</td>\n",
       "      <td>0.0100</td>\n",
       "      <td>0.020</td>\n",
       "      <td>0.0500</td>\n",
       "      <td>1.0</td>\n",
       "    </tr>\n",
       "    <tr>\n",
       "      <th>householdsize</th>\n",
       "      <td>1994.0</td>\n",
       "      <td>0.463395</td>\n",
       "      <td>0.163717</td>\n",
       "      <td>0.0</td>\n",
       "      <td>0.3500</td>\n",
       "      <td>0.440</td>\n",
       "      <td>0.5400</td>\n",
       "      <td>1.0</td>\n",
       "    </tr>\n",
       "    <tr>\n",
       "      <th>racepctblack</th>\n",
       "      <td>1994.0</td>\n",
       "      <td>0.179629</td>\n",
       "      <td>0.253442</td>\n",
       "      <td>0.0</td>\n",
       "      <td>0.0200</td>\n",
       "      <td>0.060</td>\n",
       "      <td>0.2300</td>\n",
       "      <td>1.0</td>\n",
       "    </tr>\n",
       "    <tr>\n",
       "      <th>racePctWhite</th>\n",
       "      <td>1994.0</td>\n",
       "      <td>0.753716</td>\n",
       "      <td>0.244039</td>\n",
       "      <td>0.0</td>\n",
       "      <td>0.6300</td>\n",
       "      <td>0.850</td>\n",
       "      <td>0.9400</td>\n",
       "      <td>1.0</td>\n",
       "    </tr>\n",
       "    <tr>\n",
       "      <th>racePctAsian</th>\n",
       "      <td>1994.0</td>\n",
       "      <td>0.153681</td>\n",
       "      <td>0.208877</td>\n",
       "      <td>0.0</td>\n",
       "      <td>0.0400</td>\n",
       "      <td>0.070</td>\n",
       "      <td>0.1700</td>\n",
       "      <td>1.0</td>\n",
       "    </tr>\n",
       "    <tr>\n",
       "      <th>racePctHisp</th>\n",
       "      <td>1994.0</td>\n",
       "      <td>0.144022</td>\n",
       "      <td>0.232492</td>\n",
       "      <td>0.0</td>\n",
       "      <td>0.0100</td>\n",
       "      <td>0.040</td>\n",
       "      <td>0.1600</td>\n",
       "      <td>1.0</td>\n",
       "    </tr>\n",
       "    <tr>\n",
       "      <th>agePct12t21</th>\n",
       "      <td>1994.0</td>\n",
       "      <td>0.424218</td>\n",
       "      <td>0.155196</td>\n",
       "      <td>0.0</td>\n",
       "      <td>0.3400</td>\n",
       "      <td>0.400</td>\n",
       "      <td>0.4700</td>\n",
       "      <td>1.0</td>\n",
       "    </tr>\n",
       "    <tr>\n",
       "      <th>agePct12t29</th>\n",
       "      <td>1994.0</td>\n",
       "      <td>0.493867</td>\n",
       "      <td>0.143564</td>\n",
       "      <td>0.0</td>\n",
       "      <td>0.4100</td>\n",
       "      <td>0.480</td>\n",
       "      <td>0.5400</td>\n",
       "      <td>1.0</td>\n",
       "    </tr>\n",
       "    <tr>\n",
       "      <th>agePct16t24</th>\n",
       "      <td>1994.0</td>\n",
       "      <td>0.336264</td>\n",
       "      <td>0.166505</td>\n",
       "      <td>0.0</td>\n",
       "      <td>0.2500</td>\n",
       "      <td>0.290</td>\n",
       "      <td>0.3600</td>\n",
       "      <td>1.0</td>\n",
       "    </tr>\n",
       "    <tr>\n",
       "      <th>agePct65up</th>\n",
       "      <td>1994.0</td>\n",
       "      <td>0.423164</td>\n",
       "      <td>0.179185</td>\n",
       "      <td>0.0</td>\n",
       "      <td>0.3000</td>\n",
       "      <td>0.420</td>\n",
       "      <td>0.5300</td>\n",
       "      <td>1.0</td>\n",
       "    </tr>\n",
       "    <tr>\n",
       "      <th>numbUrban</th>\n",
       "      <td>1994.0</td>\n",
       "      <td>0.064072</td>\n",
       "      <td>0.128256</td>\n",
       "      <td>0.0</td>\n",
       "      <td>0.0000</td>\n",
       "      <td>0.030</td>\n",
       "      <td>0.0700</td>\n",
       "      <td>1.0</td>\n",
       "    </tr>\n",
       "    <tr>\n",
       "      <th>pctUrban</th>\n",
       "      <td>1994.0</td>\n",
       "      <td>0.696269</td>\n",
       "      <td>0.444811</td>\n",
       "      <td>0.0</td>\n",
       "      <td>0.0000</td>\n",
       "      <td>1.000</td>\n",
       "      <td>1.0000</td>\n",
       "      <td>1.0</td>\n",
       "    </tr>\n",
       "    <tr>\n",
       "      <th>medIncome</th>\n",
       "      <td>1994.0</td>\n",
       "      <td>0.361123</td>\n",
       "      <td>0.209362</td>\n",
       "      <td>0.0</td>\n",
       "      <td>0.2000</td>\n",
       "      <td>0.320</td>\n",
       "      <td>0.4900</td>\n",
       "      <td>1.0</td>\n",
       "    </tr>\n",
       "    <tr>\n",
       "      <th>pctWWage</th>\n",
       "      <td>1994.0</td>\n",
       "      <td>0.558154</td>\n",
       "      <td>0.182913</td>\n",
       "      <td>0.0</td>\n",
       "      <td>0.4400</td>\n",
       "      <td>0.560</td>\n",
       "      <td>0.6900</td>\n",
       "      <td>1.0</td>\n",
       "    </tr>\n",
       "    <tr>\n",
       "      <th>pctWFarmSelf</th>\n",
       "      <td>1994.0</td>\n",
       "      <td>0.291570</td>\n",
       "      <td>0.204108</td>\n",
       "      <td>0.0</td>\n",
       "      <td>0.1600</td>\n",
       "      <td>0.230</td>\n",
       "      <td>0.3700</td>\n",
       "      <td>1.0</td>\n",
       "    </tr>\n",
       "    <tr>\n",
       "      <th>pctWInvInc</th>\n",
       "      <td>1994.0</td>\n",
       "      <td>0.495687</td>\n",
       "      <td>0.178071</td>\n",
       "      <td>0.0</td>\n",
       "      <td>0.3700</td>\n",
       "      <td>0.480</td>\n",
       "      <td>0.6200</td>\n",
       "      <td>1.0</td>\n",
       "    </tr>\n",
       "    <tr>\n",
       "      <th>pctWSocSec</th>\n",
       "      <td>1994.0</td>\n",
       "      <td>0.471133</td>\n",
       "      <td>0.173619</td>\n",
       "      <td>0.0</td>\n",
       "      <td>0.3500</td>\n",
       "      <td>0.475</td>\n",
       "      <td>0.5800</td>\n",
       "      <td>1.0</td>\n",
       "    </tr>\n",
       "    <tr>\n",
       "      <th>pctWPubAsst</th>\n",
       "      <td>1994.0</td>\n",
       "      <td>0.317778</td>\n",
       "      <td>0.222137</td>\n",
       "      <td>0.0</td>\n",
       "      <td>0.1425</td>\n",
       "      <td>0.260</td>\n",
       "      <td>0.4400</td>\n",
       "      <td>1.0</td>\n",
       "    </tr>\n",
       "    <tr>\n",
       "      <th>pctWRetire</th>\n",
       "      <td>1994.0</td>\n",
       "      <td>0.479248</td>\n",
       "      <td>0.167564</td>\n",
       "      <td>0.0</td>\n",
       "      <td>0.3600</td>\n",
       "      <td>0.470</td>\n",
       "      <td>0.5800</td>\n",
       "      <td>1.0</td>\n",
       "    </tr>\n",
       "    <tr>\n",
       "      <th>medFamInc</th>\n",
       "      <td>1994.0</td>\n",
       "      <td>0.375677</td>\n",
       "      <td>0.198257</td>\n",
       "      <td>0.0</td>\n",
       "      <td>0.2300</td>\n",
       "      <td>0.330</td>\n",
       "      <td>0.4800</td>\n",
       "      <td>1.0</td>\n",
       "    </tr>\n",
       "    <tr>\n",
       "      <th>perCapInc</th>\n",
       "      <td>1994.0</td>\n",
       "      <td>0.350251</td>\n",
       "      <td>0.191109</td>\n",
       "      <td>0.0</td>\n",
       "      <td>0.2200</td>\n",
       "      <td>0.300</td>\n",
       "      <td>0.4300</td>\n",
       "      <td>1.0</td>\n",
       "    </tr>\n",
       "    <tr>\n",
       "      <th>whitePerCap</th>\n",
       "      <td>1994.0</td>\n",
       "      <td>0.368049</td>\n",
       "      <td>0.186804</td>\n",
       "      <td>0.0</td>\n",
       "      <td>0.2400</td>\n",
       "      <td>0.320</td>\n",
       "      <td>0.4400</td>\n",
       "      <td>1.0</td>\n",
       "    </tr>\n",
       "    <tr>\n",
       "      <th>blackPerCap</th>\n",
       "      <td>1994.0</td>\n",
       "      <td>0.291098</td>\n",
       "      <td>0.171593</td>\n",
       "      <td>0.0</td>\n",
       "      <td>0.1725</td>\n",
       "      <td>0.250</td>\n",
       "      <td>0.3800</td>\n",
       "      <td>1.0</td>\n",
       "    </tr>\n",
       "    <tr>\n",
       "      <th>indianPerCap</th>\n",
       "      <td>1994.0</td>\n",
       "      <td>0.203506</td>\n",
       "      <td>0.164775</td>\n",
       "      <td>0.0</td>\n",
       "      <td>0.1100</td>\n",
       "      <td>0.170</td>\n",
       "      <td>0.2500</td>\n",
       "      <td>1.0</td>\n",
       "    </tr>\n",
       "    <tr>\n",
       "      <th>AsianPerCap</th>\n",
       "      <td>1994.0</td>\n",
       "      <td>0.322357</td>\n",
       "      <td>0.195411</td>\n",
       "      <td>0.0</td>\n",
       "      <td>0.1900</td>\n",
       "      <td>0.280</td>\n",
       "      <td>0.4000</td>\n",
       "      <td>1.0</td>\n",
       "    </tr>\n",
       "    <tr>\n",
       "      <th>OtherPerCap</th>\n",
       "      <td>1994.0</td>\n",
       "      <td>0.284742</td>\n",
       "      <td>0.190960</td>\n",
       "      <td>0.0</td>\n",
       "      <td>0.1700</td>\n",
       "      <td>0.250</td>\n",
       "      <td>0.3600</td>\n",
       "      <td>1.0</td>\n",
       "    </tr>\n",
       "    <tr>\n",
       "      <th>HispPerCap</th>\n",
       "      <td>1994.0</td>\n",
       "      <td>0.386279</td>\n",
       "      <td>0.183081</td>\n",
       "      <td>0.0</td>\n",
       "      <td>0.2600</td>\n",
       "      <td>0.345</td>\n",
       "      <td>0.4800</td>\n",
       "      <td>1.0</td>\n",
       "    </tr>\n",
       "    <tr>\n",
       "      <th>NumUnderPov</th>\n",
       "      <td>1994.0</td>\n",
       "      <td>0.055507</td>\n",
       "      <td>0.127941</td>\n",
       "      <td>0.0</td>\n",
       "      <td>0.0100</td>\n",
       "      <td>0.020</td>\n",
       "      <td>0.0500</td>\n",
       "      <td>1.0</td>\n",
       "    </tr>\n",
       "    <tr>\n",
       "      <th>PctPopUnderPov</th>\n",
       "      <td>1994.0</td>\n",
       "      <td>0.303024</td>\n",
       "      <td>0.228474</td>\n",
       "      <td>0.0</td>\n",
       "      <td>0.1100</td>\n",
       "      <td>0.250</td>\n",
       "      <td>0.4500</td>\n",
       "      <td>1.0</td>\n",
       "    </tr>\n",
       "    <tr>\n",
       "      <th>PctLess9thGrade</th>\n",
       "      <td>1994.0</td>\n",
       "      <td>0.315807</td>\n",
       "      <td>0.213360</td>\n",
       "      <td>0.0</td>\n",
       "      <td>0.1600</td>\n",
       "      <td>0.270</td>\n",
       "      <td>0.4200</td>\n",
       "      <td>1.0</td>\n",
       "    </tr>\n",
       "    <tr>\n",
       "      <th>...</th>\n",
       "      <td>...</td>\n",
       "      <td>...</td>\n",
       "      <td>...</td>\n",
       "      <td>...</td>\n",
       "      <td>...</td>\n",
       "      <td>...</td>\n",
       "      <td>...</td>\n",
       "      <td>...</td>\n",
       "    </tr>\n",
       "    <tr>\n",
       "      <th>MedNumBR</th>\n",
       "      <td>1994.0</td>\n",
       "      <td>0.314694</td>\n",
       "      <td>0.255182</td>\n",
       "      <td>0.0</td>\n",
       "      <td>0.0000</td>\n",
       "      <td>0.500</td>\n",
       "      <td>0.5000</td>\n",
       "      <td>1.0</td>\n",
       "    </tr>\n",
       "    <tr>\n",
       "      <th>HousVacant</th>\n",
       "      <td>1994.0</td>\n",
       "      <td>0.076815</td>\n",
       "      <td>0.150465</td>\n",
       "      <td>0.0</td>\n",
       "      <td>0.0100</td>\n",
       "      <td>0.030</td>\n",
       "      <td>0.0700</td>\n",
       "      <td>1.0</td>\n",
       "    </tr>\n",
       "    <tr>\n",
       "      <th>PctHousOccup</th>\n",
       "      <td>1994.0</td>\n",
       "      <td>0.719549</td>\n",
       "      <td>0.194024</td>\n",
       "      <td>0.0</td>\n",
       "      <td>0.6300</td>\n",
       "      <td>0.770</td>\n",
       "      <td>0.8600</td>\n",
       "      <td>1.0</td>\n",
       "    </tr>\n",
       "    <tr>\n",
       "      <th>PctHousOwnOcc</th>\n",
       "      <td>1994.0</td>\n",
       "      <td>0.548686</td>\n",
       "      <td>0.185204</td>\n",
       "      <td>0.0</td>\n",
       "      <td>0.4300</td>\n",
       "      <td>0.540</td>\n",
       "      <td>0.6700</td>\n",
       "      <td>1.0</td>\n",
       "    </tr>\n",
       "    <tr>\n",
       "      <th>PctVacantBoarded</th>\n",
       "      <td>1994.0</td>\n",
       "      <td>0.204529</td>\n",
       "      <td>0.217770</td>\n",
       "      <td>0.0</td>\n",
       "      <td>0.0600</td>\n",
       "      <td>0.130</td>\n",
       "      <td>0.2700</td>\n",
       "      <td>1.0</td>\n",
       "    </tr>\n",
       "    <tr>\n",
       "      <th>PctVacMore6Mos</th>\n",
       "      <td>1994.0</td>\n",
       "      <td>0.433335</td>\n",
       "      <td>0.188986</td>\n",
       "      <td>0.0</td>\n",
       "      <td>0.2900</td>\n",
       "      <td>0.420</td>\n",
       "      <td>0.5600</td>\n",
       "      <td>1.0</td>\n",
       "    </tr>\n",
       "    <tr>\n",
       "      <th>MedYrHousBuilt</th>\n",
       "      <td>1994.0</td>\n",
       "      <td>0.494178</td>\n",
       "      <td>0.232467</td>\n",
       "      <td>0.0</td>\n",
       "      <td>0.3500</td>\n",
       "      <td>0.520</td>\n",
       "      <td>0.6700</td>\n",
       "      <td>1.0</td>\n",
       "    </tr>\n",
       "    <tr>\n",
       "      <th>PctHousNoPhone</th>\n",
       "      <td>1994.0</td>\n",
       "      <td>0.264478</td>\n",
       "      <td>0.242847</td>\n",
       "      <td>0.0</td>\n",
       "      <td>0.0600</td>\n",
       "      <td>0.185</td>\n",
       "      <td>0.4200</td>\n",
       "      <td>1.0</td>\n",
       "    </tr>\n",
       "    <tr>\n",
       "      <th>PctWOFullPlumb</th>\n",
       "      <td>1994.0</td>\n",
       "      <td>0.243059</td>\n",
       "      <td>0.206295</td>\n",
       "      <td>0.0</td>\n",
       "      <td>0.1000</td>\n",
       "      <td>0.190</td>\n",
       "      <td>0.3300</td>\n",
       "      <td>1.0</td>\n",
       "    </tr>\n",
       "    <tr>\n",
       "      <th>OwnOccLowQuart</th>\n",
       "      <td>1994.0</td>\n",
       "      <td>0.264689</td>\n",
       "      <td>0.224425</td>\n",
       "      <td>0.0</td>\n",
       "      <td>0.0900</td>\n",
       "      <td>0.180</td>\n",
       "      <td>0.4000</td>\n",
       "      <td>1.0</td>\n",
       "    </tr>\n",
       "    <tr>\n",
       "      <th>OwnOccMedVal</th>\n",
       "      <td>1994.0</td>\n",
       "      <td>0.263490</td>\n",
       "      <td>0.231542</td>\n",
       "      <td>0.0</td>\n",
       "      <td>0.0900</td>\n",
       "      <td>0.170</td>\n",
       "      <td>0.3900</td>\n",
       "      <td>1.0</td>\n",
       "    </tr>\n",
       "    <tr>\n",
       "      <th>OwnOccHiQuart</th>\n",
       "      <td>1994.0</td>\n",
       "      <td>0.268942</td>\n",
       "      <td>0.235252</td>\n",
       "      <td>0.0</td>\n",
       "      <td>0.0900</td>\n",
       "      <td>0.180</td>\n",
       "      <td>0.3800</td>\n",
       "      <td>1.0</td>\n",
       "    </tr>\n",
       "    <tr>\n",
       "      <th>RentLowQ</th>\n",
       "      <td>1994.0</td>\n",
       "      <td>0.346379</td>\n",
       "      <td>0.219323</td>\n",
       "      <td>0.0</td>\n",
       "      <td>0.1700</td>\n",
       "      <td>0.310</td>\n",
       "      <td>0.4900</td>\n",
       "      <td>1.0</td>\n",
       "    </tr>\n",
       "    <tr>\n",
       "      <th>RentMedian</th>\n",
       "      <td>1994.0</td>\n",
       "      <td>0.372457</td>\n",
       "      <td>0.209278</td>\n",
       "      <td>0.0</td>\n",
       "      <td>0.2000</td>\n",
       "      <td>0.330</td>\n",
       "      <td>0.5200</td>\n",
       "      <td>1.0</td>\n",
       "    </tr>\n",
       "    <tr>\n",
       "      <th>RentHighQ</th>\n",
       "      <td>1994.0</td>\n",
       "      <td>0.422964</td>\n",
       "      <td>0.248286</td>\n",
       "      <td>0.0</td>\n",
       "      <td>0.2200</td>\n",
       "      <td>0.370</td>\n",
       "      <td>0.5900</td>\n",
       "      <td>1.0</td>\n",
       "    </tr>\n",
       "    <tr>\n",
       "      <th>MedRent</th>\n",
       "      <td>1994.0</td>\n",
       "      <td>0.384102</td>\n",
       "      <td>0.213404</td>\n",
       "      <td>0.0</td>\n",
       "      <td>0.2100</td>\n",
       "      <td>0.340</td>\n",
       "      <td>0.5300</td>\n",
       "      <td>1.0</td>\n",
       "    </tr>\n",
       "    <tr>\n",
       "      <th>MedRentPctHousInc</th>\n",
       "      <td>1994.0</td>\n",
       "      <td>0.490125</td>\n",
       "      <td>0.169500</td>\n",
       "      <td>0.0</td>\n",
       "      <td>0.3700</td>\n",
       "      <td>0.480</td>\n",
       "      <td>0.5900</td>\n",
       "      <td>1.0</td>\n",
       "    </tr>\n",
       "    <tr>\n",
       "      <th>MedOwnCostPctInc</th>\n",
       "      <td>1994.0</td>\n",
       "      <td>0.449754</td>\n",
       "      <td>0.187274</td>\n",
       "      <td>0.0</td>\n",
       "      <td>0.3200</td>\n",
       "      <td>0.450</td>\n",
       "      <td>0.5800</td>\n",
       "      <td>1.0</td>\n",
       "    </tr>\n",
       "    <tr>\n",
       "      <th>MedOwnCostPctIncNoMtg</th>\n",
       "      <td>1994.0</td>\n",
       "      <td>0.403816</td>\n",
       "      <td>0.192593</td>\n",
       "      <td>0.0</td>\n",
       "      <td>0.2500</td>\n",
       "      <td>0.370</td>\n",
       "      <td>0.5100</td>\n",
       "      <td>1.0</td>\n",
       "    </tr>\n",
       "    <tr>\n",
       "      <th>NumInShelters</th>\n",
       "      <td>1994.0</td>\n",
       "      <td>0.029438</td>\n",
       "      <td>0.102607</td>\n",
       "      <td>0.0</td>\n",
       "      <td>0.0000</td>\n",
       "      <td>0.000</td>\n",
       "      <td>0.0100</td>\n",
       "      <td>1.0</td>\n",
       "    </tr>\n",
       "    <tr>\n",
       "      <th>NumStreet</th>\n",
       "      <td>1994.0</td>\n",
       "      <td>0.022778</td>\n",
       "      <td>0.100400</td>\n",
       "      <td>0.0</td>\n",
       "      <td>0.0000</td>\n",
       "      <td>0.000</td>\n",
       "      <td>0.0000</td>\n",
       "      <td>1.0</td>\n",
       "    </tr>\n",
       "    <tr>\n",
       "      <th>PctForeignBorn</th>\n",
       "      <td>1994.0</td>\n",
       "      <td>0.215552</td>\n",
       "      <td>0.231134</td>\n",
       "      <td>0.0</td>\n",
       "      <td>0.0600</td>\n",
       "      <td>0.130</td>\n",
       "      <td>0.2800</td>\n",
       "      <td>1.0</td>\n",
       "    </tr>\n",
       "    <tr>\n",
       "      <th>PctBornSameState</th>\n",
       "      <td>1994.0</td>\n",
       "      <td>0.608892</td>\n",
       "      <td>0.204329</td>\n",
       "      <td>0.0</td>\n",
       "      <td>0.4700</td>\n",
       "      <td>0.630</td>\n",
       "      <td>0.7775</td>\n",
       "      <td>1.0</td>\n",
       "    </tr>\n",
       "    <tr>\n",
       "      <th>PctSameHouse85</th>\n",
       "      <td>1994.0</td>\n",
       "      <td>0.535050</td>\n",
       "      <td>0.181352</td>\n",
       "      <td>0.0</td>\n",
       "      <td>0.4200</td>\n",
       "      <td>0.540</td>\n",
       "      <td>0.6600</td>\n",
       "      <td>1.0</td>\n",
       "    </tr>\n",
       "    <tr>\n",
       "      <th>PctSameCity85</th>\n",
       "      <td>1994.0</td>\n",
       "      <td>0.626424</td>\n",
       "      <td>0.200521</td>\n",
       "      <td>0.0</td>\n",
       "      <td>0.5200</td>\n",
       "      <td>0.670</td>\n",
       "      <td>0.7700</td>\n",
       "      <td>1.0</td>\n",
       "    </tr>\n",
       "    <tr>\n",
       "      <th>PctSameState85</th>\n",
       "      <td>1994.0</td>\n",
       "      <td>0.651530</td>\n",
       "      <td>0.198221</td>\n",
       "      <td>0.0</td>\n",
       "      <td>0.5600</td>\n",
       "      <td>0.700</td>\n",
       "      <td>0.7900</td>\n",
       "      <td>1.0</td>\n",
       "    </tr>\n",
       "    <tr>\n",
       "      <th>LandArea</th>\n",
       "      <td>1994.0</td>\n",
       "      <td>0.065231</td>\n",
       "      <td>0.109459</td>\n",
       "      <td>0.0</td>\n",
       "      <td>0.0200</td>\n",
       "      <td>0.040</td>\n",
       "      <td>0.0700</td>\n",
       "      <td>1.0</td>\n",
       "    </tr>\n",
       "    <tr>\n",
       "      <th>PopDens</th>\n",
       "      <td>1994.0</td>\n",
       "      <td>0.232854</td>\n",
       "      <td>0.203092</td>\n",
       "      <td>0.0</td>\n",
       "      <td>0.1000</td>\n",
       "      <td>0.170</td>\n",
       "      <td>0.2800</td>\n",
       "      <td>1.0</td>\n",
       "    </tr>\n",
       "    <tr>\n",
       "      <th>PctUsePubTrans</th>\n",
       "      <td>1994.0</td>\n",
       "      <td>0.161685</td>\n",
       "      <td>0.229055</td>\n",
       "      <td>0.0</td>\n",
       "      <td>0.0200</td>\n",
       "      <td>0.070</td>\n",
       "      <td>0.1900</td>\n",
       "      <td>1.0</td>\n",
       "    </tr>\n",
       "    <tr>\n",
       "      <th>ViolentCrimesPerPop</th>\n",
       "      <td>1994.0</td>\n",
       "      <td>0.237979</td>\n",
       "      <td>0.232985</td>\n",
       "      <td>0.0</td>\n",
       "      <td>0.0700</td>\n",
       "      <td>0.150</td>\n",
       "      <td>0.3300</td>\n",
       "      <td>1.0</td>\n",
       "    </tr>\n",
       "  </tbody>\n",
       "</table>\n",
       "<p>98 rows × 8 columns</p>\n",
       "</div>"
      ],
      "text/plain": [
       "                        count      mean       std  min     25%    50%     75%  \\\n",
       "population             1994.0  0.057593  0.126906  0.0  0.0100  0.020  0.0500   \n",
       "householdsize          1994.0  0.463395  0.163717  0.0  0.3500  0.440  0.5400   \n",
       "racepctblack           1994.0  0.179629  0.253442  0.0  0.0200  0.060  0.2300   \n",
       "racePctWhite           1994.0  0.753716  0.244039  0.0  0.6300  0.850  0.9400   \n",
       "racePctAsian           1994.0  0.153681  0.208877  0.0  0.0400  0.070  0.1700   \n",
       "racePctHisp            1994.0  0.144022  0.232492  0.0  0.0100  0.040  0.1600   \n",
       "agePct12t21            1994.0  0.424218  0.155196  0.0  0.3400  0.400  0.4700   \n",
       "agePct12t29            1994.0  0.493867  0.143564  0.0  0.4100  0.480  0.5400   \n",
       "agePct16t24            1994.0  0.336264  0.166505  0.0  0.2500  0.290  0.3600   \n",
       "agePct65up             1994.0  0.423164  0.179185  0.0  0.3000  0.420  0.5300   \n",
       "numbUrban              1994.0  0.064072  0.128256  0.0  0.0000  0.030  0.0700   \n",
       "pctUrban               1994.0  0.696269  0.444811  0.0  0.0000  1.000  1.0000   \n",
       "medIncome              1994.0  0.361123  0.209362  0.0  0.2000  0.320  0.4900   \n",
       "pctWWage               1994.0  0.558154  0.182913  0.0  0.4400  0.560  0.6900   \n",
       "pctWFarmSelf           1994.0  0.291570  0.204108  0.0  0.1600  0.230  0.3700   \n",
       "pctWInvInc             1994.0  0.495687  0.178071  0.0  0.3700  0.480  0.6200   \n",
       "pctWSocSec             1994.0  0.471133  0.173619  0.0  0.3500  0.475  0.5800   \n",
       "pctWPubAsst            1994.0  0.317778  0.222137  0.0  0.1425  0.260  0.4400   \n",
       "pctWRetire             1994.0  0.479248  0.167564  0.0  0.3600  0.470  0.5800   \n",
       "medFamInc              1994.0  0.375677  0.198257  0.0  0.2300  0.330  0.4800   \n",
       "perCapInc              1994.0  0.350251  0.191109  0.0  0.2200  0.300  0.4300   \n",
       "whitePerCap            1994.0  0.368049  0.186804  0.0  0.2400  0.320  0.4400   \n",
       "blackPerCap            1994.0  0.291098  0.171593  0.0  0.1725  0.250  0.3800   \n",
       "indianPerCap           1994.0  0.203506  0.164775  0.0  0.1100  0.170  0.2500   \n",
       "AsianPerCap            1994.0  0.322357  0.195411  0.0  0.1900  0.280  0.4000   \n",
       "OtherPerCap            1994.0  0.284742  0.190960  0.0  0.1700  0.250  0.3600   \n",
       "HispPerCap             1994.0  0.386279  0.183081  0.0  0.2600  0.345  0.4800   \n",
       "NumUnderPov            1994.0  0.055507  0.127941  0.0  0.0100  0.020  0.0500   \n",
       "PctPopUnderPov         1994.0  0.303024  0.228474  0.0  0.1100  0.250  0.4500   \n",
       "PctLess9thGrade        1994.0  0.315807  0.213360  0.0  0.1600  0.270  0.4200   \n",
       "...                       ...       ...       ...  ...     ...    ...     ...   \n",
       "MedNumBR               1994.0  0.314694  0.255182  0.0  0.0000  0.500  0.5000   \n",
       "HousVacant             1994.0  0.076815  0.150465  0.0  0.0100  0.030  0.0700   \n",
       "PctHousOccup           1994.0  0.719549  0.194024  0.0  0.6300  0.770  0.8600   \n",
       "PctHousOwnOcc          1994.0  0.548686  0.185204  0.0  0.4300  0.540  0.6700   \n",
       "PctVacantBoarded       1994.0  0.204529  0.217770  0.0  0.0600  0.130  0.2700   \n",
       "PctVacMore6Mos         1994.0  0.433335  0.188986  0.0  0.2900  0.420  0.5600   \n",
       "MedYrHousBuilt         1994.0  0.494178  0.232467  0.0  0.3500  0.520  0.6700   \n",
       "PctHousNoPhone         1994.0  0.264478  0.242847  0.0  0.0600  0.185  0.4200   \n",
       "PctWOFullPlumb         1994.0  0.243059  0.206295  0.0  0.1000  0.190  0.3300   \n",
       "OwnOccLowQuart         1994.0  0.264689  0.224425  0.0  0.0900  0.180  0.4000   \n",
       "OwnOccMedVal           1994.0  0.263490  0.231542  0.0  0.0900  0.170  0.3900   \n",
       "OwnOccHiQuart          1994.0  0.268942  0.235252  0.0  0.0900  0.180  0.3800   \n",
       "RentLowQ               1994.0  0.346379  0.219323  0.0  0.1700  0.310  0.4900   \n",
       "RentMedian             1994.0  0.372457  0.209278  0.0  0.2000  0.330  0.5200   \n",
       "RentHighQ              1994.0  0.422964  0.248286  0.0  0.2200  0.370  0.5900   \n",
       "MedRent                1994.0  0.384102  0.213404  0.0  0.2100  0.340  0.5300   \n",
       "MedRentPctHousInc      1994.0  0.490125  0.169500  0.0  0.3700  0.480  0.5900   \n",
       "MedOwnCostPctInc       1994.0  0.449754  0.187274  0.0  0.3200  0.450  0.5800   \n",
       "MedOwnCostPctIncNoMtg  1994.0  0.403816  0.192593  0.0  0.2500  0.370  0.5100   \n",
       "NumInShelters          1994.0  0.029438  0.102607  0.0  0.0000  0.000  0.0100   \n",
       "NumStreet              1994.0  0.022778  0.100400  0.0  0.0000  0.000  0.0000   \n",
       "PctForeignBorn         1994.0  0.215552  0.231134  0.0  0.0600  0.130  0.2800   \n",
       "PctBornSameState       1994.0  0.608892  0.204329  0.0  0.4700  0.630  0.7775   \n",
       "PctSameHouse85         1994.0  0.535050  0.181352  0.0  0.4200  0.540  0.6600   \n",
       "PctSameCity85          1994.0  0.626424  0.200521  0.0  0.5200  0.670  0.7700   \n",
       "PctSameState85         1994.0  0.651530  0.198221  0.0  0.5600  0.700  0.7900   \n",
       "LandArea               1994.0  0.065231  0.109459  0.0  0.0200  0.040  0.0700   \n",
       "PopDens                1994.0  0.232854  0.203092  0.0  0.1000  0.170  0.2800   \n",
       "PctUsePubTrans         1994.0  0.161685  0.229055  0.0  0.0200  0.070  0.1900   \n",
       "ViolentCrimesPerPop    1994.0  0.237979  0.232985  0.0  0.0700  0.150  0.3300   \n",
       "\n",
       "                       max  \n",
       "population             1.0  \n",
       "householdsize          1.0  \n",
       "racepctblack           1.0  \n",
       "racePctWhite           1.0  \n",
       "racePctAsian           1.0  \n",
       "racePctHisp            1.0  \n",
       "agePct12t21            1.0  \n",
       "agePct12t29            1.0  \n",
       "agePct16t24            1.0  \n",
       "agePct65up             1.0  \n",
       "numbUrban              1.0  \n",
       "pctUrban               1.0  \n",
       "medIncome              1.0  \n",
       "pctWWage               1.0  \n",
       "pctWFarmSelf           1.0  \n",
       "pctWInvInc             1.0  \n",
       "pctWSocSec             1.0  \n",
       "pctWPubAsst            1.0  \n",
       "pctWRetire             1.0  \n",
       "medFamInc              1.0  \n",
       "perCapInc              1.0  \n",
       "whitePerCap            1.0  \n",
       "blackPerCap            1.0  \n",
       "indianPerCap           1.0  \n",
       "AsianPerCap            1.0  \n",
       "OtherPerCap            1.0  \n",
       "HispPerCap             1.0  \n",
       "NumUnderPov            1.0  \n",
       "PctPopUnderPov         1.0  \n",
       "PctLess9thGrade        1.0  \n",
       "...                    ...  \n",
       "MedNumBR               1.0  \n",
       "HousVacant             1.0  \n",
       "PctHousOccup           1.0  \n",
       "PctHousOwnOcc          1.0  \n",
       "PctVacantBoarded       1.0  \n",
       "PctVacMore6Mos         1.0  \n",
       "MedYrHousBuilt         1.0  \n",
       "PctHousNoPhone         1.0  \n",
       "PctWOFullPlumb         1.0  \n",
       "OwnOccLowQuart         1.0  \n",
       "OwnOccMedVal           1.0  \n",
       "OwnOccHiQuart          1.0  \n",
       "RentLowQ               1.0  \n",
       "RentMedian             1.0  \n",
       "RentHighQ              1.0  \n",
       "MedRent                1.0  \n",
       "MedRentPctHousInc      1.0  \n",
       "MedOwnCostPctInc       1.0  \n",
       "MedOwnCostPctIncNoMtg  1.0  \n",
       "NumInShelters          1.0  \n",
       "NumStreet              1.0  \n",
       "PctForeignBorn         1.0  \n",
       "PctBornSameState       1.0  \n",
       "PctSameHouse85         1.0  \n",
       "PctSameCity85          1.0  \n",
       "PctSameState85         1.0  \n",
       "LandArea               1.0  \n",
       "PopDens                1.0  \n",
       "PctUsePubTrans         1.0  \n",
       "ViolentCrimesPerPop    1.0  \n",
       "\n",
       "[98 rows x 8 columns]"
      ]
     },
     "execution_count": 61,
     "metadata": {},
     "output_type": "execute_result"
    }
   ],
   "source": [
    "#summary\n",
    "num_community.describe().T"
   ]
  },
  {
   "cell_type": "markdown",
   "metadata": {},
   "source": [
    "### Separate the target attribute for regression"
   ]
  },
  {
   "cell_type": "code",
   "execution_count": 68,
   "metadata": {
    "collapsed": false
   },
   "outputs": [],
   "source": [
    "y=num_community['ViolentCrimesPerPop']\n",
    "x=num_community.drop('ViolentCrimesPerPop',axis=1)"
   ]
  },
  {
   "cell_type": "code",
   "execution_count": 69,
   "metadata": {
    "collapsed": false
   },
   "outputs": [
    {
     "data": {
      "text/plain": [
       "((1994,), (1994, 97))"
      ]
     },
     "execution_count": 69,
     "metadata": {},
     "output_type": "execute_result"
    }
   ],
   "source": [
    "y.shape,x.shape"
   ]
  },
  {
   "cell_type": "markdown",
   "metadata": {},
   "source": [
    "## 1b.\n",
    "\n",
    "Perform standard linear regression on data using the implementation for Ch. 8 of MLA. Compute the RMSE value on the full training data. Also, plot the correlation between the predicted and actual values of the target attribute. Display the obtained regression coefficients (weights). Finally, perform 10-fold cross-validation and compare the cross-validation RMSE to the training RMSE (for cross validation, you may use the KFold module from sklearn.cross_validation)."
   ]
  },
  {
   "cell_type": "markdown",
   "metadata": {},
   "source": [
    "### standard linear regression (MLA) "
   ]
  },
  {
   "cell_type": "code",
   "execution_count": 80,
   "metadata": {
    "collapsed": true
   },
   "outputs": [],
   "source": [
    "def standRegres(xArr,yArr):\n",
    "    xMat = np.mat(xArr); yMat = np.mat(yArr).T\n",
    "    xTx = xMat.T*xMat\n",
    "    if np.linalg.det(xTx) == 0.0:\n",
    "        print \"This matrix is singular, cannot do inverse\"\n",
    "        return\n",
    "    ws = xTx.I * (xMat.T*yMat)\n",
    "    return ws"
   ]
  },
  {
   "cell_type": "code",
   "execution_count": 82,
   "metadata": {
    "collapsed": false
   },
   "outputs": [
    {
     "name": "stdout",
     "output_type": "stream",
     "text": [
      "Train:  \n",
      "[[ 0.19  0.33  0.02 ...,  0.26  0.2   1.  ]\n",
      " [ 0.    0.16  0.12 ...,  0.12  0.45  1.  ]\n",
      " [ 0.    0.42  0.49 ...,  0.21  0.02  1.  ]\n",
      " ..., \n",
      " [ 0.16  0.37  0.25 ...,  0.32  0.18  1.  ]\n",
      " [ 0.08  0.51  0.06 ...,  0.38  0.33  1.  ]\n",
      " [ 0.2   0.78  0.14 ...,  0.3   0.05  1.  ]] \n",
      "\n",
      "\n",
      "Target:  \n",
      "[ 0.2   0.67  0.43 ...,  0.23  0.19  0.48]\n"
     ]
    }
   ],
   "source": [
    "X= np.array([np.concatenate((v,[1])) for v in np.array(x)])\n",
    "Y= np.array(y)\n",
    "print \"Train: \", '\\n',X,'\\n\\n\\n' , \"Target: \",'\\n',Y"
   ]
  },
  {
   "cell_type": "code",
   "execution_count": 83,
   "metadata": {
    "collapsed": true
   },
   "outputs": [],
   "source": [
    "#coefficient\n",
    "w = standRegres(X,Y)"
   ]
  },
  {
   "cell_type": "code",
   "execution_count": 91,
   "metadata": {
    "collapsed": false
   },
   "outputs": [
    {
     "name": "stdout",
     "output_type": "stream",
     "text": [
      "[[ 0.16551838]\n",
      " [ 0.29062973]\n",
      " [ 0.38367799]\n",
      " [ 0.32270857]\n",
      " [-0.02129155]\n",
      " [ 0.23017938]\n",
      " [ 0.08800201]\n",
      " [ 0.4423392 ]\n",
      " [ 0.23747971]\n",
      " [ 0.00526097]]\n"
     ]
    }
   ],
   "source": [
    "#prediction\n",
    "xMat=np.mat(X)\n",
    "yMat=np.mat(Y)\n",
    "yHat = xMat*w\n",
    "print yHat[0:10]"
   ]
  },
  {
   "cell_type": "code",
   "execution_count": 94,
   "metadata": {
    "collapsed": false
   },
   "outputs": [
    {
     "name": "stdout",
     "output_type": "stream",
     "text": [
      "[[ 0.2 ]\n",
      " [ 0.67]\n",
      " [ 0.43]\n",
      " [ 0.12]\n",
      " [ 0.03]\n",
      " [ 0.14]\n",
      " [ 0.03]\n",
      " [ 0.55]\n",
      " [ 0.53]\n",
      " [ 0.15]]\n"
     ]
    }
   ],
   "source": [
    "#actual\n",
    "print yMat.T[0:10]"
   ]
  },
  {
   "cell_type": "markdown",
   "metadata": {},
   "source": [
    "### RMSE "
   ]
  },
  {
   "cell_type": "code",
   "execution_count": 107,
   "metadata": {
    "collapsed": false
   },
   "outputs": [
    {
     "name": "stdout",
     "output_type": "stream",
     "text": [
      "[[ 0.03448162]\n",
      " [ 0.37937027]\n",
      " [ 0.04632201]\n",
      " [ 0.20270857]\n",
      " [ 0.05129155]\n",
      " [ 0.09017938]\n",
      " [ 0.05800201]\n",
      " [ 0.1076608 ]\n",
      " [ 0.29252029]\n",
      " [ 0.14473903]]\n"
     ]
    }
   ],
   "source": [
    "# Now we can constuct a vector of errors\n",
    "err = abs(yHat-yMat.T)\n",
    "\n",
    "# Let's see the error on the first 10 predictions\n",
    "print err[:10]"
   ]
  },
  {
   "cell_type": "code",
   "execution_count": 111,
   "metadata": {
    "collapsed": false
   },
   "outputs": [
    {
     "name": "stdout",
     "output_type": "stream",
     "text": [
      "[[ 33.12538681]]\n"
     ]
    }
   ],
   "source": [
    "# Dot product of error vector with itself gives us the sum of squared errors\n",
    "total_error = np.dot(err.T,err)\n",
    "print total_error "
   ]
  },
  {
   "cell_type": "code",
   "execution_count": 112,
   "metadata": {
    "collapsed": false
   },
   "outputs": [
    {
     "name": "stdout",
     "output_type": "stream",
     "text": [
      "The RMSE : 0.1289\n"
     ]
    }
   ],
   "source": [
    "# Compute RMSE\n",
    "rmse_train = np.sqrt(total_error/len(yHat))\n",
    "print \"The RMSE : %0.4f\" % rmse_train"
   ]
  },
  {
   "cell_type": "markdown",
   "metadata": {},
   "source": [
    "### correlation between y and x"
   ]
  },
  {
   "cell_type": "code",
   "execution_count": 116,
   "metadata": {
    "collapsed": false
   },
   "outputs": [
    {
     "data": {
      "image/png": "[encoded data removed]",
      "text/plain": [
       "<matplotlib.figure.Figure at 0x11e2e15d0>"
      ]
     },
     "metadata": {},
     "output_type": "display_data"
    }
   ],
   "source": [
    "# Plot outputs\n",
    "import pylab as pl\n",
    "%matplotlib inline\n",
    "pl.plot(yHat.T, yMat,'ro')\n",
    "pl.plot([0,1.2],[0,1.2], 'g-')\n",
    "pl.xlabel('predicted')\n",
    "pl.ylabel('real')\n",
    "pl.show()"
   ]
  },
  {
   "cell_type": "markdown",
   "metadata": {},
   "source": [
    "Highly correlated between predicted and real value"
   ]
  },
  {
   "cell_type": "markdown",
   "metadata": {},
   "source": [
    "### regression coefficients (weights)"
   ]
  },
  {
   "cell_type": "code",
   "execution_count": 90,
   "metadata": {
    "collapsed": false
   },
   "outputs": [
    {
     "name": "stdout",
     "output_type": "stream",
     "text": [
      "[[  1.31108068e-01  -3.14114977e-02   2.09909670e-01  -4.05351612e-02\n",
      "   -1.38892919e-02   5.89726825e-02   1.23399025e-01  -2.22621600e-01\n",
      "   -1.47500199e-01   5.01635477e-02  -2.42413829e-01   4.64024392e-02\n",
      "   -1.96945615e-01  -2.06117500e-01   4.65935490e-02  -1.77212915e-01\n",
      "    6.30148504e-02   1.14942190e-02  -9.08951848e-02   2.74640044e-01\n",
      "    1.01752476e-01  -3.31517562e-01  -2.91799268e-02  -3.54483393e-02\n",
      "    2.26173855e-02   4.30950137e-02   3.44408548e-02   1.28412458e-01\n",
      "   -1.91293360e-01  -1.00769002e-01   6.46856092e-02   1.06062117e-01\n",
      "    2.44126002e-06   2.34984611e-01  -3.75705330e-02  -7.74957660e-03\n",
      "    4.66779619e-01   2.26295907e-01   1.74621953e-01  -5.75206227e-01\n",
      "   -1.41954207e-01   5.68782538e-02  -3.51066745e-01  -3.49493414e-02\n",
      "    4.63705978e-04   5.57016681e-02  -1.82238360e-01  -1.54646442e-01\n",
      "    1.26172899e-01  -1.44320569e-01   2.39071713e-02   3.33390229e-02\n",
      "   -7.42297409e-02   3.59876412e-02  -3.31691535e-02  -2.18174916e-01\n",
      "    4.45777391e-01  -2.00030978e-01  -2.67307658e-02  -1.41457254e-01\n",
      "    6.38133109e-02  -2.10115806e-01   6.51276465e-01  -8.02774919e-02\n",
      "   -2.53817057e-01  -6.66334925e-01   2.01002575e-01   1.03326247e-01\n",
      "    2.88599766e-02   1.68314795e-01  -4.00752791e-02   5.53867355e-01\n",
      "    4.70396419e-02  -7.64314747e-02  -2.89277350e-02   1.40739015e-02\n",
      "   -1.40629951e-02  -3.46854609e-01   2.67796471e-01   1.19446906e-02\n",
      "   -2.36996317e-01  -2.60764386e-02  -6.84041742e-02   3.74730887e-01\n",
      "    4.17402525e-02  -4.45747318e-02  -8.34683479e-02   1.30736305e-01\n",
      "    1.83468559e-01   1.26046949e-01   4.63490658e-03  -2.24577196e-02\n",
      "    2.88627319e-02   1.30622513e-02   2.76170980e-02  -1.24479622e-02\n",
      "   -3.73099899e-02   5.88079813e-01]]\n"
     ]
    }
   ],
   "source": [
    "print w.T"
   ]
  },
  {
   "cell_type": "markdown",
   "metadata": {},
   "source": [
    "### 10-fold cross-validation and comapre"
   ]
  },
  {
   "cell_type": "code",
   "execution_count": 133,
   "metadata": {
    "collapsed": false
   },
   "outputs": [],
   "source": [
    "from sklearn.cross_validation import KFold\n",
    "# Now let's compute RMSE using 10-fold x-validation\n",
    "kf = KFold(len(X), n_folds=10)\n",
    "xval_err = 0\n",
    "for train,test in kf:\n",
    "    w=standRegres(X[train],Y[train])\n",
    "    # p = np.array([linreg.predict(xi) for xi in x[test]])\n",
    "    p = (np.mat(X[test])*w).T\n",
    "    e = abs(p-np.mat(Y[test]))\n",
    "    xval_err += np.dot(e,e.T)\n",
    "    \n",
    "rmse_10cv = np.sqrt(xval_err/len(X))"
   ]
  },
  {
   "cell_type": "code",
   "execution_count": 134,
   "metadata": {
    "collapsed": false
   },
   "outputs": [
    {
     "name": "stdout",
     "output_type": "stream",
     "text": [
      "Method: MLA\n",
      "RMSE on training: 0.1289\n",
      "RMSE on 10-fold CV: 0.1363\n"
     ]
    }
   ],
   "source": [
    "method_name = 'MLA'\n",
    "print('Method: %s' %method_name)\n",
    "print('RMSE on training: %.4f' %rmse_train)\n",
    "print('RMSE on 10-fold CV: %.4f' %rmse_10cv)"
   ]
  },
  {
   "cell_type": "markdown",
   "metadata": {},
   "source": [
    "## 1c.\n",
    "\n",
    "\n",
    "Feature Selection:  use the scikit-learn regression model from sklearn.linear_model with a subset of features to perform linear regression. For feature selection, write a script or function that takes as input the training data, target attribute; the model; and any other parameters you find necessary, and returns the optimal percentage of the most informative features to use. Your approach should use k-fold cross-validation on the training data (you can use k=5). You can use feature_selection.SelectPercentile to find the most informative variables. Show the list of most informative variables and their weights [Note: since this is regression not classification, you should use feature_selection.f_regression as scoring function rather than chi2). Next, plot the model's mean absolute error values  on cross-validation relative to the percentage of selected features (See scikit-learn's metrics.mean_absolute_error). In order to use cross_validation.cross_val_score with regression you'll need to pass to it scoring='mean_absolute_error' as a parameter. [Hint: for an example of a similar feature selection process please review the class example notebook. Also, review scikit-learn documentation for feature selection.]"
   ]
  },
  {
   "cell_type": "markdown",
   "metadata": {},
   "source": [
    "###  linear regression (scikit-learn regression model ) "
   ]
  },
  {
   "cell_type": "code",
   "execution_count": 141,
   "metadata": {
    "collapsed": true
   },
   "outputs": [],
   "source": [
    "from sklearn.cross_validation import KFold\n",
    "from sklearn.linear_model import LinearRegression\n",
    "from sklearn import feature_selection\n",
    "from sklearn import cross_validation"
   ]
  },
  {
   "cell_type": "code",
   "execution_count": 188,
   "metadata": {
    "collapsed": false
   },
   "outputs": [
    {
     "data": {
      "text/plain": [
       "LinearRegression(copy_X=True, fit_intercept=True, n_jobs=1, normalize=False)"
      ]
     },
     "execution_count": 188,
     "metadata": {},
     "output_type": "execute_result"
    }
   ],
   "source": [
    "linreg = LinearRegression()\n",
    "linreg.fit(X,Y)"
   ]
  },
  {
   "cell_type": "code",
   "execution_count": 189,
   "metadata": {
    "collapsed": false
   },
   "outputs": [
    {
     "name": "stdout",
     "output_type": "stream",
     "text": [
      "[ 0.16551838  0.29062973  0.38367799  0.32270857 -0.02129155  0.23017938\n",
      "  0.08800201  0.4423392   0.23747971  0.00526097]\n"
     ]
    }
   ],
   "source": [
    "#prediction\n",
    "print linreg.predict(X[:10])"
   ]
  },
  {
   "cell_type": "markdown",
   "metadata": {},
   "source": [
    "### feature selection"
   ]
  },
  {
   "cell_type": "code",
   "execution_count": 191,
   "metadata": {
    "collapsed": true
   },
   "outputs": [],
   "source": [
    "linreg = LinearRegression()\n",
    "def optimal_percentage (train,target,model):   \n",
    "    \n",
    "    percentiles = range(1, 100, 5)\n",
    "    results = []\n",
    "    for i in range(1, 100, 5):\n",
    "        \n",
    "        fs = feature_selection.SelectPercentile(feature_selection.f_regression, percentile=i)\n",
    "        X_train_fs = fs.fit_transform(train, target)\n",
    "        scores = abs(cross_validation.cross_val_score(model, X_train_fs, target, cv=5, scoring='neg_mean_absolute_error'))\n",
    "        results = np.append(results, scores.mean())\n",
    "\n",
    "    optimal_percentil = np.where(results == results.min())[0]\n",
    "    return percentiles[optimal_percentil],results"
   ]
  },
  {
   "cell_type": "code",
   "execution_count": 194,
   "metadata": {
    "collapsed": false
   },
   "outputs": [
    {
     "name": "stdout",
     "output_type": "stream",
     "text": [
      "optimal_percentile to use:  36\n"
     ]
    },
    {
     "name": "stderr",
     "output_type": "stream",
     "text": [
      "/Users/jasonwu/anaconda/lib/python2.7/site-packages/ipykernel/__main__.py:14: VisibleDeprecationWarning: converting an array with ndim > 0 to an index will result in an error in the future\n"
     ]
    }
   ],
   "source": [
    "print \"optimal_percentile to use: \", optimal_percentage(X,Y,linreg)[0]"
   ]
  },
  {
   "cell_type": "markdown",
   "metadata": {},
   "source": [
    "### the list of most informative variables and their weights "
   ]
  },
  {
   "cell_type": "code",
   "execution_count": 198,
   "metadata": {
    "collapsed": false
   },
   "outputs": [
    {
     "name": "stdout",
     "output_type": "stream",
     "text": [
      "population \t310.369918779\n",
      "racepctblack \t1319.68643314\n",
      "racePctWhite \t1758.77227347\n",
      "numbUrban \t302.12358082\n",
      "medIncome \t437.1590743\n",
      "pctWInvInc \t990.700974651\n",
      "pctWPubAsst \t982.200467892\n",
      "medFamInc \t475.837601763\n",
      "perCapInc \t281.878264885\n",
      "NumUnderPov \t499.025448645\n",
      "PctPopUnderPov \t745.599159432\n",
      "PctLess9thGrade \t405.110531951\n",
      "PctNotHSGrad \t607.30932519\n",
      "PctUnemployed \t679.145660493\n",
      "MalePctDivorce \t759.581937457\n",
      "FemalePctDiv \t891.494024673\n",
      "TotalPctDiv \t876.510085951\n",
      "PctFam2Par \t1987.05731023\n",
      "PctKids2Par \t2388.61868809\n",
      "PctYoungKids2Par \t1588.37986036\n",
      "PctTeen2Par \t1550.53163637\n",
      "NumIlleg \t567.975360335\n",
      "PctIlleg \t2381.98320035\n",
      "PctLargHouseFam \t343.442480513\n",
      "PctPersOwnOccup \t759.916937383\n",
      "PctPersDenseHous \t514.036224481\n",
      "PctHousLess3BR \t578.789197875\n",
      "MedNumBR \t291.680471184\n",
      "HousVacant \t430.103642138\n",
      "PctHousOwnOcc \t566.905240411\n",
      "PctVacantBoarded \t605.507916549\n",
      "PctHousNoPhone \t623.483263567\n",
      "PctWOFullPlumb \t305.118590384\n",
      "NumInShelters \t327.491789621\n",
      "NumStreet \t260.854152995\n"
     ]
    }
   ],
   "source": [
    "fs = feature_selection.SelectPercentile(feature_selection.f_regression, percentile=36)\n",
    "X_train_fs = fs.fit_transform(X, Y)\n",
    "for i in range(len(x.columns.values)):\n",
    "    if fs.get_support()[i]:\n",
    "        print x.columns.values[i],'\\t', fs.scores_[i] "
   ]
  },
  {
   "cell_type": "markdown",
   "metadata": {},
   "source": [
    "### plot"
   ]
  },
  {
   "cell_type": "code",
   "execution_count": 195,
   "metadata": {
    "collapsed": false
   },
   "outputs": [
    {
     "name": "stderr",
     "output_type": "stream",
     "text": [
      "/Users/jasonwu/anaconda/lib/python2.7/site-packages/ipykernel/__main__.py:14: VisibleDeprecationWarning: converting an array with ndim > 0 to an index will result in an error in the future\n"
     ]
    },
    {
     "data": {
      "text/plain": [
       "[<matplotlib.lines.Line2D at 0x11e32a610>]"
      ]
     },
     "execution_count": 195,
     "metadata": {},
     "output_type": "execute_result"
    },
    {
     "data": {
      "image/png": "[encoded data removed]",
      "text/plain": [
       "<matplotlib.figure.Figure at 0x115b0cbd0>"
      ]
     },
     "metadata": {},
     "output_type": "display_data"
    }
   ],
   "source": [
    "# Plot percentile of features VS. cross-validation scores\n",
    "import pylab as pl\n",
    "percentiles = range(1, 100, 5)\n",
    "pl.figure()\n",
    "pl.xlabel(\"Percentage of features selected\")\n",
    "pl.ylabel(\"Cross validation accuracy\")\n",
    "pl.plot(percentiles,optimal_percentage(X,Y,linreg)[1])"
   ]
  },
  {
   "cell_type": "markdown",
   "metadata": {},
   "source": [
    "## 1d.\n",
    "\n",
    "Next, perform Ridge Regression and Lasso Regression, however this time use the modules from sklearn.linear_model. In each case, perform systematic model selection to identify the optimal alpha parameter. First, create a 20%-80% randomized split of the data. Set aside the test portion; the model selection process should be performed using the 80% training data partition. You should create a function that takes as input the data and target attribute; the parameter to vary and a list of its values; the model to be trained; and any other relevant input needed to determine the optimal value for the specified parameter. The model selection process should perform k-fold cross validation (k should be a parameter, but you can select k=5 for this problem). You should also plot the error values on the training and cross-validation splits across the specified values of the alpha parameter. Finally, using the best alpha value, run the model on the set-aside test data. Discuss your observation and conclusions. [Hint: for an example of a similar model selection process please review the class example notebook.]\n"
   ]
  },
  {
   "cell_type": "markdown",
   "metadata": {},
   "source": [
    "### 20%-80% randomized split of the data."
   ]
  },
  {
   "cell_type": "code",
   "execution_count": 214,
   "metadata": {
    "collapsed": false
   },
   "outputs": [],
   "source": [
    "from sklearn.cross_validation import train_test_split\n",
    "\n",
    "X_train, X_test, y_train, y_test = train_test_split(X, Y, test_size=0.2, random_state=50)"
   ]
  },
  {
   "cell_type": "markdown",
   "metadata": {},
   "source": [
    "### Function"
   ]
  },
  {
   "cell_type": "code",
   "execution_count": 215,
   "metadata": {
    "collapsed": true
   },
   "outputs": [],
   "source": [
    "from sklearn.cross_validation import KFold\n",
    "from sklearn.metrics import mean_absolute_error\n",
    "\n",
    "def calc_params(X, y, clf, param_values, param_name, K):\n",
    "    \n",
    "    # Convert input to Numpy arrays\n",
    "    X = np.array(X)\n",
    "    y = np.array(y)\n",
    "\n",
    "    # initialize training and testing scores with zeros\n",
    "    train_scores = np.zeros(len(param_values))\n",
    "    test_scores = np.zeros(len(param_values))\n",
    "    \n",
    "    # iterate over the different parameter values\n",
    "    for i, param_value in enumerate(param_values):\n",
    "        #print param_name, ' = ', param_value\n",
    "        \n",
    "        # set classifier parameters\n",
    "        clf.set_params(**{param_name:param_value})\n",
    "        \n",
    "        # initialize the K scores obtained for each fold\n",
    "        k_train_scores = np.zeros(K)\n",
    "        k_test_scores = np.zeros(K)\n",
    "        \n",
    "        # create KFold cross validation\n",
    "        cv = KFold(len(X), K, shuffle=True, random_state=50)\n",
    "        \n",
    "        # iterate over the K folds\n",
    "        for j, (train, test) in enumerate(cv):\n",
    "            # fit the classifier in the corresponding fold\n",
    "            # and obtain the corresponding accuracy scores on train and test sets\n",
    "            clf.fit([X[k] for k in train], y[train])\n",
    "            k_train_scores[j] = mean_absolute_error(clf.predict(X[train]), y[train])\n",
    "            k_test_scores[j] = mean_absolute_error(clf.predict(X[test]), y[test])\n",
    "            \n",
    "        # store the mean of the K fold scores\n",
    "        train_scores[i] = np.mean(k_train_scores)\n",
    "        test_scores[i] = np.mean(k_test_scores)\n",
    "       \n",
    "    # plot the training and testing scores in a log scale\n",
    "    plt.plot(param_values, train_scores, label='Train', alpha=0.4, lw=2, c='b')\n",
    "    plt.plot(param_values, test_scores, label='X-Val', alpha=0.4, lw=2, c='g')\n",
    "    plt.legend(loc=7)\n",
    "    plt.xlabel(param_name + \" values\")\n",
    "    plt.ylabel(\"Mean Absolute Error\")\n",
    "\n",
    "    # return the training and testing scores on each parameter value\n",
    "    return train_scores, test_scores"
   ]
  },
  {
   "cell_type": "code",
   "execution_count": 216,
   "metadata": {
    "collapsed": true
   },
   "outputs": [],
   "source": [
    "alpha = np.linspace(0.0001, 200,500)\n",
    "alpha = np.array([float(e) for e in alpha])\n",
    "param_values = alpha"
   ]
  },
  {
   "cell_type": "code",
   "execution_count": 217,
   "metadata": {
    "collapsed": true
   },
   "outputs": [],
   "source": [
    "from sklearn.linear_model import Lasso, Ridge\n",
    "\n",
    "ridreg = Ridge()\n",
    "lasreg = Lasso()"
   ]
  },
  {
   "cell_type": "markdown",
   "metadata": {},
   "source": [
    "### Ridge Regression"
   ]
  },
  {
   "cell_type": "code",
   "execution_count": 223,
   "metadata": {
    "collapsed": false
   },
   "outputs": [
    {
     "data": {
      "image/png": "[encoded data removed]",
      "text/plain": [
       "<matplotlib.figure.Figure at 0x114490390>"
      ]
     },
     "metadata": {},
     "output_type": "display_data"
    }
   ],
   "source": [
    "train_scores, test_scores = calc_params(X_train, y_train,ridreg,alpha,'alpha', 5)"
   ]
  },
  {
   "cell_type": "code",
   "execution_count": 225,
   "metadata": {
    "collapsed": false
   },
   "outputs": [
    {
     "name": "stdout",
     "output_type": "stream",
     "text": [
      "best alpha : [ 6.01212104]\n"
     ]
    }
   ],
   "source": [
    "min_err_id = np.where(test_scores == test_scores.min())\n",
    "min_alpha = alpha[min_err_id]\n",
    "print 'best alpha :',min_alpha"
   ]
  },
  {
   "cell_type": "markdown",
   "metadata": {},
   "source": [
    "### Fit model with tesing set and calulate MAE"
   ]
  },
  {
   "cell_type": "code",
   "execution_count": 226,
   "metadata": {
    "collapsed": false
   },
   "outputs": [
    {
     "name": "stdout",
     "output_type": "stream",
     "text": [
      "MAE(ridreg) :  0.103039559305\n"
     ]
    }
   ],
   "source": [
    "ridreg = Ridge(alpha=6.01212104)\n",
    "ridreg.fit(X_train, y_train)  \n",
    "MAE = mean_absolute_error(ridreg.predict(X_test), y_test)\n",
    "print 'MAE(ridreg) : ',MAE "
   ]
  },
  {
   "cell_type": "markdown",
   "metadata": {},
   "source": [
    "### Lasso Regression"
   ]
  },
  {
   "cell_type": "code",
   "execution_count": 227,
   "metadata": {
    "collapsed": false
   },
   "outputs": [
    {
     "data": {
      "image/png": "[encoded data removed]",
      "text/plain": [
       "<matplotlib.figure.Figure at 0x115efb090>"
      ]
     },
     "metadata": {},
     "output_type": "display_data"
    }
   ],
   "source": [
    "train_scores, test_scores = calc_params(X_train, y_train,lasreg,alpha,'alpha', 5)"
   ]
  },
  {
   "cell_type": "code",
   "execution_count": 228,
   "metadata": {
    "collapsed": false
   },
   "outputs": [
    {
     "name": "stdout",
     "output_type": "stream",
     "text": [
      "best alpha : [ 0.0001]\n"
     ]
    }
   ],
   "source": [
    "min_err_id = np.where(test_scores == test_scores.min())\n",
    "min_alpha = alpha[min_err_id]\n",
    "print 'best alpha :',min_alpha"
   ]
  },
  {
   "cell_type": "markdown",
   "metadata": {},
   "source": [
    "### Fit model with tesing set and calulate MAE"
   ]
  },
  {
   "cell_type": "code",
   "execution_count": 230,
   "metadata": {
    "collapsed": false
   },
   "outputs": [
    {
     "name": "stdout",
     "output_type": "stream",
     "text": [
      "MAE(lasreg) :  0.102337251908\n"
     ]
    }
   ],
   "source": [
    "lasreg = Lasso(alpha=0.0001)\n",
    "lasreg .fit(X_train, y_train)  \n",
    "MAE = mean_absolute_error(lasreg.predict(X_test), y_test)\n",
    "print 'MAE(lasreg) : ',MAE "
   ]
  },
  {
   "cell_type": "markdown",
   "metadata": {},
   "source": [
    "### observation and conclusions"
   ]
  },
  {
   "cell_type": "markdown",
   "metadata": {},
   "source": [
    "comparing MAE on testing set between using lasso regression and Ridge Regression, we can see that lasso regression has slightly lower mean absolute error. Therefore, lasso regression is a better model "
   ]
  },
  {
   "cell_type": "markdown",
   "metadata": {},
   "source": [
    "## 1e.\n",
    "\n",
    "Next, perform regression using Stochastic Gradient Descent for regression. For this part, you should use the SGDRegessor module from sklearn.linear_model. Again, start with creating randomized 80%-20% train-test split. SGDRegessor requires that features be standardized (with 0 mean and scaled by standard deviation). Prior to fiting the model, perform the scaling using StandardScaler from sklearn.preprocessing. For this problem, perform a grid search (using GridSearchCV from sklearn.grid_search) Your grid search should compare combinations of two penalty parameters ('l2', 'l1') and different values of alpha (alpha could vary from 0.0001 which is the default to relatively large values). Using the best parameters, apply the model to the set-aside test data. Finally, perform model selection (similar to part d, above) to find the best \"l1_ratio\" parameter using SGDRegressor with  the \"elasticnet\" penalty parameter. [Note: \"l1_ratio\" is The Elastic Net mixing parameter, with 0 <= l1_ratio <= 1;  l1_ratio=0 corresponds to L2 penalty, l1_ratio=1 to L1 penalty; defaults to 0.15.] Using the best mixing ratio, apply the Elastic Net model to the set-aside test data. Provide a summary of your findings from the above experiments."
   ]
  },
  {
   "cell_type": "markdown",
   "metadata": {},
   "source": [
    "### standardized and randomized 80%-20% train-test split"
   ]
  },
  {
   "cell_type": "code",
   "execution_count": 232,
   "metadata": {
    "collapsed": true
   },
   "outputs": [],
   "source": [
    "from sklearn import preprocessing"
   ]
  },
  {
   "cell_type": "code",
   "execution_count": 237,
   "metadata": {
    "collapsed": false
   },
   "outputs": [],
   "source": [
    "scaler = preprocessing.StandardScaler()\n",
    "x_std = scaler.fit(X).transform(X)\n",
    "X_train, X_test, y_train, y_test = train_test_split(x_std, Y, test_size=0.2, random_state=50)"
   ]
  },
  {
   "cell_type": "markdown",
   "metadata": {},
   "source": [
    "### Stochastic Gradient Descent for regression"
   ]
  },
  {
   "cell_type": "code",
   "execution_count": 238,
   "metadata": {
    "collapsed": true
   },
   "outputs": [],
   "source": [
    "from sklearn.linear_model import LinearRegression, Lasso, Ridge, ElasticNet, SGDRegressor\n",
    "sgdreg = SGDRegressor()\n",
    "par = {'penalty': ['l1', 'l2'],'alpha': np.linspace(0.0001,200, 400)}"
   ]
  },
  {
   "cell_type": "markdown",
   "metadata": {},
   "source": [
    "### grid search (with  penalty parameters ('l2', 'l1') and different values of alpha)"
   ]
  },
  {
   "cell_type": "code",
   "execution_count": 239,
   "metadata": {
    "collapsed": false
   },
   "outputs": [
    {
     "name": "stderr",
     "output_type": "stream",
     "text": [
      "/Users/jasonwu/anaconda/lib/python2.7/site-packages/sklearn/grid_search.py:43: DeprecationWarning: This module was deprecated in version 0.18 in favor of the model_selection module into which all the refactored classes and functions are moved. This module will be removed in 0.20.\n",
      "  DeprecationWarning)\n"
     ]
    }
   ],
   "source": [
    "from sklearn.grid_search import GridSearchCV"
   ]
  },
  {
   "cell_type": "code",
   "execution_count": 241,
   "metadata": {
    "collapsed": false
   },
   "outputs": [],
   "source": [
    "gs = GridSearchCV(sgdreg, par, verbose=1, cv=5)"
   ]
  },
  {
   "cell_type": "code",
   "execution_count": 242,
   "metadata": {
    "collapsed": false
   },
   "outputs": [
    {
     "name": "stdout",
     "output_type": "stream",
     "text": [
      "Fitting 5 folds for each of 800 candidates, totalling 4000 fits\n",
      "CPU times: user 1min 13s, sys: 806 ms, total: 1min 14s\n",
      "Wall time: 39 s\n"
     ]
    },
    {
     "name": "stderr",
     "output_type": "stream",
     "text": [
      "[Parallel(n_jobs=1)]: Done 4000 out of 4000 | elapsed:   39.0s finished\n"
     ]
    },
    {
     "data": {
      "text/plain": [
       "({'alpha': 0.0001, 'penalty': 'l1'}, 0.6373769856423661)"
      ]
     },
     "execution_count": 242,
     "metadata": {},
     "output_type": "execute_result"
    }
   ],
   "source": [
    "%time _ = gs.fit(X_train, y_train)\n",
    "\n",
    "gs.best_params_, gs.best_score_"
   ]
  },
  {
   "cell_type": "markdown",
   "metadata": {},
   "source": [
    "### Using the best parameters, apply the model to the set-aside test data."
   ]
  },
  {
   "cell_type": "code",
   "execution_count": 244,
   "metadata": {
    "collapsed": false
   },
   "outputs": [
    {
     "name": "stdout",
     "output_type": "stream",
     "text": [
      "MAE(sgdreg) :  0.105297231031\n"
     ]
    }
   ],
   "source": [
    "sgdreg = SGDRegressor(alpha= 0.0001, penalty='l1')\n",
    "sgdreg .fit(X_train, y_train)  \n",
    "MAE = mean_absolute_error(sgdreg.predict(X_test), y_test)\n",
    "print 'MAE(sgdreg) : ',MAE "
   ]
  },
  {
   "cell_type": "markdown",
   "metadata": {},
   "source": [
    "### model selectionto find the best \"l1_ratio\" parameter using SGDRegressor with the \"elasticnet\" penalty parameter. "
   ]
  },
  {
   "cell_type": "code",
   "execution_count": 246,
   "metadata": {
    "collapsed": false
   },
   "outputs": [
    {
     "data": {
      "image/png": "[encoded data removed]",
      "text/plain": [
       "<matplotlib.figure.Figure at 0x115c45690>"
      ]
     },
     "metadata": {},
     "output_type": "display_data"
    }
   ],
   "source": [
    "l1_ratio_range = np.linspace(0.0001,0.9999, 100)\n",
    "\n",
    "sgdreg = SGDRegressor(penalty='elasticnet')\n",
    "\n",
    "train_scores, test_scores = calc_params(X_train, y_train,sgdreg,l1_ratio_range,'l1_ratio', 5)"
   ]
  },
  {
   "cell_type": "code",
   "execution_count": 248,
   "metadata": {
    "collapsed": false
   },
   "outputs": [
    {
     "name": "stdout",
     "output_type": "stream",
     "text": [
      "best l1_ratio : [ 0.48485152]\n"
     ]
    }
   ],
   "source": [
    "min_err_id = np.where(test_scores == test_scores.min())\n",
    "min_l1_ratio = l1_ratio_range[min_err_id]\n",
    "print 'best l1_ratio :',min_l1_ratio"
   ]
  },
  {
   "cell_type": "code",
   "execution_count": 249,
   "metadata": {
    "collapsed": false
   },
   "outputs": [
    {
     "name": "stdout",
     "output_type": "stream",
     "text": [
      "MAE(sgdreg) :  0.103703787286\n"
     ]
    }
   ],
   "source": [
    "sgdreg = SGDRegressor(alpha= 0.0001, penalty='l1', l1_ratio = 0.48485152 )\n",
    "sgdreg .fit(X_train, y_train)  \n",
    "MAE = mean_absolute_error(sgdreg.predict(X_test), y_test)\n",
    "print 'MAE(sgdreg) : ',MAE "
   ]
  },
  {
   "cell_type": "markdown",
   "metadata": {},
   "source": [
    "### Summary"
   ]
  },
  {
   "cell_type": "markdown",
   "metadata": {},
   "source": [
    "Using grid search for Stochastic Gradient Descent regression, we can see that MAE  =  0.105297231031 with the setting \"alpha= 0.0001, penalty='l1'\" is the suggested model that minimize the MAE. \n",
    "\n",
    "Furthermore, I use the function created on d to find the best l1_ratio and fit the SGDRegressor with setting\"alpha= 0.0001, penalty='l1', l1_ratio = 0.48485152\" , the value of MAE beocome slightly lower(MAE = 0.103703787286)\n",
    "\n",
    "Therefore, the later model have slightly better performance on prediciton "
   ]
  },
  {
   "cell_type": "markdown",
   "metadata": {},
   "source": [
    "## Q2 : Automatic Document Clustering \n",
    "\n",
    "[Dataset: newsgroups5.zip]\n",
    "\n",
    "For this problem you will use a different subset of the 20 Newsgroup data set that you used in Assignment 2  (see the description of the full dataset). The subset for this assignment includes 2,500 documents (newsgroup posts), each belonging to one of 5 categories windows (0), crypt (1), christian (2), hockey (3), forsale (4). The documents are represented by 9328 terms (stems). The dictionary (vocabulary) for the data set is given in the file \"terms.txt\" and the full term-by-document matrix is given in \"matrix.txt\" (comma separated values). The actual category labels for the documents are provided in the file \"classes.txt\". Your goal in this assignment is to perform clustering on the documents and compare the clusters to the actual categories.\n",
    "\n",
    "Your tasks in this problem are the following [Note: for the clustering part of this assignment you should use the kMeans module form Ch. 10 of MLA (use the version provided here as it includes some corrections to the book version). You may also use Pandas and other modules from scikit-learn that you may need for preprocessing or evaluation.]\n",
    "\n"
   ]
  },
  {
   "cell_type": "markdown",
   "metadata": {},
   "source": [
    "## 2a.\n",
    "\n",
    "Create your own distance function that, instead of using Euclidean distance, uses Cosine similarity. This is the distance function you will use to pass to the kMeans function."
   ]
  },
  {
   "cell_type": "code",
   "execution_count": 319,
   "metadata": {
    "collapsed": true
   },
   "outputs": [],
   "source": [
    "def cosine_dis(instance,Train):\n",
    "    Train_norm = np.linalg.norm(Train)\n",
    "    instance_norm = np.linalg.norm(instance)\n",
    "    sims = np.dot(Train,instance)/(Train_norm * instance_norm)\n",
    "    dists = 1 - sims\n",
    "    return dists"
   ]
  },
  {
   "cell_type": "markdown",
   "metadata": {},
   "source": [
    "## 2b.\n",
    "\n",
    "Load the data set [Note: the data matrix provided has terms as rows and documents as columns. Since you will be clustering documents, you'll need to take the transpose of this matrix so that your main data matrix is a document x term matrix. In Numpy, you may use the \".T\" operation to obtain the transpose.] Then, split the data set (the document x term matrix) and set aside 20% for later use (see below). Use the 80% segment for clustering in the next part. The 20% portion must be a random subset."
   ]
  },
  {
   "cell_type": "markdown",
   "metadata": {},
   "source": [
    "### Load data and transpose the row-doc matrix to doc-row matrix"
   ]
  },
  {
   "cell_type": "code",
   "execution_count": 291,
   "metadata": {
    "collapsed": true
   },
   "outputs": [],
   "source": [
    "#load data and transpose the matrix\n",
    "mat = pd.read_csv('newsgroups5/matrix.txt',header=None)\n",
    "doc_term = mat.T\n",
    "term = pd.read_table('newsgroups5/terms.txt',header=None)\n",
    "cls = pd.read_table('newsgroups5/classes.txt',skiprows=1,sep=' ',header=None)\n",
    "cls.drop(0, axis=1, inplace=True)"
   ]
  },
  {
   "cell_type": "code",
   "execution_count": 282,
   "metadata": {
    "collapsed": false
   },
   "outputs": [
    {
     "data": {
      "text/html": [
       "<div>\n",
       "<table border=\"1\" class=\"dataframe\">\n",
       "  <thead>\n",
       "    <tr style=\"text-align: right;\">\n",
       "      <th></th>\n",
       "      <th>0</th>\n",
       "      <th>1</th>\n",
       "      <th>2</th>\n",
       "      <th>3</th>\n",
       "      <th>4</th>\n",
       "      <th>5</th>\n",
       "      <th>6</th>\n",
       "      <th>7</th>\n",
       "      <th>8</th>\n",
       "      <th>9</th>\n",
       "      <th>...</th>\n",
       "      <th>2490</th>\n",
       "      <th>2491</th>\n",
       "      <th>2492</th>\n",
       "      <th>2493</th>\n",
       "      <th>2494</th>\n",
       "      <th>2495</th>\n",
       "      <th>2496</th>\n",
       "      <th>2497</th>\n",
       "      <th>2498</th>\n",
       "      <th>2499</th>\n",
       "    </tr>\n",
       "  </thead>\n",
       "  <tbody>\n",
       "    <tr>\n",
       "      <th>0</th>\n",
       "      <td>0</td>\n",
       "      <td>0</td>\n",
       "      <td>0</td>\n",
       "      <td>0</td>\n",
       "      <td>0</td>\n",
       "      <td>0</td>\n",
       "      <td>0</td>\n",
       "      <td>0</td>\n",
       "      <td>0</td>\n",
       "      <td>0</td>\n",
       "      <td>...</td>\n",
       "      <td>0</td>\n",
       "      <td>0</td>\n",
       "      <td>0</td>\n",
       "      <td>0</td>\n",
       "      <td>0</td>\n",
       "      <td>0</td>\n",
       "      <td>0</td>\n",
       "      <td>0</td>\n",
       "      <td>0</td>\n",
       "      <td>0</td>\n",
       "    </tr>\n",
       "    <tr>\n",
       "      <th>1</th>\n",
       "      <td>0</td>\n",
       "      <td>0</td>\n",
       "      <td>0</td>\n",
       "      <td>0</td>\n",
       "      <td>0</td>\n",
       "      <td>0</td>\n",
       "      <td>0</td>\n",
       "      <td>0</td>\n",
       "      <td>0</td>\n",
       "      <td>0</td>\n",
       "      <td>...</td>\n",
       "      <td>0</td>\n",
       "      <td>0</td>\n",
       "      <td>0</td>\n",
       "      <td>0</td>\n",
       "      <td>0</td>\n",
       "      <td>0</td>\n",
       "      <td>0</td>\n",
       "      <td>0</td>\n",
       "      <td>0</td>\n",
       "      <td>0</td>\n",
       "    </tr>\n",
       "    <tr>\n",
       "      <th>2</th>\n",
       "      <td>0</td>\n",
       "      <td>0</td>\n",
       "      <td>0</td>\n",
       "      <td>0</td>\n",
       "      <td>0</td>\n",
       "      <td>0</td>\n",
       "      <td>0</td>\n",
       "      <td>0</td>\n",
       "      <td>0</td>\n",
       "      <td>0</td>\n",
       "      <td>...</td>\n",
       "      <td>0</td>\n",
       "      <td>0</td>\n",
       "      <td>0</td>\n",
       "      <td>0</td>\n",
       "      <td>0</td>\n",
       "      <td>0</td>\n",
       "      <td>0</td>\n",
       "      <td>0</td>\n",
       "      <td>0</td>\n",
       "      <td>0</td>\n",
       "    </tr>\n",
       "    <tr>\n",
       "      <th>3</th>\n",
       "      <td>0</td>\n",
       "      <td>0</td>\n",
       "      <td>0</td>\n",
       "      <td>0</td>\n",
       "      <td>0</td>\n",
       "      <td>0</td>\n",
       "      <td>0</td>\n",
       "      <td>0</td>\n",
       "      <td>0</td>\n",
       "      <td>0</td>\n",
       "      <td>...</td>\n",
       "      <td>0</td>\n",
       "      <td>0</td>\n",
       "      <td>0</td>\n",
       "      <td>0</td>\n",
       "      <td>0</td>\n",
       "      <td>0</td>\n",
       "      <td>0</td>\n",
       "      <td>0</td>\n",
       "      <td>0</td>\n",
       "      <td>0</td>\n",
       "    </tr>\n",
       "    <tr>\n",
       "      <th>4</th>\n",
       "      <td>0</td>\n",
       "      <td>0</td>\n",
       "      <td>0</td>\n",
       "      <td>0</td>\n",
       "      <td>0</td>\n",
       "      <td>0</td>\n",
       "      <td>0</td>\n",
       "      <td>0</td>\n",
       "      <td>0</td>\n",
       "      <td>0</td>\n",
       "      <td>...</td>\n",
       "      <td>0</td>\n",
       "      <td>0</td>\n",
       "      <td>0</td>\n",
       "      <td>0</td>\n",
       "      <td>0</td>\n",
       "      <td>0</td>\n",
       "      <td>0</td>\n",
       "      <td>0</td>\n",
       "      <td>0</td>\n",
       "      <td>0</td>\n",
       "    </tr>\n",
       "  </tbody>\n",
       "</table>\n",
       "<p>5 rows × 2500 columns</p>\n",
       "</div>"
      ],
      "text/plain": [
       "   0     1     2     3     4     5     6     7     8     9     ...   2490  \\\n",
       "0     0     0     0     0     0     0     0     0     0     0  ...      0   \n",
       "1     0     0     0     0     0     0     0     0     0     0  ...      0   \n",
       "2     0     0     0     0     0     0     0     0     0     0  ...      0   \n",
       "3     0     0     0     0     0     0     0     0     0     0  ...      0   \n",
       "4     0     0     0     0     0     0     0     0     0     0  ...      0   \n",
       "\n",
       "   2491  2492  2493  2494  2495  2496  2497  2498  2499  \n",
       "0     0     0     0     0     0     0     0     0     0  \n",
       "1     0     0     0     0     0     0     0     0     0  \n",
       "2     0     0     0     0     0     0     0     0     0  \n",
       "3     0     0     0     0     0     0     0     0     0  \n",
       "4     0     0     0     0     0     0     0     0     0  \n",
       "\n",
       "[5 rows x 2500 columns]"
      ]
     },
     "execution_count": 282,
     "metadata": {},
     "output_type": "execute_result"
    }
   ],
   "source": [
    "mat.head(5)"
   ]
  },
  {
   "cell_type": "code",
   "execution_count": 284,
   "metadata": {
    "collapsed": false
   },
   "outputs": [
    {
     "data": {
      "text/html": [
       "<div>\n",
       "<table border=\"1\" class=\"dataframe\">\n",
       "  <thead>\n",
       "    <tr style=\"text-align: right;\">\n",
       "      <th></th>\n",
       "      <th>0</th>\n",
       "      <th>1</th>\n",
       "      <th>2</th>\n",
       "      <th>3</th>\n",
       "      <th>4</th>\n",
       "      <th>5</th>\n",
       "      <th>6</th>\n",
       "      <th>7</th>\n",
       "      <th>8</th>\n",
       "      <th>9</th>\n",
       "      <th>...</th>\n",
       "      <th>9318</th>\n",
       "      <th>9319</th>\n",
       "      <th>9320</th>\n",
       "      <th>9321</th>\n",
       "      <th>9322</th>\n",
       "      <th>9323</th>\n",
       "      <th>9324</th>\n",
       "      <th>9325</th>\n",
       "      <th>9326</th>\n",
       "      <th>9327</th>\n",
       "    </tr>\n",
       "  </thead>\n",
       "  <tbody>\n",
       "    <tr>\n",
       "      <th>0</th>\n",
       "      <td>0</td>\n",
       "      <td>0</td>\n",
       "      <td>0</td>\n",
       "      <td>0</td>\n",
       "      <td>0</td>\n",
       "      <td>0</td>\n",
       "      <td>0</td>\n",
       "      <td>0</td>\n",
       "      <td>0</td>\n",
       "      <td>0</td>\n",
       "      <td>...</td>\n",
       "      <td>0</td>\n",
       "      <td>0</td>\n",
       "      <td>0</td>\n",
       "      <td>0</td>\n",
       "      <td>0</td>\n",
       "      <td>0</td>\n",
       "      <td>0</td>\n",
       "      <td>0</td>\n",
       "      <td>0</td>\n",
       "      <td>0</td>\n",
       "    </tr>\n",
       "    <tr>\n",
       "      <th>1</th>\n",
       "      <td>0</td>\n",
       "      <td>0</td>\n",
       "      <td>0</td>\n",
       "      <td>0</td>\n",
       "      <td>0</td>\n",
       "      <td>0</td>\n",
       "      <td>0</td>\n",
       "      <td>0</td>\n",
       "      <td>0</td>\n",
       "      <td>1</td>\n",
       "      <td>...</td>\n",
       "      <td>0</td>\n",
       "      <td>0</td>\n",
       "      <td>0</td>\n",
       "      <td>0</td>\n",
       "      <td>0</td>\n",
       "      <td>0</td>\n",
       "      <td>0</td>\n",
       "      <td>0</td>\n",
       "      <td>0</td>\n",
       "      <td>0</td>\n",
       "    </tr>\n",
       "    <tr>\n",
       "      <th>2</th>\n",
       "      <td>0</td>\n",
       "      <td>0</td>\n",
       "      <td>0</td>\n",
       "      <td>0</td>\n",
       "      <td>0</td>\n",
       "      <td>0</td>\n",
       "      <td>0</td>\n",
       "      <td>0</td>\n",
       "      <td>0</td>\n",
       "      <td>0</td>\n",
       "      <td>...</td>\n",
       "      <td>0</td>\n",
       "      <td>0</td>\n",
       "      <td>0</td>\n",
       "      <td>0</td>\n",
       "      <td>0</td>\n",
       "      <td>0</td>\n",
       "      <td>0</td>\n",
       "      <td>0</td>\n",
       "      <td>0</td>\n",
       "      <td>0</td>\n",
       "    </tr>\n",
       "    <tr>\n",
       "      <th>3</th>\n",
       "      <td>0</td>\n",
       "      <td>0</td>\n",
       "      <td>0</td>\n",
       "      <td>0</td>\n",
       "      <td>0</td>\n",
       "      <td>0</td>\n",
       "      <td>0</td>\n",
       "      <td>0</td>\n",
       "      <td>0</td>\n",
       "      <td>0</td>\n",
       "      <td>...</td>\n",
       "      <td>0</td>\n",
       "      <td>0</td>\n",
       "      <td>0</td>\n",
       "      <td>0</td>\n",
       "      <td>0</td>\n",
       "      <td>0</td>\n",
       "      <td>0</td>\n",
       "      <td>0</td>\n",
       "      <td>0</td>\n",
       "      <td>0</td>\n",
       "    </tr>\n",
       "    <tr>\n",
       "      <th>4</th>\n",
       "      <td>0</td>\n",
       "      <td>0</td>\n",
       "      <td>0</td>\n",
       "      <td>0</td>\n",
       "      <td>0</td>\n",
       "      <td>0</td>\n",
       "      <td>0</td>\n",
       "      <td>0</td>\n",
       "      <td>0</td>\n",
       "      <td>0</td>\n",
       "      <td>...</td>\n",
       "      <td>0</td>\n",
       "      <td>0</td>\n",
       "      <td>0</td>\n",
       "      <td>0</td>\n",
       "      <td>0</td>\n",
       "      <td>0</td>\n",
       "      <td>0</td>\n",
       "      <td>0</td>\n",
       "      <td>0</td>\n",
       "      <td>0</td>\n",
       "    </tr>\n",
       "  </tbody>\n",
       "</table>\n",
       "<p>5 rows × 9328 columns</p>\n",
       "</div>"
      ],
      "text/plain": [
       "   0     1     2     3     4     5     6     7     8     9     ...   9318  \\\n",
       "0     0     0     0     0     0     0     0     0     0     0  ...      0   \n",
       "1     0     0     0     0     0     0     0     0     0     1  ...      0   \n",
       "2     0     0     0     0     0     0     0     0     0     0  ...      0   \n",
       "3     0     0     0     0     0     0     0     0     0     0  ...      0   \n",
       "4     0     0     0     0     0     0     0     0     0     0  ...      0   \n",
       "\n",
       "   9319  9320  9321  9322  9323  9324  9325  9326  9327  \n",
       "0     0     0     0     0     0     0     0     0     0  \n",
       "1     0     0     0     0     0     0     0     0     0  \n",
       "2     0     0     0     0     0     0     0     0     0  \n",
       "3     0     0     0     0     0     0     0     0     0  \n",
       "4     0     0     0     0     0     0     0     0     0  \n",
       "\n",
       "[5 rows x 9328 columns]"
      ]
     },
     "execution_count": 284,
     "metadata": {},
     "output_type": "execute_result"
    }
   ],
   "source": [
    "doc_term.head(5)"
   ]
  },
  {
   "cell_type": "code",
   "execution_count": 289,
   "metadata": {
    "collapsed": false
   },
   "outputs": [
    {
     "data": {
      "text/html": [
       "<div>\n",
       "<table border=\"1\" class=\"dataframe\">\n",
       "  <thead>\n",
       "    <tr style=\"text-align: right;\">\n",
       "      <th></th>\n",
       "      <th>0</th>\n",
       "    </tr>\n",
       "  </thead>\n",
       "  <tbody>\n",
       "    <tr>\n",
       "      <th>0</th>\n",
       "      <td>aa</td>\n",
       "    </tr>\n",
       "    <tr>\n",
       "      <th>1</th>\n",
       "      <td>aargh</td>\n",
       "    </tr>\n",
       "    <tr>\n",
       "      <th>2</th>\n",
       "      <td>aaron</td>\n",
       "    </tr>\n",
       "    <tr>\n",
       "      <th>3</th>\n",
       "      <td>aaronc</td>\n",
       "    </tr>\n",
       "    <tr>\n",
       "      <th>4</th>\n",
       "      <td>ab</td>\n",
       "    </tr>\n",
       "  </tbody>\n",
       "</table>\n",
       "</div>"
      ],
      "text/plain": [
       "        0\n",
       "0      aa\n",
       "1   aargh\n",
       "2   aaron\n",
       "3  aaronc\n",
       "4      ab"
      ]
     },
     "execution_count": 289,
     "metadata": {},
     "output_type": "execute_result"
    }
   ],
   "source": [
    "term.head(5)"
   ]
  },
  {
   "cell_type": "code",
   "execution_count": 292,
   "metadata": {
    "collapsed": false
   },
   "outputs": [
    {
     "data": {
      "text/html": [
       "<div>\n",
       "<table border=\"1\" class=\"dataframe\">\n",
       "  <thead>\n",
       "    <tr style=\"text-align: right;\">\n",
       "      <th></th>\n",
       "      <th>1</th>\n",
       "    </tr>\n",
       "  </thead>\n",
       "  <tbody>\n",
       "    <tr>\n",
       "      <th>0</th>\n",
       "      <td>0</td>\n",
       "    </tr>\n",
       "    <tr>\n",
       "      <th>1</th>\n",
       "      <td>1</td>\n",
       "    </tr>\n",
       "    <tr>\n",
       "      <th>2</th>\n",
       "      <td>1</td>\n",
       "    </tr>\n",
       "    <tr>\n",
       "      <th>3</th>\n",
       "      <td>1</td>\n",
       "    </tr>\n",
       "    <tr>\n",
       "      <th>4</th>\n",
       "      <td>2</td>\n",
       "    </tr>\n",
       "  </tbody>\n",
       "</table>\n",
       "</div>"
      ],
      "text/plain": [
       "   1\n",
       "0  0\n",
       "1  1\n",
       "2  1\n",
       "3  1\n",
       "4  2"
      ]
     },
     "execution_count": 292,
     "metadata": {},
     "output_type": "execute_result"
    }
   ],
   "source": [
    "cls.head(5)"
   ]
  },
  {
   "cell_type": "code",
   "execution_count": 296,
   "metadata": {
    "collapsed": false
   },
   "outputs": [
    {
     "name": "stdout",
     "output_type": "stream",
     "text": [
      "term: (9328, 1) \n",
      "cls: (2500, 1) \n",
      "doc_term: (2500, 9328)\n"
     ]
    }
   ],
   "source": [
    "print 'term:', term.shape, '\\n','cls:',cls.shape, '\\n','doc_term:',doc_term.shape"
   ]
  },
  {
   "cell_type": "markdown",
   "metadata": {},
   "source": [
    "### split the \"doc_term\" data set (80-20)"
   ]
  },
  {
   "cell_type": "code",
   "execution_count": 350,
   "metadata": {
    "collapsed": false
   },
   "outputs": [
    {
     "name": "stdout",
     "output_type": "stream",
     "text": [
      "DT_train: (2000, 9328)\n",
      "DT_test:  (500, 9328)\n",
      "cls_train: (2000, 1)\n",
      "cls_test:  (500, 1)\n"
     ]
    }
   ],
   "source": [
    "from sklearn.cross_validation import train_test_split\n",
    "DT_train, DT_test,cls_train,cls_test = train_test_split(doc_term, cls, test_size=0.2, random_state=33)\n",
    "\n",
    "print \"DT_train:\",DT_train.shape\n",
    "print \"DT_test: \",DT_test.shape\n",
    "\n",
    "print \"cls_train:\",cls_train.shape\n",
    "print \"cls_test: \",cls_test.shape"
   ]
  },
  {
   "cell_type": "markdown",
   "metadata": {},
   "source": [
    "## 2c.\n",
    "\n",
    "As in the case of Assignment 2, transform the term-frequencies to tfxidf values. Be sure to maintain DF values for each of the terms in the dictionary. [Note: if you run into problems due to limited computational resources, you may prune the data by removing all terms with low DF values, e.g., terms that appear in less than 10 documents. Be sure to maintain the correspondence between the dictionary terms and the matrix rows.]"
   ]
  },
  {
   "cell_type": "code",
   "execution_count": 308,
   "metadata": {
    "collapsed": false
   },
   "outputs": [
    {
     "name": "stdout",
     "output_type": "stream",
     "text": [
      "[[ 0.  0.  0. ...,  0.  0.  0.]\n",
      " [ 0.  0.  0. ...,  0.  0.  0.]\n",
      " [ 0.  0.  0. ...,  0.  0.  0.]\n",
      " ..., \n",
      " [ 0.  0.  0. ...,  0.  0.  0.]\n",
      " [ 0.  0.  0. ...,  0.  0.  0.]\n",
      " [ 0.  0.  0. ...,  0.  0.  0.]] \n",
      "(2000, 9328)\n",
      "\n",
      "\n",
      "\n",
      "\n",
      "[[ 0.  0.  0. ...,  0.  0.  0.]\n",
      " [ 0.  0.  0. ...,  0.  0.  0.]\n",
      " [ 0.  0.  0. ...,  0.  0.  0.]\n",
      " ..., \n",
      " [ 0.  0.  0. ...,  0.  0.  0.]\n",
      " [ 0.  0.  0. ...,  0.  0.  0.]\n",
      " [ 0.  0.  0. ...,  0.  0.  0.]] \n",
      "(500, 9328)\n"
     ]
    }
   ],
   "source": [
    "from sklearn.feature_extraction.text import TfidfTransformer\n",
    "DTTrain_TFIDF = TfidfTransformer().fit_transform(DT_train).toarray()\n",
    "DTTest_TFIDF = TfidfTransformer().fit_transform(DT_test).toarray()\n",
    "print DTTrain_TFIDF,\"\\n\",DTTrain_TFIDF.shape\n",
    "print '\\n\\n\\n'\n",
    "print DTTest_TFIDF,\"\\n\",DTTest_TFIDF.shape"
   ]
  },
  {
   "cell_type": "markdown",
   "metadata": {},
   "source": [
    "## 2d.\n",
    "\n",
    "Perform Kmeans clustering on the training data. Write a function to display the top N terms in each cluster along with the cluster DF values for each term and the size of the cluster. Cluster DF value for a term t in a cluster C is the percentage of docs in cluster C in which term t appears. Sort the terms in decreasing order of the DF percentage. Here is an example of how this output might look like (here the top 10 terms for 3 of the 5 clusters are displayed in decreasing order of cluster DF values, but the mean frequnecy from the cluster centroid is also shown). [Extra Credit: use your favorite third party tool, ideally with a Python based API, to create a word cloud for each cluster based on the in-cluster DF values.]"
   ]
  },
  {
   "cell_type": "markdown",
   "metadata": {},
   "source": [
    "### Kmeans clustering"
   ]
  },
  {
   "cell_type": "code",
   "execution_count": 309,
   "metadata": {
    "collapsed": false
   },
   "outputs": [
    {
     "data": {
      "text/plain": [
       "<module 'kMeans' from 'kMeans.pyc'>"
      ]
     },
     "execution_count": 309,
     "metadata": {},
     "output_type": "execute_result"
    }
   ],
   "source": [
    "import kMeans\n",
    "reload(kMeans)"
   ]
  },
  {
   "cell_type": "code",
   "execution_count": 320,
   "metadata": {
    "collapsed": false
   },
   "outputs": [],
   "source": [
    "centroids, clusters = kMeans.kMeans(DTTrain_TFIDF , 5, distMeas= cosine_dis)"
   ]
  },
  {
   "cell_type": "code",
   "execution_count": 321,
   "metadata": {
    "collapsed": false
   },
   "outputs": [
    {
     "name": "stdout",
     "output_type": "stream",
     "text": [
      "[[  0.00000000e+00   7.95806525e-04   1.46274214e-04 ...,   0.00000000e+00\n",
      "    0.00000000e+00   0.00000000e+00]\n",
      " [  1.76890328e-04   0.00000000e+00   4.80302813e-03 ...,   0.00000000e+00\n",
      "    0.00000000e+00   0.00000000e+00]\n",
      " [  6.05956793e-04   0.00000000e+00   1.32574824e-03 ...,   3.22566353e-07\n",
      "    0.00000000e+00   0.00000000e+00]\n",
      " [  4.13830617e-04   0.00000000e+00   1.70948093e-04 ...,   1.21827029e-04\n",
      "    6.42053971e-05   3.85065889e-04]\n",
      " [  0.00000000e+00   0.00000000e+00   0.00000000e+00 ...,   0.00000000e+00\n",
      "    0.00000000e+00   0.00000000e+00]]\n"
     ]
    }
   ],
   "source": [
    "print centroids"
   ]
  },
  {
   "cell_type": "code",
   "execution_count": 322,
   "metadata": {
    "collapsed": false
   },
   "outputs": [
    {
     "name": "stdout",
     "output_type": "stream",
     "text": [
      "[[ 2.          0.74555211]\n",
      " [ 3.          0.88944344]\n",
      " [ 2.          0.68745882]\n",
      " ..., \n",
      " [ 1.          0.31748329]\n",
      " [ 3.          0.49793166]\n",
      " [ 4.          0.55067996]]\n"
     ]
    }
   ],
   "source": [
    "print clusters"
   ]
  },
  {
   "cell_type": "code",
   "execution_count": 328,
   "metadata": {
    "collapsed": false
   },
   "outputs": [
    {
     "data": {
      "text/plain": [
       "array([[ 0.,  0.,  0., ...,  0.,  0.,  0.],\n",
       "       [ 0.,  0.,  0., ...,  0.,  0.,  0.],\n",
       "       [ 0.,  0.,  0., ...,  0.,  0.,  0.],\n",
       "       ..., \n",
       "       [ 0.,  0.,  0., ...,  0.,  0.,  0.],\n",
       "       [ 0.,  0.,  0., ...,  0.,  0.,  0.],\n",
       "       [ 0.,  0.,  0., ...,  0.,  0.,  0.]])"
      ]
     },
     "execution_count": 328,
     "metadata": {},
     "output_type": "execute_result"
    }
   ],
   "source": [
    "DTTrain_TFIDF[clusters[:,0]==2]"
   ]
  },
  {
   "cell_type": "markdown",
   "metadata": {},
   "source": [
    "### Top term funcion"
   ]
  },
  {
   "cell_type": "code",
   "execution_count": 383,
   "metadata": {
    "collapsed": true
   },
   "outputs": [],
   "source": [
    "def topterm(data, k, N):\n",
    "    centroids, clusters = kMeans.kMeans(data , k, distMeas= cosine_dis)\n",
    "    for i in range(k):\n",
    "        \n",
    "        N_cluster = data[clusters[:,0]==i]\n",
    "        print 'cluster',i+1, '( size = ', N_cluster.shape[0],')',\"\\n\"\n",
    "        \n",
    "        cluster_DF = np.array([(N_cluster.T!=0).sum(1)]).T\n",
    "        term_doc_pc_cluster = cluster_DF/float(N_cluster.shape[0])\n",
    "        term_doc_pc_cluster = map(list, term_doc_pc_cluster)\n",
    "        term_doc_pc_cluster = [elem[0] for elem in term_doc_pc_cluster]\n",
    "        cluster_DF = [elem[0] for elem in cluster_DF]\n",
    "        a=sorted(zip(np.array(term), cluster_DF, term_doc_pc_cluster),key=lambda x:x[2],reverse=True)\n",
    "        for elem in a[:N]:\n",
    "            print '  term: ',elem[0]\n",
    "            print '  cluster DF: ',elem[1]\n",
    "            print '  percentage of docs in the cluster where the term appears: ',elem[2],'\\n'\n",
    "        print '\\n'\n",
    "    return  centroids, clusters"
   ]
  },
  {
   "cell_type": "markdown",
   "metadata": {},
   "source": [
    "### Run function"
   ]
  },
  {
   "cell_type": "code",
   "execution_count": 384,
   "metadata": {
    "collapsed": false
   },
   "outputs": [
    {
     "name": "stdout",
     "output_type": "stream",
     "text": [
      "cluster 1 ( size =  734 ) \n",
      "\n",
      "  term:  ['subject']\n",
      "  cluster DF:  734\n",
      "  percentage of docs in the cluster where the term appears:  1.0 \n",
      "\n",
      "  term:  ['write']\n",
      "  cluster DF:  432\n",
      "  percentage of docs in the cluster where the term appears:  0.588555858311 \n",
      "\n",
      "  term:  ['articl']\n",
      "  cluster DF:  317\n",
      "  percentage of docs in the cluster where the term appears:  0.431880108992 \n",
      "\n",
      "  term:  ['on']\n",
      "  cluster DF:  289\n",
      "  percentage of docs in the cluster where the term appears:  0.393732970027 \n",
      "\n",
      "  term:  ['window']\n",
      "  cluster DF:  266\n",
      "  percentage of docs in the cluster where the term appears:  0.362397820163 \n",
      "\n",
      "\n",
      "\n",
      "cluster 2 ( size =  415 ) \n",
      "\n",
      "  term:  ['subject']\n",
      "  cluster DF:  415\n",
      "  percentage of docs in the cluster where the term appears:  1.0 \n",
      "\n",
      "  term:  ['sale']\n",
      "  cluster DF:  220\n",
      "  percentage of docs in the cluster where the term appears:  0.530120481928 \n",
      "\n",
      "  term:  ['email']\n",
      "  cluster DF:  165\n",
      "  percentage of docs in the cluster where the term appears:  0.397590361446 \n",
      "\n",
      "  term:  ['pleas']\n",
      "  cluster DF:  135\n",
      "  percentage of docs in the cluster where the term appears:  0.325301204819 \n",
      "\n",
      "  term:  ['thank']\n",
      "  cluster DF:  103\n",
      "  percentage of docs in the cluster where the term appears:  0.248192771084 \n",
      "\n",
      "\n",
      "\n",
      "cluster 3 ( size =  230 ) \n",
      "\n",
      "  term:  ['subject']\n",
      "  cluster DF:  230\n",
      "  percentage of docs in the cluster where the term appears:  1.0 \n",
      "\n",
      "  term:  ['write']\n",
      "  cluster DF:  129\n",
      "  percentage of docs in the cluster where the term appears:  0.560869565217 \n",
      "\n",
      "  term:  ['on']\n",
      "  cluster DF:  117\n",
      "  percentage of docs in the cluster where the term appears:  0.508695652174 \n",
      "\n",
      "  term:  ['articl']\n",
      "  cluster DF:  95\n",
      "  percentage of docs in the cluster where the term appears:  0.413043478261 \n",
      "\n",
      "  term:  ['christian']\n",
      "  cluster DF:  95\n",
      "  percentage of docs in the cluster where the term appears:  0.413043478261 \n",
      "\n",
      "\n",
      "\n",
      "cluster 4 ( size =  397 ) \n",
      "\n",
      "  term:  ['subject']\n",
      "  cluster DF:  397\n",
      "  percentage of docs in the cluster where the term appears:  1.0 \n",
      "\n",
      "  term:  ['write']\n",
      "  cluster DF:  219\n",
      "  percentage of docs in the cluster where the term appears:  0.551637279597 \n",
      "\n",
      "  term:  ['game']\n",
      "  cluster DF:  214\n",
      "  percentage of docs in the cluster where the term appears:  0.539042821159 \n",
      "\n",
      "  term:  ['team']\n",
      "  cluster DF:  193\n",
      "  percentage of docs in the cluster where the term appears:  0.486146095718 \n",
      "\n",
      "  term:  ['go']\n",
      "  cluster DF:  178\n",
      "  percentage of docs in the cluster where the term appears:  0.448362720403 \n",
      "\n",
      "\n",
      "\n",
      "cluster 5 ( size =  224 ) \n",
      "\n",
      "  term:  ['subject']\n",
      "  cluster DF:  224\n",
      "  percentage of docs in the cluster where the term appears:  1.0 \n",
      "\n",
      "  term:  ['god']\n",
      "  cluster DF:  160\n",
      "  percentage of docs in the cluster where the term appears:  0.714285714286 \n",
      "\n",
      "  term:  ['write']\n",
      "  cluster DF:  139\n",
      "  percentage of docs in the cluster where the term appears:  0.620535714286 \n",
      "\n",
      "  term:  ['on']\n",
      "  cluster DF:  129\n",
      "  percentage of docs in the cluster where the term appears:  0.575892857143 \n",
      "\n",
      "  term:  ['peopl']\n",
      "  cluster DF:  112\n",
      "  percentage of docs in the cluster where the term appears:  0.5 \n",
      "\n",
      "\n",
      "\n"
     ]
    }
   ],
   "source": [
    "centroids, clusters = topterm(DTTrain_TFIDF, 5, 5)"
   ]
  },
  {
   "cell_type": "markdown",
   "metadata": {},
   "source": [
    "## 2e.\n",
    "\n",
    "Using the cluster assignments from Kmeans clustering, compare your 5 clusters to the 5 pre-assigned classes by computing the Completeness and Homogeneity values."
   ]
  },
  {
   "cell_type": "code",
   "execution_count": 365,
   "metadata": {
    "collapsed": false
   },
   "outputs": [
    {
     "name": "stdout",
     "output_type": "stream",
     "text": [
      "completeness_score =  0.721492789454\n",
      "homogeneity_score =  0.666354683788\n"
     ]
    }
   ],
   "source": [
    "from sklearn.metrics import completeness_score, homogeneity_score\n",
    "print 'completeness_score = ', completeness_score(np.array(cls_train.T)[0],clusters[:,0])\n",
    "print 'homogeneity_score = ', homogeneity_score(np.array(cls_train.T)[0],clusters[:,0])"
   ]
  },
  {
   "cell_type": "markdown",
   "metadata": {},
   "source": [
    "## 2f.\n",
    "\n",
    "Finally, using your cluster assignments as class labels, categorize each of the documents in the 20% set-aside data into each of the appropriate cluster. Your categorization should be based on Cosine similarity between each test document and each cluster centroids. Present your results in a separate file containing the obtained cluster label for each test document as well as Cosine similarities between each test document and each of the 5 clusters."
   ]
  },
  {
   "cell_type": "code",
   "execution_count": 377,
   "metadata": {
    "collapsed": false
   },
   "outputs": [
    {
     "data": {
      "text/html": [
       "<div>\n",
       "<table border=\"1\" class=\"dataframe\">\n",
       "  <thead>\n",
       "    <tr style=\"text-align: right;\">\n",
       "      <th></th>\n",
       "      <th>Cosine Similarity to Cluster 1</th>\n",
       "      <th>Cosine Similarity to Cluster 2</th>\n",
       "      <th>Cosine Similarity to Cluster 3</th>\n",
       "      <th>Cosine Similarity to Cluster 4</th>\n",
       "      <th>Cosine Similarity to Cluster 5</th>\n",
       "      <th>Obtained cluster label</th>\n",
       "    </tr>\n",
       "  </thead>\n",
       "  <tbody>\n",
       "    <tr>\n",
       "      <th>0</th>\n",
       "      <td>0.046924</td>\n",
       "      <td>0.122056</td>\n",
       "      <td>0.037691</td>\n",
       "      <td>0.061158</td>\n",
       "      <td>0.039600</td>\n",
       "      <td>2</td>\n",
       "    </tr>\n",
       "    <tr>\n",
       "      <th>1</th>\n",
       "      <td>0.060610</td>\n",
       "      <td>0.141809</td>\n",
       "      <td>0.068824</td>\n",
       "      <td>0.103608</td>\n",
       "      <td>0.073697</td>\n",
       "      <td>2</td>\n",
       "    </tr>\n",
       "    <tr>\n",
       "      <th>2</th>\n",
       "      <td>0.021052</td>\n",
       "      <td>0.038993</td>\n",
       "      <td>0.023809</td>\n",
       "      <td>0.033157</td>\n",
       "      <td>0.114244</td>\n",
       "      <td>5</td>\n",
       "    </tr>\n",
       "    <tr>\n",
       "      <th>3</th>\n",
       "      <td>0.313920</td>\n",
       "      <td>0.150962</td>\n",
       "      <td>0.163128</td>\n",
       "      <td>0.132388</td>\n",
       "      <td>0.100200</td>\n",
       "      <td>1</td>\n",
       "    </tr>\n",
       "    <tr>\n",
       "      <th>4</th>\n",
       "      <td>0.028963</td>\n",
       "      <td>0.093863</td>\n",
       "      <td>0.045280</td>\n",
       "      <td>0.026601</td>\n",
       "      <td>0.216344</td>\n",
       "      <td>5</td>\n",
       "    </tr>\n",
       "  </tbody>\n",
       "</table>\n",
       "</div>"
      ],
      "text/plain": [
       "   Cosine Similarity to Cluster 1  Cosine Similarity to Cluster 2  \\\n",
       "0                        0.046924                        0.122056   \n",
       "1                        0.060610                        0.141809   \n",
       "2                        0.021052                        0.038993   \n",
       "3                        0.313920                        0.150962   \n",
       "4                        0.028963                        0.093863   \n",
       "\n",
       "   Cosine Similarity to Cluster 3  Cosine Similarity to Cluster 4  \\\n",
       "0                        0.037691                        0.061158   \n",
       "1                        0.068824                        0.103608   \n",
       "2                        0.023809                        0.033157   \n",
       "3                        0.163128                        0.132388   \n",
       "4                        0.045280                        0.026601   \n",
       "\n",
       "   Cosine Similarity to Cluster 5  Obtained cluster label  \n",
       "0                        0.039600                       2  \n",
       "1                        0.073697                       2  \n",
       "2                        0.114244                       5  \n",
       "3                        0.100200                       1  \n",
       "4                        0.216344                       5  "
      ]
     },
     "execution_count": 377,
     "metadata": {},
     "output_type": "execute_result"
    }
   ],
   "source": [
    "rst = []\n",
    "\n",
    "for doc in DTTest_TFIDF:\n",
    "    \n",
    "    dic = {}\n",
    "    sim = []\n",
    "    for i in range(len(centroids)):\n",
    "        cluster=i+1\n",
    "        centroid_doc_sim = 1 - cosine_dis(doc, centroids[i])\n",
    "        sim.append(centroid_doc_sim) \n",
    "        dic['Cosine Similarity to Cluster '+str(cluster)] = centroid_doc_sim\n",
    "    dic['Obtained cluster label'] = sim.index(max(sim))+1\n",
    "    rst.append(dic)\n",
    "\n",
    "Q2f = pd.DataFrame(rst)\n",
    "Q2f.head(5)"
   ]
  },
  {
   "cell_type": "code",
   "execution_count": 378,
   "metadata": {
    "collapsed": true
   },
   "outputs": [],
   "source": [
    "#Write to csv\n",
    "Q2f.to_csv(\"HW3_2f_YUEHCHAO_WU.csv\")"
   ]
  }
 ],
 "metadata": {
  "kernelspec": {
   "display_name": "Python 2",
   "language": "python",
   "name": "python2"
  },
  "language_info": {
   "codemirror_mode": {
    "name": "ipython",
    "version": 2
   },
   "file_extension": ".py",
   "mimetype": "text/x-python",
   "name": "python",
   "nbconvert_exporter": "python",
   "pygments_lexer": "ipython2",
   "version": "2.7.13"
  }
 },
 "nbformat": 4,
 "nbformat_minor": 2
}
