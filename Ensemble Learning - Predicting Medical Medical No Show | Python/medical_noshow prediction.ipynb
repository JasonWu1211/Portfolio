{
 "cells": [
  {
   "cell_type": "markdown",
   "metadata": {},
   "source": [
    "# Predicating Medical No show - Randan forest, Gradient Bossting, kernel SVM, and Stacking"
   ]
  },
  {
   "cell_type": "code",
   "execution_count": 3,
   "metadata": {},
   "outputs": [
    {
     "name": "stderr",
     "output_type": "stream",
     "text": [
      "/Users/jasonwu/anaconda/lib/python2.7/site-packages/sklearn/cross_validation.py:41: DeprecationWarning: This module was deprecated in version 0.18 in favor of the model_selection module into which all the refactored classes and functions are moved. Also note that the interface of the new CV iterators are different from that of this module. This module will be removed in 0.20.\n",
      "  \"This module will be removed in 0.20.\", DeprecationWarning)\n",
      "/Users/jasonwu/anaconda/lib/python2.7/site-packages/sklearn/grid_search.py:42: DeprecationWarning: This module was deprecated in version 0.18 in favor of the model_selection module into which all the refactored classes and functions are moved. This module will be removed in 0.20.\n",
      "  DeprecationWarning)\n"
     ]
    }
   ],
   "source": [
    "#import libarary\n",
    "import sys\n",
    "import scipy\n",
    "import numpy as np\n",
    "import matplotlib\n",
    "import pylab\n",
    "import seaborn as sns\n",
    "import pandas as pd\n",
    "import sklearn\n",
    "from pandas.tools.plotting import scatter_matrix\n",
    "import matplotlib.pyplot as plt\n",
    "\n",
    "# Machine Learning\n",
    "from sklearn.svm import SVC\n",
    "from sklearn.naive_bayes import GaussianNB\n",
    "from sklearn.tree import DecisionTreeClassifier\n",
    "from sklearn.neighbors import KNeighborsClassifier\n",
    "from sklearn.linear_model import LogisticRegression\n",
    "from sklearn.ensemble import RandomForestClassifier\n",
    "from sklearn.ensemble import GradientBoostingClassifier\n",
    "\n",
    "#model report and sklearn package\n",
    "from sklearn import preprocessing\n",
    "from sklearn.metrics import accuracy_score\n",
    "from sklearn.metrics import confusion_matrix\n",
    "from sklearn.metrics import classification_report\n",
    "from sklearn import model_selection\n",
    "from sklearn import cross_validation\n",
    "from sklearn.metrics import accuracy_score\n",
    "from sklearn.grid_search import GridSearchCV\n",
    "from sklearn.preprocessing import MinMaxScaler\n",
    "from sklearn.cross_validation import cross_val_score\n",
    "from sklearn.cross_validation import train_test_split\n",
    "from scipy import stats\n"
   ]
  },
  {
   "cell_type": "code",
   "execution_count": 4,
   "metadata": {},
   "outputs": [],
   "source": [
    "#load data\n",
    "\n",
    "med_Aptdata = pd.read_csv(\"KaggleV2-May-2016.csv\",na_values='?')"
   ]
  },
  {
   "cell_type": "code",
   "execution_count": 7,
   "metadata": {
    "scrolled": true
   },
   "outputs": [
    {
     "name": "stdout",
     "output_type": "stream",
     "text": [
      "<class 'pandas.core.frame.DataFrame'>\n",
      "RangeIndex: 110527 entries, 0 to 110526\n",
      "Data columns (total 14 columns):\n",
      "PatientId         110527 non-null float64\n",
      "AppointmentID     110527 non-null int64\n",
      "Gender            110527 non-null object\n",
      "ScheduledDay      110527 non-null object\n",
      "AppointmentDay    110527 non-null object\n",
      "Age               110527 non-null int64\n",
      "Neighbourhood     110527 non-null object\n",
      "Scholarship       110527 non-null int64\n",
      "Hipertension      110527 non-null int64\n",
      "Diabetes          110527 non-null int64\n",
      "Alcoholism        110527 non-null int64\n",
      "Handcap           110527 non-null int64\n",
      "SMS_received      110527 non-null int64\n",
      "No-show           110527 non-null object\n",
      "dtypes: float64(1), int64(8), object(5)\n",
      "memory usage: 11.8+ MB\n",
      "data struture(row, colunm) :  (110527, 14)\n"
     ]
    }
   ],
   "source": [
    "#look at data struture\n",
    "med_Aptdata.info()\n",
    "print  'data struture(row, colunm) : ', med_Aptdata.shape"
   ]
  },
  {
   "cell_type": "code",
   "execution_count": 47,
   "metadata": {},
   "outputs": [
    {
     "data": {
      "text/html": [
       "<div>\n",
       "<style>\n",
       "    .dataframe thead tr:only-child th {\n",
       "        text-align: right;\n",
       "    }\n",
       "\n",
       "    .dataframe thead th {\n",
       "        text-align: left;\n",
       "    }\n",
       "\n",
       "    .dataframe tbody tr th {\n",
       "        vertical-align: top;\n",
       "    }\n",
       "</style>\n",
       "<table border=\"1\" class=\"dataframe\">\n",
       "  <thead>\n",
       "    <tr style=\"text-align: right;\">\n",
       "      <th></th>\n",
       "      <th>PatientId</th>\n",
       "      <th>AppointmentID</th>\n",
       "      <th>Gender</th>\n",
       "      <th>ScheduledDay</th>\n",
       "      <th>AppointmentDay</th>\n",
       "      <th>Age</th>\n",
       "      <th>Neighbourhood</th>\n",
       "      <th>Scholarship</th>\n",
       "      <th>Hipertension</th>\n",
       "      <th>Diabetes</th>\n",
       "      <th>Alcoholism</th>\n",
       "      <th>Handcap</th>\n",
       "      <th>SMS_received</th>\n",
       "      <th>No-show</th>\n",
       "    </tr>\n",
       "  </thead>\n",
       "  <tbody>\n",
       "    <tr>\n",
       "      <th>0</th>\n",
       "      <td>2.987250e+13</td>\n",
       "      <td>5642903</td>\n",
       "      <td>F</td>\n",
       "      <td>2016-04-29T18:38:08Z</td>\n",
       "      <td>2016-04-29T00:00:00Z</td>\n",
       "      <td>62</td>\n",
       "      <td>JARDIM DA PENHA</td>\n",
       "      <td>0</td>\n",
       "      <td>1</td>\n",
       "      <td>0</td>\n",
       "      <td>0</td>\n",
       "      <td>0</td>\n",
       "      <td>0</td>\n",
       "      <td>No</td>\n",
       "    </tr>\n",
       "    <tr>\n",
       "      <th>1</th>\n",
       "      <td>5.589978e+14</td>\n",
       "      <td>5642503</td>\n",
       "      <td>M</td>\n",
       "      <td>2016-04-29T16:08:27Z</td>\n",
       "      <td>2016-04-29T00:00:00Z</td>\n",
       "      <td>56</td>\n",
       "      <td>JARDIM DA PENHA</td>\n",
       "      <td>0</td>\n",
       "      <td>0</td>\n",
       "      <td>0</td>\n",
       "      <td>0</td>\n",
       "      <td>0</td>\n",
       "      <td>0</td>\n",
       "      <td>No</td>\n",
       "    </tr>\n",
       "    <tr>\n",
       "      <th>2</th>\n",
       "      <td>4.262962e+12</td>\n",
       "      <td>5642549</td>\n",
       "      <td>F</td>\n",
       "      <td>2016-04-29T16:19:04Z</td>\n",
       "      <td>2016-04-29T00:00:00Z</td>\n",
       "      <td>62</td>\n",
       "      <td>MATA DA PRAIA</td>\n",
       "      <td>0</td>\n",
       "      <td>0</td>\n",
       "      <td>0</td>\n",
       "      <td>0</td>\n",
       "      <td>0</td>\n",
       "      <td>0</td>\n",
       "      <td>No</td>\n",
       "    </tr>\n",
       "    <tr>\n",
       "      <th>3</th>\n",
       "      <td>8.679512e+11</td>\n",
       "      <td>5642828</td>\n",
       "      <td>F</td>\n",
       "      <td>2016-04-29T17:29:31Z</td>\n",
       "      <td>2016-04-29T00:00:00Z</td>\n",
       "      <td>8</td>\n",
       "      <td>PONTAL DE CAMBURI</td>\n",
       "      <td>0</td>\n",
       "      <td>0</td>\n",
       "      <td>0</td>\n",
       "      <td>0</td>\n",
       "      <td>0</td>\n",
       "      <td>0</td>\n",
       "      <td>No</td>\n",
       "    </tr>\n",
       "    <tr>\n",
       "      <th>4</th>\n",
       "      <td>8.841186e+12</td>\n",
       "      <td>5642494</td>\n",
       "      <td>F</td>\n",
       "      <td>2016-04-29T16:07:23Z</td>\n",
       "      <td>2016-04-29T00:00:00Z</td>\n",
       "      <td>56</td>\n",
       "      <td>JARDIM DA PENHA</td>\n",
       "      <td>0</td>\n",
       "      <td>1</td>\n",
       "      <td>1</td>\n",
       "      <td>0</td>\n",
       "      <td>0</td>\n",
       "      <td>0</td>\n",
       "      <td>No</td>\n",
       "    </tr>\n",
       "    <tr>\n",
       "      <th>5</th>\n",
       "      <td>9.598513e+13</td>\n",
       "      <td>5626772</td>\n",
       "      <td>F</td>\n",
       "      <td>2016-04-27T08:36:51Z</td>\n",
       "      <td>2016-04-29T00:00:00Z</td>\n",
       "      <td>76</td>\n",
       "      <td>REPÚBLICA</td>\n",
       "      <td>0</td>\n",
       "      <td>1</td>\n",
       "      <td>0</td>\n",
       "      <td>0</td>\n",
       "      <td>0</td>\n",
       "      <td>0</td>\n",
       "      <td>No</td>\n",
       "    </tr>\n",
       "    <tr>\n",
       "      <th>6</th>\n",
       "      <td>7.336882e+14</td>\n",
       "      <td>5630279</td>\n",
       "      <td>F</td>\n",
       "      <td>2016-04-27T15:05:12Z</td>\n",
       "      <td>2016-04-29T00:00:00Z</td>\n",
       "      <td>23</td>\n",
       "      <td>GOIABEIRAS</td>\n",
       "      <td>0</td>\n",
       "      <td>0</td>\n",
       "      <td>0</td>\n",
       "      <td>0</td>\n",
       "      <td>0</td>\n",
       "      <td>0</td>\n",
       "      <td>Yes</td>\n",
       "    </tr>\n",
       "    <tr>\n",
       "      <th>7</th>\n",
       "      <td>3.449833e+12</td>\n",
       "      <td>5630575</td>\n",
       "      <td>F</td>\n",
       "      <td>2016-04-27T15:39:58Z</td>\n",
       "      <td>2016-04-29T00:00:00Z</td>\n",
       "      <td>39</td>\n",
       "      <td>GOIABEIRAS</td>\n",
       "      <td>0</td>\n",
       "      <td>0</td>\n",
       "      <td>0</td>\n",
       "      <td>0</td>\n",
       "      <td>0</td>\n",
       "      <td>0</td>\n",
       "      <td>Yes</td>\n",
       "    </tr>\n",
       "    <tr>\n",
       "      <th>8</th>\n",
       "      <td>5.639473e+13</td>\n",
       "      <td>5638447</td>\n",
       "      <td>F</td>\n",
       "      <td>2016-04-29T08:02:16Z</td>\n",
       "      <td>2016-04-29T00:00:00Z</td>\n",
       "      <td>21</td>\n",
       "      <td>ANDORINHAS</td>\n",
       "      <td>0</td>\n",
       "      <td>0</td>\n",
       "      <td>0</td>\n",
       "      <td>0</td>\n",
       "      <td>0</td>\n",
       "      <td>0</td>\n",
       "      <td>No</td>\n",
       "    </tr>\n",
       "    <tr>\n",
       "      <th>9</th>\n",
       "      <td>7.812456e+13</td>\n",
       "      <td>5629123</td>\n",
       "      <td>F</td>\n",
       "      <td>2016-04-27T12:48:25Z</td>\n",
       "      <td>2016-04-29T00:00:00Z</td>\n",
       "      <td>19</td>\n",
       "      <td>CONQUISTA</td>\n",
       "      <td>0</td>\n",
       "      <td>0</td>\n",
       "      <td>0</td>\n",
       "      <td>0</td>\n",
       "      <td>0</td>\n",
       "      <td>0</td>\n",
       "      <td>No</td>\n",
       "    </tr>\n",
       "  </tbody>\n",
       "</table>\n",
       "</div>"
      ],
      "text/plain": [
       "      PatientId  AppointmentID Gender          ScheduledDay  \\\n",
       "0  2.987250e+13        5642903      F  2016-04-29T18:38:08Z   \n",
       "1  5.589978e+14        5642503      M  2016-04-29T16:08:27Z   \n",
       "2  4.262962e+12        5642549      F  2016-04-29T16:19:04Z   \n",
       "3  8.679512e+11        5642828      F  2016-04-29T17:29:31Z   \n",
       "4  8.841186e+12        5642494      F  2016-04-29T16:07:23Z   \n",
       "5  9.598513e+13        5626772      F  2016-04-27T08:36:51Z   \n",
       "6  7.336882e+14        5630279      F  2016-04-27T15:05:12Z   \n",
       "7  3.449833e+12        5630575      F  2016-04-27T15:39:58Z   \n",
       "8  5.639473e+13        5638447      F  2016-04-29T08:02:16Z   \n",
       "9  7.812456e+13        5629123      F  2016-04-27T12:48:25Z   \n",
       "\n",
       "         AppointmentDay  Age      Neighbourhood  Scholarship  Hipertension  \\\n",
       "0  2016-04-29T00:00:00Z   62    JARDIM DA PENHA            0             1   \n",
       "1  2016-04-29T00:00:00Z   56    JARDIM DA PENHA            0             0   \n",
       "2  2016-04-29T00:00:00Z   62      MATA DA PRAIA            0             0   \n",
       "3  2016-04-29T00:00:00Z    8  PONTAL DE CAMBURI            0             0   \n",
       "4  2016-04-29T00:00:00Z   56    JARDIM DA PENHA            0             1   \n",
       "5  2016-04-29T00:00:00Z   76          REPÚBLICA            0             1   \n",
       "6  2016-04-29T00:00:00Z   23         GOIABEIRAS            0             0   \n",
       "7  2016-04-29T00:00:00Z   39         GOIABEIRAS            0             0   \n",
       "8  2016-04-29T00:00:00Z   21         ANDORINHAS            0             0   \n",
       "9  2016-04-29T00:00:00Z   19          CONQUISTA            0             0   \n",
       "\n",
       "   Diabetes  Alcoholism  Handcap  SMS_received No-show  \n",
       "0         0           0        0             0      No  \n",
       "1         0           0        0             0      No  \n",
       "2         0           0        0             0      No  \n",
       "3         0           0        0             0      No  \n",
       "4         1           0        0             0      No  \n",
       "5         0           0        0             0      No  \n",
       "6         0           0        0             0     Yes  \n",
       "7         0           0        0             0     Yes  \n",
       "8         0           0        0             0      No  \n",
       "9         0           0        0             0      No  "
      ]
     },
     "execution_count": 47,
     "metadata": {},
     "output_type": "execute_result"
    }
   ],
   "source": [
    "# first 10 row\n",
    "med_Aptdata.head(10)"
   ]
  },
  {
   "cell_type": "code",
   "execution_count": 11,
   "metadata": {},
   "outputs": [
    {
     "data": {
      "text/html": [
       "<div>\n",
       "<style>\n",
       "    .dataframe thead tr:only-child th {\n",
       "        text-align: right;\n",
       "    }\n",
       "\n",
       "    .dataframe thead th {\n",
       "        text-align: left;\n",
       "    }\n",
       "\n",
       "    .dataframe tbody tr th {\n",
       "        vertical-align: top;\n",
       "    }\n",
       "</style>\n",
       "<table border=\"1\" class=\"dataframe\">\n",
       "  <thead>\n",
       "    <tr style=\"text-align: right;\">\n",
       "      <th></th>\n",
       "      <th>PatientId</th>\n",
       "      <th>AppointmentID</th>\n",
       "      <th>Age</th>\n",
       "      <th>Scholarship</th>\n",
       "      <th>Hipertension</th>\n",
       "      <th>Diabetes</th>\n",
       "      <th>Alcoholism</th>\n",
       "      <th>Handcap</th>\n",
       "      <th>SMS_received</th>\n",
       "    </tr>\n",
       "  </thead>\n",
       "  <tbody>\n",
       "    <tr>\n",
       "      <th>count</th>\n",
       "      <td>1.105270e+05</td>\n",
       "      <td>1.105270e+05</td>\n",
       "      <td>110527.000000</td>\n",
       "      <td>110527.000000</td>\n",
       "      <td>110527.000000</td>\n",
       "      <td>110527.000000</td>\n",
       "      <td>110527.000000</td>\n",
       "      <td>110527.000000</td>\n",
       "      <td>110527.000000</td>\n",
       "    </tr>\n",
       "    <tr>\n",
       "      <th>mean</th>\n",
       "      <td>1.474963e+14</td>\n",
       "      <td>5.675305e+06</td>\n",
       "      <td>37.088874</td>\n",
       "      <td>0.098266</td>\n",
       "      <td>0.197246</td>\n",
       "      <td>0.071865</td>\n",
       "      <td>0.030400</td>\n",
       "      <td>0.022248</td>\n",
       "      <td>0.321026</td>\n",
       "    </tr>\n",
       "    <tr>\n",
       "      <th>std</th>\n",
       "      <td>2.560949e+14</td>\n",
       "      <td>7.129575e+04</td>\n",
       "      <td>23.110205</td>\n",
       "      <td>0.297675</td>\n",
       "      <td>0.397921</td>\n",
       "      <td>0.258265</td>\n",
       "      <td>0.171686</td>\n",
       "      <td>0.161543</td>\n",
       "      <td>0.466873</td>\n",
       "    </tr>\n",
       "    <tr>\n",
       "      <th>min</th>\n",
       "      <td>3.921784e+04</td>\n",
       "      <td>5.030230e+06</td>\n",
       "      <td>-1.000000</td>\n",
       "      <td>0.000000</td>\n",
       "      <td>0.000000</td>\n",
       "      <td>0.000000</td>\n",
       "      <td>0.000000</td>\n",
       "      <td>0.000000</td>\n",
       "      <td>0.000000</td>\n",
       "    </tr>\n",
       "    <tr>\n",
       "      <th>25%</th>\n",
       "      <td>4.172614e+12</td>\n",
       "      <td>5.640286e+06</td>\n",
       "      <td>18.000000</td>\n",
       "      <td>0.000000</td>\n",
       "      <td>0.000000</td>\n",
       "      <td>0.000000</td>\n",
       "      <td>0.000000</td>\n",
       "      <td>0.000000</td>\n",
       "      <td>0.000000</td>\n",
       "    </tr>\n",
       "    <tr>\n",
       "      <th>50%</th>\n",
       "      <td>3.173184e+13</td>\n",
       "      <td>5.680573e+06</td>\n",
       "      <td>37.000000</td>\n",
       "      <td>0.000000</td>\n",
       "      <td>0.000000</td>\n",
       "      <td>0.000000</td>\n",
       "      <td>0.000000</td>\n",
       "      <td>0.000000</td>\n",
       "      <td>0.000000</td>\n",
       "    </tr>\n",
       "    <tr>\n",
       "      <th>75%</th>\n",
       "      <td>9.439172e+13</td>\n",
       "      <td>5.725524e+06</td>\n",
       "      <td>55.000000</td>\n",
       "      <td>0.000000</td>\n",
       "      <td>0.000000</td>\n",
       "      <td>0.000000</td>\n",
       "      <td>0.000000</td>\n",
       "      <td>0.000000</td>\n",
       "      <td>1.000000</td>\n",
       "    </tr>\n",
       "    <tr>\n",
       "      <th>max</th>\n",
       "      <td>9.999816e+14</td>\n",
       "      <td>5.790484e+06</td>\n",
       "      <td>115.000000</td>\n",
       "      <td>1.000000</td>\n",
       "      <td>1.000000</td>\n",
       "      <td>1.000000</td>\n",
       "      <td>1.000000</td>\n",
       "      <td>4.000000</td>\n",
       "      <td>1.000000</td>\n",
       "    </tr>\n",
       "  </tbody>\n",
       "</table>\n",
       "</div>"
      ],
      "text/plain": [
       "          PatientId  AppointmentID            Age    Scholarship  \\\n",
       "count  1.105270e+05   1.105270e+05  110527.000000  110527.000000   \n",
       "mean   1.474963e+14   5.675305e+06      37.088874       0.098266   \n",
       "std    2.560949e+14   7.129575e+04      23.110205       0.297675   \n",
       "min    3.921784e+04   5.030230e+06      -1.000000       0.000000   \n",
       "25%    4.172614e+12   5.640286e+06      18.000000       0.000000   \n",
       "50%    3.173184e+13   5.680573e+06      37.000000       0.000000   \n",
       "75%    9.439172e+13   5.725524e+06      55.000000       0.000000   \n",
       "max    9.999816e+14   5.790484e+06     115.000000       1.000000   \n",
       "\n",
       "        Hipertension       Diabetes     Alcoholism        Handcap  \\\n",
       "count  110527.000000  110527.000000  110527.000000  110527.000000   \n",
       "mean        0.197246       0.071865       0.030400       0.022248   \n",
       "std         0.397921       0.258265       0.171686       0.161543   \n",
       "min         0.000000       0.000000       0.000000       0.000000   \n",
       "25%         0.000000       0.000000       0.000000       0.000000   \n",
       "50%         0.000000       0.000000       0.000000       0.000000   \n",
       "75%         0.000000       0.000000       0.000000       0.000000   \n",
       "max         1.000000       1.000000       1.000000       4.000000   \n",
       "\n",
       "        SMS_received  \n",
       "count  110527.000000  \n",
       "mean        0.321026  \n",
       "std         0.466873  \n",
       "min         0.000000  \n",
       "25%         0.000000  \n",
       "50%         0.000000  \n",
       "75%         1.000000  \n",
       "max         1.000000  "
      ]
     },
     "execution_count": 11,
     "metadata": {},
     "output_type": "execute_result"
    }
   ],
   "source": [
    "med_Aptdata.describe()"
   ]
  },
  {
   "cell_type": "markdown",
   "metadata": {},
   "source": [
    "\n",
    "## data discription and goal\n"
   ]
  },
  {
   "cell_type": "markdown",
   "metadata": {},
   "source": [
    "11057 observation and 14 variables.\n",
    "\n",
    "target(categorical) : No_show : Yes = no show, no = show up,\n",
    "13 factors\n",
    "\n",
    "useful precitors(age,neighborhood, scholarship,hipertension,diabetes,alcoholism,handcap,sms_received,gender, appointdate, scheduledate)\n",
    "\n",
    "8 categorical predictor and 2 numerical predictors\n"
   ]
  },
  {
   "cell_type": "markdown",
   "metadata": {},
   "source": [
    "## data cleaning"
   ]
  },
  {
   "cell_type": "markdown",
   "metadata": {},
   "source": [
    "After the first look at dataset. here are the few thing i m going to do to prepare the data \n",
    "\n",
    "1. check for missing variable and take care of missing value\n",
    "2. relable the datatype\n",
    "3. drop useless variable"
   ]
  },
  {
   "cell_type": "code",
   "execution_count": 5,
   "metadata": {},
   "outputs": [
    {
     "name": "stdout",
     "output_type": "stream",
     "text": [
      "attribute with missing values: \n",
      "\n",
      "[]\n"
     ]
    }
   ],
   "source": [
    "#check missing values\n",
    "print \"attribute with missing values: \\n\"\n",
    "print [col for col in med_Aptdata.columns if med_Aptdata[col].isnull().any()]"
   ]
  },
  {
   "cell_type": "markdown",
   "metadata": {},
   "source": [
    "No missign value"
   ]
  },
  {
   "cell_type": "code",
   "execution_count": 6,
   "metadata": {
    "collapsed": true
   },
   "outputs": [],
   "source": [
    "#drop useless columns\n",
    "med_Aptdata.drop(['PatientId','AppointmentID'], axis=1, inplace = True)"
   ]
  },
  {
   "cell_type": "code",
   "execution_count": 7,
   "metadata": {},
   "outputs": [],
   "source": [
    "#relable categorical datatype to str\n",
    "med_Aptdata.Scholarship=med_Aptdata.Scholarship.astype(str)\n",
    "med_Aptdata.Hipertension=med_Aptdata.Hipertension.astype(str)\n",
    "med_Aptdata.Diabetes=med_Aptdata.Diabetes.astype(str)\n",
    "med_Aptdata.Alcoholism=med_Aptdata.Alcoholism.astype(str)\n",
    "med_Aptdata.Handcap=med_Aptdata.Handcap.astype(str)\n",
    "med_Aptdata.SMS_received=med_Aptdata.SMS_received.astype(str)\n",
    "\n"
   ]
  },
  {
   "cell_type": "code",
   "execution_count": 39,
   "metadata": {},
   "outputs": [
    {
     "name": "stdout",
     "output_type": "stream",
     "text": [
      "<class 'pandas.core.frame.DataFrame'>\n",
      "RangeIndex: 110527 entries, 0 to 110526\n",
      "Data columns (total 12 columns):\n",
      "Gender            110527 non-null object\n",
      "ScheduledDay      110527 non-null object\n",
      "AppointmentDay    110527 non-null object\n",
      "Age               110527 non-null int64\n",
      "Neighbourhood     110527 non-null object\n",
      "Scholarship       110527 non-null object\n",
      "Hipertension      110527 non-null object\n",
      "Diabetes          110527 non-null object\n",
      "Alcoholism        110527 non-null object\n",
      "Handcap           110527 non-null object\n",
      "SMS_received      110527 non-null object\n",
      "No-show           110527 non-null object\n",
      "dtypes: int64(1), object(11)\n",
      "memory usage: 10.1+ MB\n"
     ]
    }
   ],
   "source": [
    "med_Aptdata.info()"
   ]
  },
  {
   "cell_type": "code",
   "execution_count": 16,
   "metadata": {},
   "outputs": [
    {
     "data": {
      "text/html": [
       "<div>\n",
       "<style>\n",
       "    .dataframe thead tr:only-child th {\n",
       "        text-align: right;\n",
       "    }\n",
       "\n",
       "    .dataframe thead th {\n",
       "        text-align: left;\n",
       "    }\n",
       "\n",
       "    .dataframe tbody tr th {\n",
       "        vertical-align: top;\n",
       "    }\n",
       "</style>\n",
       "<table border=\"1\" class=\"dataframe\">\n",
       "  <thead>\n",
       "    <tr style=\"text-align: right;\">\n",
       "      <th></th>\n",
       "      <th>Age</th>\n",
       "    </tr>\n",
       "  </thead>\n",
       "  <tbody>\n",
       "    <tr>\n",
       "      <th>count</th>\n",
       "      <td>110527.000000</td>\n",
       "    </tr>\n",
       "    <tr>\n",
       "      <th>mean</th>\n",
       "      <td>37.088874</td>\n",
       "    </tr>\n",
       "    <tr>\n",
       "      <th>std</th>\n",
       "      <td>23.110205</td>\n",
       "    </tr>\n",
       "    <tr>\n",
       "      <th>min</th>\n",
       "      <td>-1.000000</td>\n",
       "    </tr>\n",
       "    <tr>\n",
       "      <th>25%</th>\n",
       "      <td>18.000000</td>\n",
       "    </tr>\n",
       "    <tr>\n",
       "      <th>50%</th>\n",
       "      <td>37.000000</td>\n",
       "    </tr>\n",
       "    <tr>\n",
       "      <th>75%</th>\n",
       "      <td>55.000000</td>\n",
       "    </tr>\n",
       "    <tr>\n",
       "      <th>max</th>\n",
       "      <td>115.000000</td>\n",
       "    </tr>\n",
       "  </tbody>\n",
       "</table>\n",
       "</div>"
      ],
      "text/plain": [
       "                 Age\n",
       "count  110527.000000\n",
       "mean       37.088874\n",
       "std        23.110205\n",
       "min        -1.000000\n",
       "25%        18.000000\n",
       "50%        37.000000\n",
       "75%        55.000000\n",
       "max       115.000000"
      ]
     },
     "execution_count": 16,
     "metadata": {},
     "output_type": "execute_result"
    }
   ],
   "source": [
    "med_Aptdata.describe()"
   ]
  },
  {
   "cell_type": "markdown",
   "metadata": {},
   "source": [
    "age min = -1 make no sense."
   ]
  },
  {
   "cell_type": "code",
   "execution_count": 17,
   "metadata": {},
   "outputs": [
    {
     "data": {
      "text/plain": [
       "Gender            1\n",
       "ScheduledDay      1\n",
       "AppointmentDay    1\n",
       "Age               1\n",
       "Neighbourhood     1\n",
       "Scholarship       1\n",
       "Hipertension      1\n",
       "Diabetes          1\n",
       "Alcoholism        1\n",
       "Handcap           1\n",
       "SMS_received      1\n",
       "No-show           1\n",
       "dtype: int64"
      ]
     },
     "execution_count": 17,
     "metadata": {},
     "output_type": "execute_result"
    }
   ],
   "source": [
    "med_Aptdata[med_Aptdata.Age < 0].count()"
   ]
  },
  {
   "cell_type": "code",
   "execution_count": 8,
   "metadata": {},
   "outputs": [],
   "source": [
    "#only ONE record has age < 0 so remove it wont hurt\n",
    "med_Aptdata= med_Aptdata[med_Aptdata['Age'] >= 0]"
   ]
  },
  {
   "cell_type": "code",
   "execution_count": 20,
   "metadata": {},
   "outputs": [
    {
     "data": {
      "text/plain": [
       "Gender            0\n",
       "ScheduledDay      0\n",
       "AppointmentDay    0\n",
       "Age               0\n",
       "Neighbourhood     0\n",
       "Scholarship       0\n",
       "Hipertension      0\n",
       "Diabetes          0\n",
       "Alcoholism        0\n",
       "Handcap           0\n",
       "SMS_received      0\n",
       "No-show           0\n",
       "dtype: int64"
      ]
     },
     "execution_count": 20,
     "metadata": {},
     "output_type": "execute_result"
    }
   ],
   "source": [
    "med_Aptdata[med_Aptdata.Age < 0].count()"
   ]
  },
  {
   "cell_type": "code",
   "execution_count": 14,
   "metadata": {},
   "outputs": [
    {
     "name": "stdout",
     "output_type": "stream",
     "text": [
      "<class 'pandas.core.frame.DataFrame'>\n",
      "Int64Index: 110526 entries, 0 to 110526\n",
      "Data columns (total 12 columns):\n",
      "Gender            110526 non-null object\n",
      "ScheduledDay      110526 non-null object\n",
      "AppointmentDay    110526 non-null object\n",
      "Age               110526 non-null int64\n",
      "Neighbourhood     110526 non-null object\n",
      "Scholarship       110526 non-null object\n",
      "Hipertension      110526 non-null object\n",
      "Diabetes          110526 non-null object\n",
      "Alcoholism        110526 non-null object\n",
      "Handcap           110526 non-null object\n",
      "SMS_received      110526 non-null object\n",
      "No-show           110526 non-null object\n",
      "dtypes: int64(1), object(11)\n",
      "memory usage: 11.0+ MB\n"
     ]
    }
   ],
   "source": [
    "\n",
    "med_Aptdata.info()"
   ]
  },
  {
   "cell_type": "code",
   "execution_count": 22,
   "metadata": {},
   "outputs": [
    {
     "data": {
      "text/html": [
       "<div>\n",
       "<style>\n",
       "    .dataframe thead tr:only-child th {\n",
       "        text-align: right;\n",
       "    }\n",
       "\n",
       "    .dataframe thead th {\n",
       "        text-align: left;\n",
       "    }\n",
       "\n",
       "    .dataframe tbody tr th {\n",
       "        vertical-align: top;\n",
       "    }\n",
       "</style>\n",
       "<table border=\"1\" class=\"dataframe\">\n",
       "  <thead>\n",
       "    <tr style=\"text-align: right;\">\n",
       "      <th></th>\n",
       "      <th>Gender</th>\n",
       "      <th>ScheduledDay</th>\n",
       "      <th>AppointmentDay</th>\n",
       "      <th>Age</th>\n",
       "      <th>Neighbourhood</th>\n",
       "      <th>Scholarship</th>\n",
       "      <th>Hipertension</th>\n",
       "      <th>Diabetes</th>\n",
       "      <th>Alcoholism</th>\n",
       "      <th>Handcap</th>\n",
       "      <th>SMS_received</th>\n",
       "      <th>No-show</th>\n",
       "    </tr>\n",
       "  </thead>\n",
       "  <tbody>\n",
       "    <tr>\n",
       "      <th>0</th>\n",
       "      <td>F</td>\n",
       "      <td>2016-04-29T18:38:08Z</td>\n",
       "      <td>2016-04-29T00:00:00Z</td>\n",
       "      <td>62</td>\n",
       "      <td>JARDIM DA PENHA</td>\n",
       "      <td>0</td>\n",
       "      <td>1</td>\n",
       "      <td>0</td>\n",
       "      <td>0</td>\n",
       "      <td>0</td>\n",
       "      <td>0</td>\n",
       "      <td>No</td>\n",
       "    </tr>\n",
       "    <tr>\n",
       "      <th>1</th>\n",
       "      <td>M</td>\n",
       "      <td>2016-04-29T16:08:27Z</td>\n",
       "      <td>2016-04-29T00:00:00Z</td>\n",
       "      <td>56</td>\n",
       "      <td>JARDIM DA PENHA</td>\n",
       "      <td>0</td>\n",
       "      <td>0</td>\n",
       "      <td>0</td>\n",
       "      <td>0</td>\n",
       "      <td>0</td>\n",
       "      <td>0</td>\n",
       "      <td>No</td>\n",
       "    </tr>\n",
       "    <tr>\n",
       "      <th>2</th>\n",
       "      <td>F</td>\n",
       "      <td>2016-04-29T16:19:04Z</td>\n",
       "      <td>2016-04-29T00:00:00Z</td>\n",
       "      <td>62</td>\n",
       "      <td>MATA DA PRAIA</td>\n",
       "      <td>0</td>\n",
       "      <td>0</td>\n",
       "      <td>0</td>\n",
       "      <td>0</td>\n",
       "      <td>0</td>\n",
       "      <td>0</td>\n",
       "      <td>No</td>\n",
       "    </tr>\n",
       "    <tr>\n",
       "      <th>3</th>\n",
       "      <td>F</td>\n",
       "      <td>2016-04-29T17:29:31Z</td>\n",
       "      <td>2016-04-29T00:00:00Z</td>\n",
       "      <td>8</td>\n",
       "      <td>PONTAL DE CAMBURI</td>\n",
       "      <td>0</td>\n",
       "      <td>0</td>\n",
       "      <td>0</td>\n",
       "      <td>0</td>\n",
       "      <td>0</td>\n",
       "      <td>0</td>\n",
       "      <td>No</td>\n",
       "    </tr>\n",
       "    <tr>\n",
       "      <th>4</th>\n",
       "      <td>F</td>\n",
       "      <td>2016-04-29T16:07:23Z</td>\n",
       "      <td>2016-04-29T00:00:00Z</td>\n",
       "      <td>56</td>\n",
       "      <td>JARDIM DA PENHA</td>\n",
       "      <td>0</td>\n",
       "      <td>1</td>\n",
       "      <td>1</td>\n",
       "      <td>0</td>\n",
       "      <td>0</td>\n",
       "      <td>0</td>\n",
       "      <td>No</td>\n",
       "    </tr>\n",
       "  </tbody>\n",
       "</table>\n",
       "</div>"
      ],
      "text/plain": [
       "  Gender          ScheduledDay        AppointmentDay  Age      Neighbourhood  \\\n",
       "0      F  2016-04-29T18:38:08Z  2016-04-29T00:00:00Z   62    JARDIM DA PENHA   \n",
       "1      M  2016-04-29T16:08:27Z  2016-04-29T00:00:00Z   56    JARDIM DA PENHA   \n",
       "2      F  2016-04-29T16:19:04Z  2016-04-29T00:00:00Z   62      MATA DA PRAIA   \n",
       "3      F  2016-04-29T17:29:31Z  2016-04-29T00:00:00Z    8  PONTAL DE CAMBURI   \n",
       "4      F  2016-04-29T16:07:23Z  2016-04-29T00:00:00Z   56    JARDIM DA PENHA   \n",
       "\n",
       "  Scholarship Hipertension Diabetes Alcoholism Handcap SMS_received No-show  \n",
       "0           0            1        0          0       0            0      No  \n",
       "1           0            0        0          0       0            0      No  \n",
       "2           0            0        0          0       0            0      No  \n",
       "3           0            0        0          0       0            0      No  \n",
       "4           0            1        1          0       0            0      No  "
      ]
     },
     "execution_count": 22,
     "metadata": {},
     "output_type": "execute_result"
    }
   ],
   "source": [
    "med_Aptdata.head()"
   ]
  },
  {
   "cell_type": "code",
   "execution_count": 9,
   "metadata": {},
   "outputs": [],
   "source": [
    "#new colum, waitday  (day between ScheduledDay  and AppointmentDay)\n",
    "import numpy as np\n",
    "\n",
    "# Converts the two variables to datetime variables\n",
    "med_Aptdata['ScheduledDay'] = pd.to_datetime(med_Aptdata['ScheduledDay'])\n",
    "med_Aptdata['AppointmentDay'] = pd.to_datetime(med_Aptdata['AppointmentDay'])\n",
    "\n",
    "# Create a variable called \"waitday\" by subtracting the date.\n",
    "med_Aptdata['waitday'] = med_Aptdata[\"AppointmentDay\"].sub(med_Aptdata[\"ScheduledDay\"], axis=0)\n",
    "\n",
    "# Convert the result \"waitday\" to number of days between appointment day and scheduled day. \n",
    "med_Aptdata[\"waitday\"] = (med_Aptdata[\"waitday\"] / np.timedelta64(1, 'D')).abs().apply(np.floor)\n",
    "\n"
   ]
  },
  {
   "cell_type": "code",
   "execution_count": 14,
   "metadata": {},
   "outputs": [
    {
     "data": {
      "text/html": [
       "<div>\n",
       "<style>\n",
       "    .dataframe thead tr:only-child th {\n",
       "        text-align: right;\n",
       "    }\n",
       "\n",
       "    .dataframe thead th {\n",
       "        text-align: left;\n",
       "    }\n",
       "\n",
       "    .dataframe tbody tr th {\n",
       "        vertical-align: top;\n",
       "    }\n",
       "</style>\n",
       "<table border=\"1\" class=\"dataframe\">\n",
       "  <thead>\n",
       "    <tr style=\"text-align: right;\">\n",
       "      <th></th>\n",
       "      <th>Gender</th>\n",
       "      <th>Age</th>\n",
       "      <th>Neighbourhood</th>\n",
       "      <th>Scholarship</th>\n",
       "      <th>Hipertension</th>\n",
       "      <th>Diabetes</th>\n",
       "      <th>Alcoholism</th>\n",
       "      <th>Handcap</th>\n",
       "      <th>SMS_received</th>\n",
       "      <th>No-show</th>\n",
       "      <th>waitday</th>\n",
       "    </tr>\n",
       "  </thead>\n",
       "  <tbody>\n",
       "    <tr>\n",
       "      <th>0</th>\n",
       "      <td>F</td>\n",
       "      <td>62</td>\n",
       "      <td>JARDIM DA PENHA</td>\n",
       "      <td>0</td>\n",
       "      <td>1</td>\n",
       "      <td>0</td>\n",
       "      <td>0</td>\n",
       "      <td>0</td>\n",
       "      <td>0</td>\n",
       "      <td>No</td>\n",
       "      <td>0.0</td>\n",
       "    </tr>\n",
       "    <tr>\n",
       "      <th>1</th>\n",
       "      <td>M</td>\n",
       "      <td>56</td>\n",
       "      <td>JARDIM DA PENHA</td>\n",
       "      <td>0</td>\n",
       "      <td>0</td>\n",
       "      <td>0</td>\n",
       "      <td>0</td>\n",
       "      <td>0</td>\n",
       "      <td>0</td>\n",
       "      <td>No</td>\n",
       "      <td>0.0</td>\n",
       "    </tr>\n",
       "    <tr>\n",
       "      <th>2</th>\n",
       "      <td>F</td>\n",
       "      <td>62</td>\n",
       "      <td>MATA DA PRAIA</td>\n",
       "      <td>0</td>\n",
       "      <td>0</td>\n",
       "      <td>0</td>\n",
       "      <td>0</td>\n",
       "      <td>0</td>\n",
       "      <td>0</td>\n",
       "      <td>No</td>\n",
       "      <td>0.0</td>\n",
       "    </tr>\n",
       "    <tr>\n",
       "      <th>3</th>\n",
       "      <td>F</td>\n",
       "      <td>8</td>\n",
       "      <td>PONTAL DE CAMBURI</td>\n",
       "      <td>0</td>\n",
       "      <td>0</td>\n",
       "      <td>0</td>\n",
       "      <td>0</td>\n",
       "      <td>0</td>\n",
       "      <td>0</td>\n",
       "      <td>No</td>\n",
       "      <td>0.0</td>\n",
       "    </tr>\n",
       "    <tr>\n",
       "      <th>4</th>\n",
       "      <td>F</td>\n",
       "      <td>56</td>\n",
       "      <td>JARDIM DA PENHA</td>\n",
       "      <td>0</td>\n",
       "      <td>1</td>\n",
       "      <td>1</td>\n",
       "      <td>0</td>\n",
       "      <td>0</td>\n",
       "      <td>0</td>\n",
       "      <td>No</td>\n",
       "      <td>0.0</td>\n",
       "    </tr>\n",
       "  </tbody>\n",
       "</table>\n",
       "</div>"
      ],
      "text/plain": [
       "  Gender  Age      Neighbourhood Scholarship Hipertension Diabetes Alcoholism  \\\n",
       "0      F   62    JARDIM DA PENHA           0            1        0          0   \n",
       "1      M   56    JARDIM DA PENHA           0            0        0          0   \n",
       "2      F   62      MATA DA PRAIA           0            0        0          0   \n",
       "3      F    8  PONTAL DE CAMBURI           0            0        0          0   \n",
       "4      F   56    JARDIM DA PENHA           0            1        1          0   \n",
       "\n",
       "  Handcap SMS_received No-show  waitday  \n",
       "0       0            0      No      0.0  \n",
       "1       0            0      No      0.0  \n",
       "2       0            0      No      0.0  \n",
       "3       0            0      No      0.0  \n",
       "4       0            0      No      0.0  "
      ]
     },
     "execution_count": 14,
     "metadata": {},
     "output_type": "execute_result"
    }
   ],
   "source": [
    "med_Aptdata.head()"
   ]
  },
  {
   "cell_type": "code",
   "execution_count": 10,
   "metadata": {
    "collapsed": true
   },
   "outputs": [],
   "source": [
    "med_Aptdata.drop(['ScheduledDay','AppointmentDay'],axis=1,inplace=True)"
   ]
  },
  {
   "cell_type": "code",
   "execution_count": 11,
   "metadata": {},
   "outputs": [
    {
     "name": "stdout",
     "output_type": "stream",
     "text": [
      "<class 'pandas.core.frame.DataFrame'>\n",
      "Int64Index: 110526 entries, 0 to 110526\n",
      "Data columns (total 11 columns):\n",
      "Gender           110526 non-null object\n",
      "Age              110526 non-null int64\n",
      "Neighbourhood    110526 non-null object\n",
      "Scholarship      110526 non-null object\n",
      "Hipertension     110526 non-null object\n",
      "Diabetes         110526 non-null object\n",
      "Alcoholism       110526 non-null object\n",
      "Handcap          110526 non-null object\n",
      "SMS_received     110526 non-null object\n",
      "No-show          110526 non-null object\n",
      "waitday          110526 non-null float64\n",
      "dtypes: float64(1), int64(1), object(9)\n",
      "memory usage: 10.1+ MB\n"
     ]
    }
   ],
   "source": [
    "med_Aptdata.info()"
   ]
  },
  {
   "cell_type": "markdown",
   "metadata": {},
   "source": [
    "Innitial data cleaning done. Now, we have two numerical attributes(Age and waitday), and 8 categorical attributes."
   ]
  },
  {
   "cell_type": "markdown",
   "metadata": {},
   "source": [
    "# Exploratory"
   ]
  },
  {
   "cell_type": "markdown",
   "metadata": {},
   "source": [
    "## Univariate"
   ]
  },
  {
   "cell_type": "markdown",
   "metadata": {},
   "source": [
    "numerical"
   ]
  },
  {
   "cell_type": "code",
   "execution_count": 27,
   "metadata": {},
   "outputs": [
    {
     "data": {
      "text/html": [
       "<div>\n",
       "<style>\n",
       "    .dataframe thead tr:only-child th {\n",
       "        text-align: right;\n",
       "    }\n",
       "\n",
       "    .dataframe thead th {\n",
       "        text-align: left;\n",
       "    }\n",
       "\n",
       "    .dataframe tbody tr th {\n",
       "        vertical-align: top;\n",
       "    }\n",
       "</style>\n",
       "<table border=\"1\" class=\"dataframe\">\n",
       "  <thead>\n",
       "    <tr style=\"text-align: right;\">\n",
       "      <th></th>\n",
       "      <th>Age</th>\n",
       "      <th>waitday</th>\n",
       "    </tr>\n",
       "  </thead>\n",
       "  <tbody>\n",
       "    <tr>\n",
       "      <th>count</th>\n",
       "      <td>110526.000000</td>\n",
       "      <td>110526.000000</td>\n",
       "    </tr>\n",
       "    <tr>\n",
       "      <th>mean</th>\n",
       "      <td>37.089219</td>\n",
       "      <td>9.532915</td>\n",
       "    </tr>\n",
       "    <tr>\n",
       "      <th>std</th>\n",
       "      <td>23.110026</td>\n",
       "      <td>15.027724</td>\n",
       "    </tr>\n",
       "    <tr>\n",
       "      <th>min</th>\n",
       "      <td>0.000000</td>\n",
       "      <td>0.000000</td>\n",
       "    </tr>\n",
       "    <tr>\n",
       "      <th>25%</th>\n",
       "      <td>18.000000</td>\n",
       "      <td>0.000000</td>\n",
       "    </tr>\n",
       "    <tr>\n",
       "      <th>50%</th>\n",
       "      <td>37.000000</td>\n",
       "      <td>3.000000</td>\n",
       "    </tr>\n",
       "    <tr>\n",
       "      <th>75%</th>\n",
       "      <td>55.000000</td>\n",
       "      <td>14.000000</td>\n",
       "    </tr>\n",
       "    <tr>\n",
       "      <th>max</th>\n",
       "      <td>115.000000</td>\n",
       "      <td>178.000000</td>\n",
       "    </tr>\n",
       "  </tbody>\n",
       "</table>\n",
       "</div>"
      ],
      "text/plain": [
       "                 Age        waitday\n",
       "count  110526.000000  110526.000000\n",
       "mean       37.089219       9.532915\n",
       "std        23.110026      15.027724\n",
       "min         0.000000       0.000000\n",
       "25%        18.000000       0.000000\n",
       "50%        37.000000       3.000000\n",
       "75%        55.000000      14.000000\n",
       "max       115.000000     178.000000"
      ]
     },
     "execution_count": 27,
     "metadata": {},
     "output_type": "execute_result"
    }
   ],
   "source": [
    "med_Aptdata.describe()"
   ]
  },
  {
   "cell_type": "code",
   "execution_count": 28,
   "metadata": {},
   "outputs": [
    {
     "data": {
      "image/png": "[encoded data removed]",
      "text/plain": [
       "<matplotlib.figure.Figure at 0x1132990d0>"
      ]
     },
     "metadata": {},
     "output_type": "display_data"
    }
   ],
   "source": [
    "#boxplot\n",
    "\n",
    "fig = plt.figure(figsize=(20, 20))\n",
    "ax1 = fig.add_subplot(2,3,1) \n",
    "bp= ax1.boxplot(med_Aptdata['Age'])\n",
    "y = med_Aptdata.Age\n",
    "x = np.random.normal(1, 0.04, size=len(y))\n",
    "ax1.plot(x,y, 'y.', alpha=0.05)\n",
    "ax1.set_title(\"boxplot of Age\")\n",
    "ax2 = fig.add_subplot(2,3,2) \n",
    "bp2= ax2.boxplot(med_Aptdata['waitday'])\n",
    "y2 = med_Aptdata.waitday\n",
    "x2 = np.random.normal(1, 0.04, size=len(y2))\n",
    "ax2.plot(x2,y2, 'y.', alpha=0.08)\n",
    "ax2.set_title(\"boxplot of waitday\")\n",
    "plt.show()"
   ]
  },
  {
   "cell_type": "code",
   "execution_count": 29,
   "metadata": {},
   "outputs": [
    {
     "data": {
      "image/png": "[encoded data removed]",
      "text/plain": [
       "<matplotlib.figure.Figure at 0x1083d3890>"
      ]
     },
     "metadata": {},
     "output_type": "display_data"
    }
   ],
   "source": [
    "#box plot  and histogram\n",
    "import matplotlib.pyplot as plt\n",
    "import pylab\n",
    "import matplotlib\n",
    "matplotlib.style.use('ggplot')\n",
    "%matplotlib inline\n",
    "\n",
    "\n",
    "fig = plt.figure(figsize=(10, 10))\n",
    "ax1 = fig.add_subplot(2,3,1) \n",
    "ax1.boxplot(med_Aptdata['Age'])\n",
    "ax1.set_title(\"boxplot of Age\")\n",
    "ax2 = fig.add_subplot(2,3,2) \n",
    "ax2.boxplot(med_Aptdata['waitday'])\n",
    "ax2.set_title(\"boxplot of waitday\")\n",
    "\n",
    "plt.show()"
   ]
  },
  {
   "cell_type": "code",
   "execution_count": 30,
   "metadata": {},
   "outputs": [
    {
     "data": {
      "text/plain": [
       "array([[<matplotlib.axes._subplots.AxesSubplot object at 0x115d4c610>,\n",
       "        <matplotlib.axes._subplots.AxesSubplot object at 0x1152846d0>]], dtype=object)"
      ]
     },
     "execution_count": 30,
     "metadata": {},
     "output_type": "execute_result"
    },
    {
     "data": {
      "text/plain": [
       "<matplotlib.figure.Figure at 0x113299750>"
      ]
     },
     "metadata": {},
     "output_type": "display_data"
    },
    {
     "data": {
      "image/png": "[encoded data removed]",
      "text/plain": [
       "<matplotlib.figure.Figure at 0x1132994d0>"
      ]
     },
     "metadata": {},
     "output_type": "display_data"
    }
   ],
   "source": [
    "#histogram\n",
    "plt.figure()\n",
    "med_Aptdata[['Age', 'waitday']].hist(color='blue',alpha=0.7,edgecolor=\"black\",figsize=(10, 10) )"
   ]
  },
  {
   "cell_type": "markdown",
   "metadata": {},
   "source": [
    "there are few outlier in age but based on box plot and histogram, it doent look like it will affect our model building latr. On the other hand, have long tail on the right (right skwenness) in waitday meaning that we have some extreme high values for waitday and it may cause problem for prediction. there are many way  such as over/under sampling , transformation  to address (skewnness) issue. In this case, I will use biinning method to try to group large value togather and  balance out the distribution since it will be more interpretable and help to solve the outlier issue.  \n",
    "\n",
    "\n",
    "\n",
    "\n",
    "most obeservation are under age ~70.\n",
    "\n",
    "most people make appoitment fo no later than a month\n"
   ]
  },
  {
   "cell_type": "code",
   "execution_count": 12,
   "metadata": {},
   "outputs": [],
   "source": [
    "#additional preparation after exploring the data(binning the waitday)\n",
    "# group: (sameday, 0; withinweek,7. over_a_month,30 )\n",
    "\n",
    "bins = [-1,2,7,14,30,360]\n",
    "labels = [\"wihtinTwoDay\", \"Week\", \"TwoWeeks\", \"Month\",\"MoreThanAMonth\"]\n",
    "wait_period = pd.cut(med_Aptdata['waitday'], bins, labels=labels)\n",
    "med_Aptdata['Wait_period'] = wait_period"
   ]
  },
  {
   "cell_type": "code",
   "execution_count": 13,
   "metadata": {
    "collapsed": true
   },
   "outputs": [],
   "source": [
    "med_Aptdata.drop(['waitday'],axis=1,inplace=True)"
   ]
  },
  {
   "cell_type": "code",
   "execution_count": 13,
   "metadata": {},
   "outputs": [
    {
     "data": {
      "text/html": [
       "<div>\n",
       "<style>\n",
       "    .dataframe thead tr:only-child th {\n",
       "        text-align: right;\n",
       "    }\n",
       "\n",
       "    .dataframe thead th {\n",
       "        text-align: left;\n",
       "    }\n",
       "\n",
       "    .dataframe tbody tr th {\n",
       "        vertical-align: top;\n",
       "    }\n",
       "</style>\n",
       "<table border=\"1\" class=\"dataframe\">\n",
       "  <thead>\n",
       "    <tr style=\"text-align: right;\">\n",
       "      <th></th>\n",
       "      <th>Gender</th>\n",
       "      <th>Age</th>\n",
       "      <th>Neighbourhood</th>\n",
       "      <th>Scholarship</th>\n",
       "      <th>Hipertension</th>\n",
       "      <th>Diabetes</th>\n",
       "      <th>Alcoholism</th>\n",
       "      <th>Handcap</th>\n",
       "      <th>SMS_received</th>\n",
       "      <th>No-show</th>\n",
       "      <th>Wait_period</th>\n",
       "    </tr>\n",
       "  </thead>\n",
       "  <tbody>\n",
       "    <tr>\n",
       "      <th>0</th>\n",
       "      <td>F</td>\n",
       "      <td>62</td>\n",
       "      <td>JARDIM DA PENHA</td>\n",
       "      <td>0</td>\n",
       "      <td>1</td>\n",
       "      <td>0</td>\n",
       "      <td>0</td>\n",
       "      <td>0</td>\n",
       "      <td>0</td>\n",
       "      <td>No</td>\n",
       "      <td>wihtinTwoDay</td>\n",
       "    </tr>\n",
       "    <tr>\n",
       "      <th>1</th>\n",
       "      <td>M</td>\n",
       "      <td>56</td>\n",
       "      <td>JARDIM DA PENHA</td>\n",
       "      <td>0</td>\n",
       "      <td>0</td>\n",
       "      <td>0</td>\n",
       "      <td>0</td>\n",
       "      <td>0</td>\n",
       "      <td>0</td>\n",
       "      <td>No</td>\n",
       "      <td>wihtinTwoDay</td>\n",
       "    </tr>\n",
       "    <tr>\n",
       "      <th>2</th>\n",
       "      <td>F</td>\n",
       "      <td>62</td>\n",
       "      <td>MATA DA PRAIA</td>\n",
       "      <td>0</td>\n",
       "      <td>0</td>\n",
       "      <td>0</td>\n",
       "      <td>0</td>\n",
       "      <td>0</td>\n",
       "      <td>0</td>\n",
       "      <td>No</td>\n",
       "      <td>wihtinTwoDay</td>\n",
       "    </tr>\n",
       "    <tr>\n",
       "      <th>3</th>\n",
       "      <td>F</td>\n",
       "      <td>8</td>\n",
       "      <td>PONTAL DE CAMBURI</td>\n",
       "      <td>0</td>\n",
       "      <td>0</td>\n",
       "      <td>0</td>\n",
       "      <td>0</td>\n",
       "      <td>0</td>\n",
       "      <td>0</td>\n",
       "      <td>No</td>\n",
       "      <td>wihtinTwoDay</td>\n",
       "    </tr>\n",
       "    <tr>\n",
       "      <th>4</th>\n",
       "      <td>F</td>\n",
       "      <td>56</td>\n",
       "      <td>JARDIM DA PENHA</td>\n",
       "      <td>0</td>\n",
       "      <td>1</td>\n",
       "      <td>1</td>\n",
       "      <td>0</td>\n",
       "      <td>0</td>\n",
       "      <td>0</td>\n",
       "      <td>No</td>\n",
       "      <td>wihtinTwoDay</td>\n",
       "    </tr>\n",
       "  </tbody>\n",
       "</table>\n",
       "</div>"
      ],
      "text/plain": [
       "  Gender  Age      Neighbourhood Scholarship Hipertension Diabetes Alcoholism  \\\n",
       "0      F   62    JARDIM DA PENHA           0            1        0          0   \n",
       "1      M   56    JARDIM DA PENHA           0            0        0          0   \n",
       "2      F   62      MATA DA PRAIA           0            0        0          0   \n",
       "3      F    8  PONTAL DE CAMBURI           0            0        0          0   \n",
       "4      F   56    JARDIM DA PENHA           0            1        1          0   \n",
       "\n",
       "  Handcap SMS_received No-show   Wait_period  \n",
       "0       0            0      No  wihtinTwoDay  \n",
       "1       0            0      No  wihtinTwoDay  \n",
       "2       0            0      No  wihtinTwoDay  \n",
       "3       0            0      No  wihtinTwoDay  \n",
       "4       0            0      No  wihtinTwoDay  "
      ]
     },
     "execution_count": 13,
     "metadata": {},
     "output_type": "execute_result"
    }
   ],
   "source": [
    "med_Aptdata.head()"
   ]
  },
  {
   "cell_type": "markdown",
   "metadata": {},
   "source": [
    "Categorical"
   ]
  },
  {
   "cell_type": "code",
   "execution_count": 34,
   "metadata": {},
   "outputs": [
    {
     "data": {
      "image/png": "[encoded data removed]",
      "text/plain": [
       "<matplotlib.figure.Figure at 0x11565bbd0>"
      ]
     },
     "metadata": {},
     "output_type": "display_data"
    },
    {
     "data": {
      "text/plain": [
       "No-show\n",
       "No     79.806561\n",
       "Yes    20.193439\n",
       "dtype: float64"
      ]
     },
     "execution_count": 34,
     "metadata": {},
     "output_type": "execute_result"
    }
   ],
   "source": [
    "#bar plot target: noshow \n",
    "\n",
    "a=['No-show']\n",
    "fig = plt.figure(figsize=(20, 20))\n",
    "for i in range(len(a)):\n",
    "    \n",
    "    ax=fig.add_subplot(3,3,i+1)\n",
    "    ax.set_title(a[i])\n",
    "    med_Aptdata[a[i]].value_counts().plot(kind='bar',color='blue')\n",
    "fig.tight_layout()\n",
    "plt.show()\n",
    "\n",
    "#percentable table\n",
    "med_Aptdata.groupby('No-show').size() * 100 / len(med_Aptdata)"
   ]
  },
  {
   "cell_type": "markdown",
   "metadata": {},
   "source": [
    "target is inbalance! 80% of observation does not miss appoitment. only 20% miss the appoitment. Need to consider about the inbalanced target when we build models"
   ]
  },
  {
   "cell_type": "code",
   "execution_count": 35,
   "metadata": {},
   "outputs": [
    {
     "data": {
      "image/png": "[encoded data removed]",
      "text/plain": [
       "<matplotlib.figure.Figure at 0x11c58cdd0>"
      ]
     },
     "metadata": {},
     "output_type": "display_data"
    }
   ],
   "source": [
    "\n",
    "#bar plot 1\n",
    "a=['Gender','Neighbourhood','Scholarship','Wait_period']\n",
    "fig = plt.figure(figsize=(20, 20))\n",
    "for i in range(len(a)):\n",
    "    \n",
    "    ax=fig.add_subplot(2,2,i+1)\n",
    "    ax.set_title(a[i])\n",
    "    med_Aptdata[a[i]].value_counts().plot(kind='bar',color='blue')\n",
    "fig.tight_layout()\n",
    "plt.show()"
   ]
  },
  {
   "cell_type": "markdown",
   "metadata": {},
   "source": [
    "for  our obesravation, we have more case in female than male. most poepl's waitday is within 2 days. most people dont recieved scholarship(special offer)"
   ]
  },
  {
   "cell_type": "code",
   "execution_count": 166,
   "metadata": {},
   "outputs": [
    {
     "data": {
      "image/png": "[encoded data removed]",
      "text/plain": [
       "<matplotlib.figure.Figure at 0x11b65a590>"
      ]
     },
     "metadata": {},
     "output_type": "display_data"
    }
   ],
   "source": [
    "#bat plot 2\n",
    "a=['Hipertension','Diabetes','Alcoholism','Handcap','SMS_received']\n",
    "fig = plt.figure(figsize=(20, 20))\n",
    "for i in range(len(a)):\n",
    "    \n",
    "    ax=fig.add_subplot(3,3,i+1)\n",
    "    ax.set_title(a[i])\n",
    "    med_Aptdata[a[i]].value_counts().plot(kind='bar',color='blue')\n",
    "fig.tight_layout()\n",
    "plt.show()"
   ]
  },
  {
   "cell_type": "code",
   "execution_count": 200,
   "metadata": {},
   "outputs": [
    {
     "data": {
      "text/plain": [
       "SMS_received\n",
       "0    67.897146\n",
       "1    32.102854\n",
       "dtype: float64"
      ]
     },
     "execution_count": 200,
     "metadata": {},
     "output_type": "execute_result"
    }
   ],
   "source": [
    "#percentable table\n",
    "med_Aptdata.groupby('SMS_received').size() * 100 / len(med_Aptdata)"
   ]
  },
  {
   "cell_type": "markdown",
   "metadata": {},
   "source": [
    "Also, majorraity of people doesnt have any labeled conditions(such as Diabetes, alchoholism, handicap..etc). \n",
    "\n",
    "~67% of people signed up for sms reminder and ~32 are not."
   ]
  },
  {
   "cell_type": "markdown",
   "metadata": {},
   "source": [
    "## mutivariate"
   ]
  },
  {
   "cell_type": "markdown",
   "metadata": {},
   "source": [
    "#### Age vs noshow\n"
   ]
  },
  {
   "cell_type": "code",
   "execution_count": 174,
   "metadata": {},
   "outputs": [
    {
     "data": {
      "text/plain": [
       "<matplotlib.figure.Figure at 0x11daf28d0>"
      ]
     },
     "metadata": {},
     "output_type": "display_data"
    },
    {
     "data": {
      "image/png": "[encoded data removed]",
      "text/plain": [
       "<matplotlib.figure.Figure at 0x11daf2950>"
      ]
     },
     "metadata": {},
     "output_type": "display_data"
    }
   ],
   "source": [
    "# box plot by survive for numerical\n",
    "\n",
    "fig = plt.figure(figsize=(30, 30))\n",
    "\n",
    "a= med_Aptdata.boxplot(column= 'Age',by='No-show')\n",
    "\n",
    "\n",
    "plt.show()"
   ]
  },
  {
   "cell_type": "markdown",
   "metadata": {},
   "source": [
    "in general, people who miss the appointment tend to be younger."
   ]
  },
  {
   "cell_type": "code",
   "execution_count": 251,
   "metadata": {},
   "outputs": [
    {
     "data": {
      "text/plain": [
       "F_onewayResult(statistic=403.70201903382997, pvalue=1.2461264409419246e-89)"
      ]
     },
     "execution_count": 251,
     "metadata": {},
     "output_type": "execute_result"
    }
   ],
   "source": [
    "#Anova test\n",
    "import scipy.stats as stats\n",
    "\n",
    "stats.f_oneway(med_Aptdata.loc[med_Aptdata['No-show'] == 'Yes','Age'],med_Aptdata.loc[med_Aptdata['No-show'] == 'No','Age'])"
   ]
  },
  {
   "cell_type": "markdown",
   "metadata": {},
   "source": [
    "Statistically comfimed that there are significant evidence that age is correlated with noshow based on anova test (p value < 0.05 indicates that mean of ages for two group(noshow vs show) are differnt )"
   ]
  },
  {
   "cell_type": "markdown",
   "metadata": {},
   "source": [
    "#### Comparing no show rate between groups for each categorical attributes"
   ]
  },
  {
   "cell_type": "code",
   "execution_count": 216,
   "metadata": {},
   "outputs": [
    {
     "name": "stdout",
     "output_type": "stream",
     "text": [
      "percentage cross table (* Comapring No- show = yes) :    Gender\n",
      "No-show        No       Yes\n",
      "Gender                     \n",
      "F        0.796851  0.203149\n",
      "M        0.800321  0.199679\n",
      "\n",
      "\n",
      "\n",
      "percentage cross table (* Comapring No- show = yes) :    Neighbourhood\n",
      "No-show                    No       Yes\n",
      "Neighbourhood                          \n",
      "AEROPORTO            0.875000  0.125000\n",
      "ANDORINHAS           0.769673  0.230327\n",
      "ANTÔNIO HONÓRIO      0.815498  0.184502\n",
      "ARIOVALDO FAVALESSA  0.780142  0.219858\n",
      "BARRO VERMELHO       0.784870  0.215130\n",
      "BELA VISTA           0.798637  0.201363\n",
      "BENTO FERREIRA       0.775058  0.224942\n",
      "BOA VISTA            0.814103  0.185897\n",
      "BONFIM               0.801659  0.198341\n",
      "CARATOÍRA            0.769591  0.230409\n",
      "CENTRO               0.789142  0.210858\n",
      "COMDUSA              0.819355  0.180645\n",
      "CONQUISTA            0.811543  0.188457\n",
      "CONSOLAÇÃO           0.827762  0.172238\n",
      "CRUZAMENTO           0.782546  0.217454\n",
      "DA PENHA             0.806495  0.193505\n",
      "DE LOURDES           0.845902  0.154098\n",
      "DO CABRAL            0.842857  0.157143\n",
      "DO MOSCOSO           0.777240  0.222760\n",
      "DO QUADRO            0.835100  0.164900\n",
      "ENSEADA DO SUÁ       0.778723  0.221277\n",
      "ESTRELINHA           0.802974  0.197026\n",
      "FONTE GRANDE         0.781525  0.218475\n",
      "FORTE SÃO JOÃO       0.816834  0.183166\n",
      "FRADINHOS            0.813953  0.186047\n",
      "GOIABEIRAS           0.804286  0.195714\n",
      "GRANDE VITÓRIA       0.797386  0.202614\n",
      "GURIGICA             0.774034  0.225966\n",
      "HORTO                0.760000  0.240000\n",
      "ILHA DAS CAIEIRAS    0.780579  0.219421\n",
      "...                       ...       ...\n",
      "PARQUE INDUSTRIAL    1.000000  0.000000\n",
      "PARQUE MOSCOSO       0.776808  0.223192\n",
      "PIEDADE              0.805310  0.194690\n",
      "PONTAL DE CAMBURI    0.826087  0.173913\n",
      "PRAIA DO CANTO       0.816425  0.183575\n",
      "PRAIA DO SUÁ         0.771739  0.228261\n",
      "REDENÇÃO             0.822923  0.177077\n",
      "REPÚBLICA            0.828743  0.171257\n",
      "RESISTÊNCIA          0.795531  0.204469\n",
      "ROMÃO                0.785908  0.214092\n",
      "SANTA CECÍLIA        0.725446  0.274554\n",
      "SANTA CLARA          0.735178  0.264822\n",
      "SANTA HELENA         0.792135  0.207865\n",
      "SANTA LUÍZA          0.820093  0.179907\n",
      "SANTA LÚCIA          0.803653  0.196347\n",
      "SANTA MARTHA         0.841584  0.158416\n",
      "SANTA TEREZA         0.795796  0.204204\n",
      "SANTO ANDRÉ          0.802412  0.197588\n",
      "SANTO ANTÔNIO        0.823744  0.176256\n",
      "SANTOS DUMONT        0.710815  0.289185\n",
      "SANTOS REIS          0.795247  0.204753\n",
      "SEGURANÇA DO LAR     0.806897  0.193103\n",
      "SOLON BORGES         0.852878  0.147122\n",
      "SÃO BENEDITO         0.800556  0.199444\n",
      "SÃO CRISTÓVÃO        0.802288  0.197712\n",
      "SÃO JOSÉ             0.783510  0.216490\n",
      "SÃO PEDRO            0.789624  0.210376\n",
      "TABUAZEIRO           0.817050  0.182950\n",
      "UNIVERSITÁRIO        0.789474  0.210526\n",
      "VILA RUBIM           0.834313  0.165687\n",
      "\n",
      "[81 rows x 2 columns]\n",
      "\n",
      "\n",
      "\n",
      "percentage cross table (* Comapring No- show = yes) :    Scholarship\n",
      "No-show            No       Yes\n",
      "Scholarship                    \n",
      "0            0.801926  0.198074\n",
      "1            0.762637  0.237363\n",
      "\n",
      "\n",
      "\n",
      "percentage cross table (* Comapring No- show = yes) :    Wait_period\n",
      "No-show               No       Yes\n",
      "Wait_period                       \n",
      "wihtinTwoDay    0.903176  0.096824\n",
      "Week            0.743789  0.256211\n",
      "TwoWeeks        0.687746  0.312254\n",
      "Month           0.674788  0.325212\n",
      "MoreThanAMonth  0.669792  0.330208\n",
      "\n",
      "\n",
      "\n",
      "percentage cross table (* Comapring No- show = yes) :    Hipertension\n",
      "No-show             No       Yes\n",
      "Hipertension                    \n",
      "0             0.790961  0.209039\n",
      "1             0.826980  0.173020\n",
      "\n",
      "\n",
      "\n",
      "percentage cross table (* Comapring No- show = yes) :    Diabetes\n",
      "No-show         No       Yes\n",
      "Diabetes                    \n",
      "0         0.796370  0.203630\n",
      "1         0.819967  0.180033\n",
      "\n",
      "\n",
      "\n",
      "percentage cross table (* Comapring No- show = yes) :    Alcoholism\n",
      "No-show           No       Yes\n",
      "Alcoholism                    \n",
      "0           0.798052  0.201948\n",
      "1           0.798512  0.201488\n",
      "\n",
      "\n",
      "\n",
      "percentage cross table (* Comapring No- show = yes) :    Handcap\n",
      "No-show        No       Yes\n",
      "Handcap                    \n",
      "0        0.797645  0.202355\n",
      "1        0.820764  0.179236\n",
      "2        0.797814  0.202186\n",
      "3        0.769231  0.230769\n",
      "4        0.666667  0.333333\n",
      "\n",
      "\n",
      "\n",
      "percentage cross table (* Comapring No- show = yes) :    SMS_received\n",
      "No-show             No       Yes\n",
      "SMS_received                    \n",
      "0             0.832965  0.167035\n",
      "1             0.724255  0.275745\n",
      "\n",
      "\n",
      "\n"
     ]
    }
   ],
   "source": [
    "#Cross table percentagewise\n",
    "attributes =['Gender','Neighbourhood','Scholarship','Wait_period','Hipertension','Diabetes','Alcoholism','Handcap','SMS_received']\n",
    "\n",
    "for i in attributes:\n",
    "    print 'percentage cross table (* Comapring No- show = yes) :', '  ', i\n",
    "    print pd.crosstab(med_Aptdata[i],med_Aptdata[\"No-show\"]).apply(lambda x: x/x.sum(), 1)\n",
    "    print ''\n",
    "    print ''\n",
    "    print ''"
   ]
  },
  {
   "cell_type": "markdown",
   "metadata": {},
   "source": [
    "some significant differnt between group can be detected for some attribute which indicate that we may have some good predictor.\n",
    "\n",
    "\n",
    "For example:\n",
    "\n",
    "for gender : female and male no show rate are not significantly different (20% vs 19%)\n",
    "\n",
    "for neighbor : PARQUE INDUSTRIAL has 0% no show rate.\n",
    "\n",
    "for Wait_period: no show rate is significant lower for waittime withintwoday( 0.09% ) than other groups (25%-33%)\n",
    "\n",
    "for handicap: Handicap_4 has significantly higher no show rate(33%) compare to the other groups(17%-23%) \n",
    "\n",
    "for sms recievied: surpringly , people who are given sms remider are 9% more likley to miss the appointment. \n"
   ]
  },
  {
   "cell_type": "code",
   "execution_count": 222,
   "metadata": {},
   "outputs": [
    {
     "data": {
      "image/png": "[encoded data removed]",
      "text/plain": [
       "<matplotlib.figure.Figure at 0x11b6fe2d0>"
      ]
     },
     "metadata": {},
     "output_type": "display_data"
    },
    {
     "data": {
      "image/png": "[encoded data removed]",
      "text/plain": [
       "<matplotlib.figure.Figure at 0x11998fd10>"
      ]
     },
     "metadata": {},
     "output_type": "display_data"
    },
    {
     "data": {
      "image/png": "[encoded data removed]",
      "text/plain": [
       "<matplotlib.figure.Figure at 0x116269bd0>"
      ]
     },
     "metadata": {},
     "output_type": "display_data"
    },
    {
     "data": {
      "image/png": "[encoded data removed]",
      "text/plain": [
       "<matplotlib.figure.Figure at 0x1162aead0>"
      ]
     },
     "metadata": {},
     "output_type": "display_data"
    },
    {
     "data": {
      "image/png": "[encoded data removed]",
      "text/plain": [
       "<matplotlib.figure.Figure at 0x11b556090>"
      ]
     },
     "metadata": {},
     "output_type": "display_data"
    },
    {
     "data": {
      "image/png": "[encoded data removed]",
      "text/plain": [
       "<matplotlib.figure.Figure at 0x11b581d50>"
      ]
     },
     "metadata": {},
     "output_type": "display_data"
    },
    {
     "data": {
      "image/png": "[encoded data removed]",
      "text/plain": [
       "<matplotlib.figure.Figure at 0x117d1c0d0>"
      ]
     },
     "metadata": {},
     "output_type": "display_data"
    },
    {
     "data": {
      "image/png": "[encoded data removed]",
      "text/plain": [
       "<matplotlib.figure.Figure at 0x11da888d0>"
      ]
     },
     "metadata": {},
     "output_type": "display_data"
    },
    {
     "data": {
      "image/png": "[encoded data removed]",
      "text/plain": [
       "<matplotlib.figure.Figure at 0x11d9b5090>"
      ]
     },
     "metadata": {},
     "output_type": "display_data"
    }
   ],
   "source": [
    "#stack bar plot by survive for categorical\n",
    "attributes =['Gender','Neighbourhood','Scholarship','Wait_period','Hipertension','Diabetes','Alcoholism','Handcap','SMS_received']\n",
    "\n",
    "for i in attributes:\n",
    "    pd.crosstab(med_Aptdata[i],med_Aptdata[\"No-show\"]).apply(lambda x: x/x.sum(), 1).plot.bar()\n"
   ]
  },
  {
   "cell_type": "markdown",
   "metadata": {},
   "source": [
    "Visulization version of the crosstable"
   ]
  },
  {
   "cell_type": "code",
   "execution_count": 243,
   "metadata": {},
   "outputs": [
    {
     "name": "stdout",
     "output_type": "stream",
     "text": [
      "P-value for chi-square test of independency for  Gender :  0.173034161737\n",
      "P-value for chi-square test of independency for  Neighbourhood :  1.52439814251e-60\n",
      "P-value for chi-square test of independency for  Scholarship :  3.9268156991e-22\n",
      "P-value for chi-square test of independency for  Wait_period :  0.0\n",
      "P-value for chi-square test of independency for  Hipertension :  1.90112122415e-32\n",
      "P-value for chi-square test of independency for  Diabetes :  4.83964682088e-07\n",
      "P-value for chi-square test of independency for  Alcoholism :  0.965205424901\n",
      "P-value for chi-square test of independency for  Handcap :  0.13401931355\n",
      "P-value for chi-square test of independency for  SMS_received :  0.0\n"
     ]
    }
   ],
   "source": [
    "from scipy import stats\n",
    "attributes =['Gender','Neighbourhood','Scholarship','Wait_period','Hipertension','Diabetes','Alcoholism','Handcap','SMS_received']\n",
    "\n",
    "for i in attributes:\n",
    "    a= pd.crosstab(med_Aptdata[i],med_Aptdata[\"No-show\"])\n",
    "    g, p, dof, expctd = scipy.stats.chi2_contingency(a)\n",
    "    print 'P-value for chi-square test of independency for ',i,': ', p"
   ]
  },
  {
   "cell_type": "markdown",
   "metadata": {},
   "source": [
    "for comfirmation of corrlation, for chi-square test of independency give us more clear idea:\n",
    "\n",
    "the result shows there are significant evidence that no-show is correlated with following attributes:\n",
    "\n",
    "Neighbourhood, Scholarship, Wait_period,Hipertension,Diabetes,and SMS_received.\n",
    "\n"
   ]
  },
  {
   "cell_type": "markdown",
   "metadata": {},
   "source": [
    "##  innitail feature selection"
   ]
  },
  {
   "cell_type": "code",
   "execution_count": 14,
   "metadata": {},
   "outputs": [],
   "source": [
    "# Neighbourhood has too many level, do the intial  prediction with and without neigborhood ######\n",
    "#and comapre performance using ttest to see if dropping Neighbourhood will affect our prediction\n",
    "\n",
    "\n",
    "#####trial --- with neigborhood, x_mat1,y1 ######\n",
    "trial = med_Aptdata\n",
    "# Separate the target attribute (\"No-show\")\n",
    "# x : predictors, y : target\n",
    "x1 = trial.drop(\"No-show\", axis=1, inplace = False)\n",
    "y1 = trial[\"No-show\"]\n",
    "\n",
    "#Convert the selected dataset into the Standard Spreadsheet format\n",
    "\n",
    "# get_dummies\" function to create dummy variables and converting to standard spreadsheet format\n",
    "x_mat1 = pd.get_dummies(x1)\n",
    "x_mat1.head(5)\n",
    "y1=pd.get_dummies(y1)\n",
    "y1.head()\n",
    "#no show up [1: noshow, 0: show]\n",
    "y1=y1['Yes']\n",
    "\n",
    "#80-20 split\n",
    "from sklearn.cross_validation import train_test_split\n",
    "x_train1, x_test1, y_train1, y_test1 = train_test_split(x_mat1, y1, test_size=0.2, random_state=33)\n",
    "\n",
    "\n",
    "\n",
    "\n",
    "\n",
    "#####trial 2 --- without neigborhood ######\n",
    "trial2 = med_Aptdata.drop(['Neighbourhood'], axis=1, inplace = False)\n",
    "# Separate the target attribute (\"No-show\")\n",
    "# x : predictors, y : target\n",
    "x2 = trial2.drop(\"No-show\", axis=1, inplace = False)\n",
    "y2 = trial2[\"No-show\"]\n",
    "\n",
    "#Convert the selected dataset into the Standard Spreadsheet format\n",
    "# get_dummies\" function to create dummy variables and converting to standard spreadsheet format\n",
    "x_mat2 = pd.get_dummies(x2)\n",
    "y2=pd.get_dummies(y2)\n",
    "#no show up [1: noshow, 0: show]\n",
    "y2=y2['Yes']\n",
    "\n",
    "#80-20 split\n",
    "from sklearn.cross_validation import train_test_split\n",
    "x_train2, x_test2, y_train2, y_test2 = train_test_split(x_mat2, y2, test_size=0.2, random_state=33)"
   ]
  },
  {
   "cell_type": "code",
   "execution_count": 88,
   "metadata": {},
   "outputs": [
    {
     "data": {
      "image/png": "[encoded data removed]",
      "text/plain": [
       "<matplotlib.figure.Figure at 0x11a1daf90>"
      ]
     },
     "metadata": {},
     "output_type": "display_data"
    },
    {
     "data": {
      "text/plain": [
       "Ttest_relResult(statistic=-7.8154107711311518, pvalue=2.6660057229277099e-05)"
      ]
     },
     "execution_count": 88,
     "metadata": {},
     "output_type": "execute_result"
    }
   ],
   "source": [
    "#comapre model wiht NB\n",
    "cv_N = model_selection.cross_val_score(GaussianNB(), x_train1, y_train1, cv=10,scoring='precision')\n",
    "cv_Non = model_selection.cross_val_score(GaussianNB(), x_train2, y_train2, cv=10,scoring='precision')\n",
    "\n",
    "results = [cv_N,cv_Non]\n",
    "names = ['with_N','Without_N']\n",
    "\n",
    "\n",
    "# Compare Algorithms\n",
    "fig = plt.figure()\n",
    "fig.suptitle('Algorithm Comparison: precision on train')\n",
    "ax = fig.add_subplot(111)\n",
    "plt.boxplot(results)\n",
    "ax.set_xticklabels(names)\n",
    "plt.show()\n",
    "\n",
    "# paried t test to compare two model(Random forest vs gradient boosting)\n",
    "from scipy import stats\n",
    "stats.ttest_rel(cv_N, cv_Non)"
   ]
  },
  {
   "cell_type": "code",
   "execution_count": 70,
   "metadata": {},
   "outputs": [
    {
     "name": "stdout",
     "output_type": "stream",
     "text": [
      "Prediction report: NB\n",
      "\n",
      "\n",
      "accuracy: 0.657\n",
      "\n",
      "\n",
      "confusion matrix: \n",
      "[[12896  4682]\n",
      " [ 2911  1617]]\n",
      "\n",
      "\n",
      "classification report wiht N : \n",
      "             precision    recall  f1-score   support\n",
      "\n",
      "          0       0.82      0.73      0.77     17578\n",
      "          1       0.26      0.36      0.30      4528\n",
      "\n",
      "avg / total       0.70      0.66      0.68     22106\n",
      "\n"
     ]
    }
   ],
   "source": [
    "# Make predictions on test dataset (NB)\n",
    "NB= GaussianNB()\n",
    "NB.fit(x_train1, y_train1)\n",
    "NBpd = NB.predict(x_test1)\n",
    "print('Prediction report: NB')\n",
    "print '\\n'\n",
    "print'accuracy: %0.3f' % accuracy_score(y_test1, NBpd)\n",
    "print '\\n'\n",
    "print 'confusion matrix: '\n",
    "print confusion_matrix(y_test1, NBpd)\n",
    "print '\\n'\n",
    "print 'classification report wiht N : '\n",
    "print(classification_report(y_test1, NBpd))"
   ]
  },
  {
   "cell_type": "code",
   "execution_count": 72,
   "metadata": {},
   "outputs": [
    {
     "name": "stdout",
     "output_type": "stream",
     "text": [
      "Prediction report: NB\n",
      "\n",
      "\n",
      "accuracy: 0.762\n",
      "\n",
      "\n",
      "confusion matrix: \n",
      "[[16075  1503]\n",
      " [ 3757   771]]\n",
      "\n",
      "\n",
      "classification report wihtout N : \n",
      "             precision    recall  f1-score   support\n",
      "\n",
      "          0       0.81      0.91      0.86     17578\n",
      "          1       0.34      0.17      0.23      4528\n",
      "\n",
      "avg / total       0.71      0.76      0.73     22106\n",
      "\n"
     ]
    }
   ],
   "source": [
    "# Make predictions on test dataset (NB)\n",
    "NB= GaussianNB()\n",
    "NB.fit(x_train2, y_train2)\n",
    "NBpd = NB.predict(x_test2)\n",
    "print('Prediction report: NB')\n",
    "print '\\n'\n",
    "print'accuracy: %0.3f' % accuracy_score(y_test2, NBpd)\n",
    "print '\\n'\n",
    "print 'confusion matrix: '\n",
    "print confusion_matrix(y_test2, NBpd)\n",
    "print '\\n'\n",
    "print 'classification report wihtout N : '\n",
    "print(classification_report(y_test2, NBpd))"
   ]
  },
  {
   "cell_type": "markdown",
   "metadata": {},
   "source": [
    "Surprisingly, the average precison is better without attribute neighbor , t test also comfirm there are significant differnece in average accuracy between two\n",
    "\n",
    "Therefore, dropping attribute neighboorhood not only wont hurt the result but improve the result and it simplified the model.\n",
    "\n",
    "\n",
    "Also, the prediciton performance on people who doesnt show up for appointment(noshow_yes =1) are really bad for both (even worse than random guess). The reason is that we have inbalance data so we have to find a way to fix this problem."
   ]
  },
  {
   "cell_type": "code",
   "execution_count": 15,
   "metadata": {
    "collapsed": true
   },
   "outputs": [],
   "source": [
    "#dropping 'Neighbourhood'\n",
    "med_Aptdata.drop(['Neighbourhood'], axis=1, inplace = True)"
   ]
  },
  {
   "cell_type": "code",
   "execution_count": 16,
   "metadata": {},
   "outputs": [
    {
     "name": "stdout",
     "output_type": "stream",
     "text": [
      "<class 'pandas.core.frame.DataFrame'>\n",
      "Int64Index: 110526 entries, 0 to 110526\n",
      "Data columns (total 10 columns):\n",
      "Gender          110526 non-null object\n",
      "Age             110526 non-null int64\n",
      "Scholarship     110526 non-null object\n",
      "Hipertension    110526 non-null object\n",
      "Diabetes        110526 non-null object\n",
      "Alcoholism      110526 non-null object\n",
      "Handcap         110526 non-null object\n",
      "SMS_received    110526 non-null object\n",
      "No-show         110526 non-null object\n",
      "Wait_period     110526 non-null category\n",
      "dtypes: category(1), int64(1), object(8)\n",
      "memory usage: 13.5+ MB\n"
     ]
    }
   ],
   "source": [
    "med_Aptdata.info()"
   ]
  },
  {
   "cell_type": "code",
   "execution_count": 17,
   "metadata": {},
   "outputs": [
    {
     "data": {
      "text/html": [
       "<div>\n",
       "<style>\n",
       "    .dataframe thead tr:only-child th {\n",
       "        text-align: right;\n",
       "    }\n",
       "\n",
       "    .dataframe thead th {\n",
       "        text-align: left;\n",
       "    }\n",
       "\n",
       "    .dataframe tbody tr th {\n",
       "        vertical-align: top;\n",
       "    }\n",
       "</style>\n",
       "<table border=\"1\" class=\"dataframe\">\n",
       "  <thead>\n",
       "    <tr style=\"text-align: right;\">\n",
       "      <th></th>\n",
       "      <th>Gender</th>\n",
       "      <th>Age</th>\n",
       "      <th>Scholarship</th>\n",
       "      <th>Hipertension</th>\n",
       "      <th>Diabetes</th>\n",
       "      <th>Alcoholism</th>\n",
       "      <th>Handcap</th>\n",
       "      <th>SMS_received</th>\n",
       "      <th>No-show</th>\n",
       "      <th>Wait_period</th>\n",
       "    </tr>\n",
       "  </thead>\n",
       "  <tbody>\n",
       "    <tr>\n",
       "      <th>0</th>\n",
       "      <td>F</td>\n",
       "      <td>62</td>\n",
       "      <td>0</td>\n",
       "      <td>1</td>\n",
       "      <td>0</td>\n",
       "      <td>0</td>\n",
       "      <td>0</td>\n",
       "      <td>0</td>\n",
       "      <td>No</td>\n",
       "      <td>wihtinTwoDay</td>\n",
       "    </tr>\n",
       "    <tr>\n",
       "      <th>1</th>\n",
       "      <td>M</td>\n",
       "      <td>56</td>\n",
       "      <td>0</td>\n",
       "      <td>0</td>\n",
       "      <td>0</td>\n",
       "      <td>0</td>\n",
       "      <td>0</td>\n",
       "      <td>0</td>\n",
       "      <td>No</td>\n",
       "      <td>wihtinTwoDay</td>\n",
       "    </tr>\n",
       "    <tr>\n",
       "      <th>2</th>\n",
       "      <td>F</td>\n",
       "      <td>62</td>\n",
       "      <td>0</td>\n",
       "      <td>0</td>\n",
       "      <td>0</td>\n",
       "      <td>0</td>\n",
       "      <td>0</td>\n",
       "      <td>0</td>\n",
       "      <td>No</td>\n",
       "      <td>wihtinTwoDay</td>\n",
       "    </tr>\n",
       "    <tr>\n",
       "      <th>3</th>\n",
       "      <td>F</td>\n",
       "      <td>8</td>\n",
       "      <td>0</td>\n",
       "      <td>0</td>\n",
       "      <td>0</td>\n",
       "      <td>0</td>\n",
       "      <td>0</td>\n",
       "      <td>0</td>\n",
       "      <td>No</td>\n",
       "      <td>wihtinTwoDay</td>\n",
       "    </tr>\n",
       "    <tr>\n",
       "      <th>4</th>\n",
       "      <td>F</td>\n",
       "      <td>56</td>\n",
       "      <td>0</td>\n",
       "      <td>1</td>\n",
       "      <td>1</td>\n",
       "      <td>0</td>\n",
       "      <td>0</td>\n",
       "      <td>0</td>\n",
       "      <td>No</td>\n",
       "      <td>wihtinTwoDay</td>\n",
       "    </tr>\n",
       "  </tbody>\n",
       "</table>\n",
       "</div>"
      ],
      "text/plain": [
       "  Gender  Age Scholarship Hipertension Diabetes Alcoholism Handcap  \\\n",
       "0      F   62           0            1        0          0       0   \n",
       "1      M   56           0            0        0          0       0   \n",
       "2      F   62           0            0        0          0       0   \n",
       "3      F    8           0            0        0          0       0   \n",
       "4      F   56           0            1        1          0       0   \n",
       "\n",
       "  SMS_received No-show   Wait_period  \n",
       "0            0      No  wihtinTwoDay  \n",
       "1            0      No  wihtinTwoDay  \n",
       "2            0      No  wihtinTwoDay  \n",
       "3            0      No  wihtinTwoDay  \n",
       "4            0      No  wihtinTwoDay  "
      ]
     },
     "execution_count": 17,
     "metadata": {},
     "output_type": "execute_result"
    }
   ],
   "source": [
    "med_Aptdata.head()"
   ]
  },
  {
   "cell_type": "markdown",
   "metadata": {},
   "source": [
    "### potential ways of fixing  imbalnaced data"
   ]
  },
  {
   "cell_type": "markdown",
   "metadata": {},
   "source": [
    "few way to deal with imbalance dataset\n",
    "\n",
    "* use tree based model (decision tree, emsemble trees) with smote(oversample with synthetically generated data points that are not too different from the minority class data points you actually have)\n",
    "* Penalized-SVM\n",
    "* oversampling (potential overfitting)\n",
    "* undersampling (loss of information)\n",
    "\n",
    "Evaluation which model is better \n",
    "\n",
    "* Precision/Specificity: how many selected instances are relevant.\n",
    "* using auroc\n",
    "\n",
    "\n",
    "\n",
    "\n"
   ]
  },
  {
   "cell_type": "markdown",
   "metadata": {},
   "source": [
    "## Using Smote to deal with inbalance data"
   ]
  },
  {
   "cell_type": "code",
   "execution_count": 18,
   "metadata": {},
   "outputs": [],
   "source": [
    "# pip install -u imbalanced-learn\n",
    "#smote\n",
    "from imblearn.over_sampling import SMOTE\n"
   ]
  },
  {
   "cell_type": "code",
   "execution_count": 19,
   "metadata": {},
   "outputs": [
    {
     "name": "stderr",
     "output_type": "stream",
     "text": [
      "/Users/jasonwu/anaconda/lib/python2.7/site-packages/sklearn/utils/deprecation.py:75: DeprecationWarning: Function _ratio_float is deprecated; Use a float for 'ratio' is deprecated from version 0.2. The support will be removed in 0.4. Use a dict, str, or a callable instead.\n",
      "  warnings.warn(msg, category=DeprecationWarning)\n"
     ]
    },
    {
     "name": "stdout",
     "output_type": "stream",
     "text": [
      "0    70629\n",
      "1    17791\n",
      "Name: Yes, dtype: int64\n",
      "\n",
      "[70629 70629]\n"
     ]
    }
   ],
   "source": [
    "smote=SMOTE(kind = \"regular\",random_state=0, ratio = 1.0)\n",
    "smote_predictors,smote_target=smote.fit_sample(x_train2,y_train2)\n",
    "\n",
    "print y_train2.value_counts()\n",
    "\n",
    "print ''\n",
    "print (np.bincount(smote_target))"
   ]
  },
  {
   "cell_type": "markdown",
   "metadata": {},
   "source": [
    "Now, for our training set, we have equal number of observation for both noshow and show"
   ]
  },
  {
   "cell_type": "code",
   "execution_count": null,
   "metadata": {
    "collapsed": true
   },
   "outputs": [],
   "source": [
    "#141258 obeservation on training and 23 dimensions"
   ]
  },
  {
   "cell_type": "code",
   "execution_count": 21,
   "metadata": {
    "collapsed": true
   },
   "outputs": [],
   "source": [
    "#too big, take sampele, run twice to get 1%\n",
    "\n",
    "A,smote_predictors,B,smote_target= train_test_split(smote_predictors,smote_target, test_size=0.1, random_state=33)"
   ]
  },
  {
   "cell_type": "code",
   "execution_count": 22,
   "metadata": {},
   "outputs": [
    {
     "name": "stdout",
     "output_type": "stream",
     "text": [
      "[728 685]\n"
     ]
    }
   ],
   "source": [
    "print (np.bincount(smote_target))"
   ]
  },
  {
   "cell_type": "code",
   "execution_count": 23,
   "metadata": {},
   "outputs": [
    {
     "data": {
      "text/plain": [
       "(1413,)"
      ]
     },
     "execution_count": 23,
     "metadata": {},
     "output_type": "execute_result"
    }
   ],
   "source": [
    "smote_target.shape"
   ]
  },
  {
   "cell_type": "code",
   "execution_count": 24,
   "metadata": {},
   "outputs": [
    {
     "data": {
      "text/plain": [
       "(1413, 23)"
      ]
     },
     "execution_count": 24,
     "metadata": {},
     "output_type": "execute_result"
    }
   ],
   "source": [
    "smote_predictors.shape"
   ]
  },
  {
   "cell_type": "markdown",
   "metadata": {},
   "source": [
    "# Modeling with parameter tuning on the selected features"
   ]
  },
  {
   "cell_type": "code",
   "execution_count": 275,
   "metadata": {
    "collapsed": true
   },
   "outputs": [],
   "source": [
    "\n",
    "## imbalance training set\n",
    "# Training set: [x_train2, y_train2] \n",
    "\n",
    "##balacne trainign set\n",
    "#  Training set: [smote_predictors,smote_target] \n",
    "\n",
    "\n",
    "## Unseen testing set : [x_test2, y_test2]\n",
    "\n",
    "### target y [1: noshow, 0: show]"
   ]
  },
  {
   "cell_type": "markdown",
   "metadata": {},
   "source": [
    "performance metrix: precision and recall for noshow =1\n",
    "\n",
    "precision measure how accuracy our prediction on noshow =1\n",
    "\n",
    "recall measure the proportion of the noshow case found.\n",
    "\n",
    "in this case, we want to be able to idnetify noshow case so recall will be more useful.(looking for model's that maxmize the average recall)"
   ]
  },
  {
   "cell_type": "markdown",
   "metadata": {},
   "source": [
    "## Naive bayes"
   ]
  },
  {
   "cell_type": "code",
   "execution_count": 25,
   "metadata": {},
   "outputs": [
    {
     "name": "stdout",
     "output_type": "stream",
     "text": [
      "MNB: 0.654 (0.053)\n",
      "BNB: 0.655 (0.047)\n",
      "GNB: 0.514 (0.011)\n"
     ]
    }
   ],
   "source": [
    "#different Naive Bayes\n",
    "from sklearn.naive_bayes import GaussianNB\n",
    "from sklearn.naive_bayes import BernoulliNB\n",
    "from sklearn.naive_bayes import MultinomialNB\n",
    "\n",
    "\n",
    "from sklearn import cross_validation\n",
    "# Spot Check Algorithms\n",
    "models = []\n",
    "models.append(('MNB', MultinomialNB()))\n",
    "models.append(('BNB', BernoulliNB()))\n",
    "models.append(('GNB', GaussianNB()))\n",
    "\n",
    "# evaluate each model in turn\n",
    "results = []\n",
    "names = []\n",
    "for name, model in models:\n",
    "\tcv_results = cross_validation.cross_val_score(model, smote_predictors, smote_target, cv=10)\n",
    "\tresults.append(cv_results)\n",
    "\tnames.append(name)\n",
    "\tmsg = \"%s: %.3f (%.3f)\" % (name, cv_results.mean(), cv_results.std())\n",
    "\tprint(msg)\n",
    "\n",
    "\n"
   ]
  },
  {
   "cell_type": "markdown",
   "metadata": {},
   "source": [
    "BernoulliNB has better performacne(recall) than others, lets tune the parameters"
   ]
  },
  {
   "cell_type": "code",
   "execution_count": 30,
   "metadata": {},
   "outputs": [
    {
     "name": "stdout",
     "output_type": "stream",
     "text": [
      "{'binarize': 0, 'alpha': 0}\n"
     ]
    }
   ],
   "source": [
    "BNB= BernoulliNB(class_prior=None, fit_prior=True)\n",
    "\n",
    "\n",
    "# Use a grid over parameters of interest\n",
    "param_grid = { \"alpha\" : [ 0 ,0.1, 1, 10, 100],'binarize':[0 ,0.1, 1, 10, 100]}\n",
    " \n",
    "CV_BNB = GridSearchCV(estimator=BNB, param_grid=param_grid, cv= 10)\n",
    "CV_BNB.fit(smote_predictors, smote_target)\n",
    "print CV_BNB.best_params_"
   ]
  },
  {
   "cell_type": "code",
   "execution_count": 28,
   "metadata": {},
   "outputs": [
    {
     "name": "stdout",
     "output_type": "stream",
     "text": [
      "recall of bernoulli NB Train : 65.54 (+/- 4.67)\n",
      "95.0 confidence interval 57.5% and 72.5%\n"
     ]
    }
   ],
   "source": [
    "# Optimized BNB\n",
    "\n",
    "BNB= BernoulliNB(binarize=0,alpha=0,class_prior=None, fit_prior=True)\n",
    "\n",
    " \n",
    "# fit the model with training set  - CV(10)  and predict avg accuracy_\n",
    "BNB_scores = model_selection.cross_val_score(BNB, smote_predictors, smote_target, cv=10)\n",
    "print(\"recall of bernoulli NB Train : %0.2f (+/- %0.2f)\" % (BNB_scores.mean()*100, BNB_scores.std()*100))\n",
    "\n",
    "# confidence intervals\n",
    "import numpy\n",
    "alpha = 0.95\n",
    "p = ((1.0-alpha)/2.0) * 100\n",
    "lower = max(0.0, numpy.percentile(BNB_scores, p))\n",
    "p = (alpha+((1.0-alpha)/2.0)) * 100\n",
    "upper = min(1.0, numpy.percentile(BNB_scores, p))\n",
    "print('%.1f confidence interval %.1f%% and %.1f%%' % (alpha*100, lower*100, upper*100))"
   ]
  },
  {
   "cell_type": "code",
   "execution_count": 54,
   "metadata": {},
   "outputs": [
    {
     "name": "stdout",
     "output_type": "stream",
     "text": [
      "Prediction report: Naive Bayes\n",
      "\n",
      "\n",
      "accuracy: 0.614\n",
      "\n",
      "\n",
      "confusion matrix: \n",
      "[[10437  7141]\n",
      " [ 1383  3145]]\n",
      "\n",
      "\n",
      "classification report : \n",
      "             precision    recall  f1-score   support\n",
      "\n",
      "          0       0.88      0.59      0.71     17578\n",
      "          1       0.31      0.69      0.42      4528\n",
      "\n",
      "avg / total       0.76      0.61      0.65     22106\n",
      "\n"
     ]
    }
   ],
   "source": [
    "#nb model predcition on test set\n",
    "#alpha=1.0, binarize=2.0, class_prior=None, fit_prior=True)\n",
    "# Make predictions on test dataset \n",
    "BNB= BernoulliNB(class_prior=None, fit_prior=True)\n",
    "BNB.fit(smote_predictors, smote_target)\n",
    "BNBpd = BNB.predict(x_test2)\n",
    "print('Prediction report: Naive Bayes')\n",
    "print '\\n'\n",
    "print'accuracy: %0.3f' % accuracy_score(y_test2, BNBpd)\n",
    "print '\\n'\n",
    "print 'confusion matrix: '\n",
    "print confusion_matrix(y_test2, BNBpd)\n",
    "print '\\n'\n",
    "print 'classification report : '\n",
    "print(classification_report(y_test2, BNBpd))\n"
   ]
  },
  {
   "cell_type": "markdown",
   "metadata": {},
   "source": [
    "best tuned Naive bayes: \n",
    "\n",
    "__BNB= BernoulliNB(alpha=0, binarize=0, class_prior=None, fit_prior=True)__\n",
    "\n",
    "\n",
    "Prediction on unseen set:\n",
    "\n",
    "Recall for no show :77%, precision for no show : 30%\n",
    "\n",
    "Average recall: 58%"
   ]
  },
  {
   "cell_type": "markdown",
   "metadata": {
    "collapsed": true
   },
   "source": [
    "## Tree based model and penalized SVM\n"
   ]
  },
  {
   "cell_type": "markdown",
   "metadata": {},
   "source": [
    "* __Ramdom forest with balance set__"
   ]
  },
  {
   "cell_type": "code",
   "execution_count": 33,
   "metadata": {},
   "outputs": [
    {
     "name": "stderr",
     "output_type": "stream",
     "text": [
      "/Users/jasonwu/anaconda/lib/python2.7/site-packages/sklearn/ensemble/forest.py:451: UserWarning: Some inputs do not have OOB scores. This probably means too few trees were used to compute any reliable oob estimates.\n",
      "  warn(\"Some inputs do not have OOB scores. \"\n",
      "/Users/jasonwu/anaconda/lib/python2.7/site-packages/sklearn/ensemble/forest.py:456: RuntimeWarning: invalid value encountered in true_divide\n",
      "  predictions[k].sum(axis=1)[:, np.newaxis])\n"
     ]
    },
    {
     "name": "stdout",
     "output_type": "stream",
     "text": [
      "{'n_estimators': 36, 'max_depth': 10, 'min_samples_leaf': 10}\n"
     ]
    }
   ],
   "source": [
    "#rfc = RandomForestClassifier\n",
    "#gris search to tune\n",
    "\n",
    "from sklearn.grid_search import GridSearchCV\n",
    " \n",
    "rfc = RandomForestClassifier(n_jobs=-1, max_features='sqrt', oob_score = True) \n",
    " \n",
    "# Use a grid over parameters of interest\n",
    "param_grid = { \n",
    "           \"n_estimators\" : [9, 18, 27, 36, 45, 54, 63],\n",
    "           \"max_depth\" : [1, 5, 10, 15, 20, 25, 30],\n",
    "           \"min_samples_leaf\" : [1, 5, 10,50]}\n",
    " \n",
    "CV_rfc = GridSearchCV(estimator=rfc, param_grid=param_grid, cv= 10)\n",
    "CV_rfc.fit(smote_predictors, smote_target)\n",
    "print CV_rfc.best_params_"
   ]
  },
  {
   "cell_type": "code",
   "execution_count": 30,
   "metadata": {},
   "outputs": [
    {
     "name": "stdout",
     "output_type": "stream",
     "text": [
      "Accuracy of Random forest on balanced Trainning set  : 66.88 (+/- 4.52)\n",
      "95.0 confidence interval 60.1% and 74.6%\n"
     ]
    }
   ],
   "source": [
    "# Optimized RF classifier to maxize precisoon\n",
    "rfcb = RandomForestClassifier(n_estimators=36, max_depth=10, max_features='sqrt', min_samples_leaf = 10)\n",
    "\n",
    " \n",
    "# fit the model with training set  - CV(10)  and predict avg accuracy\n",
    "rfcb_scores = model_selection.cross_val_score(rfcb, smote_predictors, smote_target, cv=10)\n",
    "print(\"Accuracy of Random forest on balanced Trainning set  : %0.2f (+/- %0.2f)\" % (rfcb_scores.mean()*100, rfcb_scores.std()*100))\n",
    " \n",
    "# confidence intervals\n",
    "import numpy\n",
    "alpha = 0.95\n",
    "p = ((1.0-alpha)/2.0) * 100\n",
    "lower = max(0.0, numpy.percentile(rfcb_scores, p))\n",
    "p = (alpha+((1.0-alpha)/2.0)) * 100\n",
    "upper = min(1.0, numpy.percentile(rfcb_scores, p))\n",
    "print('%.1f confidence interval %.1f%% and %.1f%%' % (alpha*100, lower*100, upper*100))\n",
    "\n",
    "\n"
   ]
  },
  {
   "cell_type": "code",
   "execution_count": 56,
   "metadata": {},
   "outputs": [
    {
     "name": "stdout",
     "output_type": "stream",
     "text": [
      "Prediction report: Random Forest\n",
      "\n",
      "\n",
      "accuracy: 0.648\n",
      "\n",
      "\n",
      "confusion matrix: \n",
      "[[11484  6094]\n",
      " [ 1694  2834]]\n",
      "\n",
      "\n",
      "classification report : \n",
      "             precision    recall  f1-score   support\n",
      "\n",
      "          0       0.87      0.65      0.75     17578\n",
      "          1       0.32      0.63      0.42      4528\n",
      "\n",
      "avg / total       0.76      0.65      0.68     22106\n",
      "\n"
     ]
    }
   ],
   "source": [
    "# Make predictions on test dataset (RF) with optimal model trained with balanced data\n",
    "\n",
    "rfcb = RandomForestClassifier(n_estimators=36, max_depth=10, max_features='sqrt', min_samples_leaf = 1)\n",
    "rfcb.fit(smote_predictors, smote_target)\n",
    "RFpdb = rfcb.predict(x_test2)\n",
    "print('Prediction report: Random Forest')\n",
    "print '\\n'\n",
    "print'accuracy: %0.3f' % accuracy_score(y_test2, RFpdb)\n",
    "print '\\n'\n",
    "print 'confusion matrix: '\n",
    "print confusion_matrix(y_test2, RFpdb)\n",
    "print '\\n'\n",
    "print 'classification report : '\n",
    "print(classification_report(y_test2, RFpdb))"
   ]
  },
  {
   "cell_type": "markdown",
   "metadata": {},
   "source": [
    "best tuned random forest model (bagging technique): \n",
    "\n",
    "__rfcb =RandomForestClassifier(n_estimators=36, max_depth=10, max_features='sqrt', min_samples_leaf = 1)__\n",
    "\n",
    "Prediction on unseen set:\n",
    "\n",
    "Recall for no show :66%, precision for no show : 32%\n",
    "\n",
    "Average recall : 65%"
   ]
  },
  {
   "cell_type": "markdown",
   "metadata": {},
   "source": [
    "__comparing with NB__\n",
    "\n",
    "Better perfomacne than NB (accuracy is higher and average recall is higher meaning we identify more case correctly,overall; however recall for noshow is 66% (RF) which is less than  77%(NB) )"
   ]
  },
  {
   "cell_type": "markdown",
   "metadata": {},
   "source": [
    "* __gradian boosting tree _balanced training data__"
   ]
  },
  {
   "cell_type": "code",
   "execution_count": null,
   "metadata": {},
   "outputs": [],
   "source": [
    "gbc = GradientBoostingClassifier()\n",
    "\n",
    "\n",
    "# Use a grid over parameters of interest\n",
    "param_grid = { \n",
    "           \"n_estimators\" : [9, 18, 27, 36, 45],\n",
    "           \"max_depth\" : [5, 10, 15, 20],\n",
    "           \"min_samples_leaf\" : [5,10,20,50]}\n",
    " \n",
    "CV_gbc = GridSearchCV(estimator=gbc, param_grid=param_grid, cv= 10)\n",
    "CV_gbc.fit(smote_predictors, smote_target)\n",
    "print CV_gbc.best_params_"
   ]
  },
  {
   "cell_type": "code",
   "execution_count": 32,
   "metadata": {},
   "outputs": [
    {
     "name": "stdout",
     "output_type": "stream",
     "text": [
      "Accuracy of Gradiant boosting dT on balanced Trainning set: 65.61 (+/- 5.01)\n",
      "95.0 confidence interval 58.4% and 74.4%\n"
     ]
    }
   ],
   "source": [
    "# Optimized GB classifier\n",
    "gbc = GradientBoostingClassifier(n_estimators=36, max_depth=10, max_features='sqrt', min_samples_leaf = 10)\n",
    "\n",
    " \n",
    "# fit the model with training set  - CV(10)  and predict avg accuracy_\n",
    "gbc_scores = model_selection.cross_val_score(gbc, smote_predictors, smote_target, cv=10)\n",
    "print(\"Accuracy of Gradiant boosting dT on balanced Trainning set: %0.2f (+/- %0.2f)\" % (gbc_scores.mean()*100, gbc_scores.std()*100))\n",
    "\n",
    "# confidence intervals\n",
    "import numpy\n",
    "alpha = 0.95\n",
    "p = ((1.0-alpha)/2.0) * 100\n",
    "lower = max(0.0, numpy.percentile(gbc_scores, p))\n",
    "p = (alpha+((1.0-alpha)/2.0)) * 100$\n",
    "upper = min(1.0, numpy.percentile(gbc_scores, p))\n",
    "print('%.1f confidence interval %.1f%% and %.1f%%' % (alpha*100, lower*100, upper*100))\n",
    " "
   ]
  },
  {
   "cell_type": "code",
   "execution_count": 60,
   "metadata": {},
   "outputs": [
    {
     "name": "stdout",
     "output_type": "stream",
     "text": [
      "Prediction report: gradient boosting\n",
      "\n",
      "\n",
      "accuracy: 0.641\n",
      "\n",
      "\n",
      "confusion matrix: \n",
      "[[11188  6390]\n",
      " [ 1545  2983]]\n",
      "\n",
      "\n",
      "classification report : \n",
      "             precision    recall  f1-score   support\n",
      "\n",
      "          0       0.88      0.64      0.74     17578\n",
      "          1       0.32      0.66      0.43      4528\n",
      "\n",
      "avg / total       0.76      0.64      0.67     22106\n",
      "\n"
     ]
    }
   ],
   "source": [
    "# Make predictions on test dataset (GB)\n",
    "gbc.fit(smote_predictors, smote_target)\n",
    "gbcpd = gbc.predict(x_test2)\n",
    "print('Prediction report: gradient boosting')\n",
    "print '\\n'\n",
    "print'accuracy: %0.3f' % accuracy_score(y_test2, gbcpd)\n",
    "print '\\n'\n",
    "print 'confusion matrix: '\n",
    "print confusion_matrix(y_test2, gbcpd)\n",
    "print '\\n'\n",
    "print 'classification report : '\n",
    "print(classification_report(y_test2, gbcpd))"
   ]
  },
  {
   "cell_type": "markdown",
   "metadata": {},
   "source": [
    "best tuned gradian boosing tree(boosting technique): \n",
    "\n",
    "__gbc =GradientBoostingClassifier(n_estimators=36, max_depth=10, max_features='sqrt', min_samples_leaf = 1)__\n",
    "\n",
    "\n",
    "Prediction on unseen set:\n",
    "\n",
    "Recall for no show :63%, precision for no show : 33%\n",
    "\n",
    "Average recall: 66%"
   ]
  },
  {
   "cell_type": "markdown",
   "metadata": {
    "collapsed": true
   },
   "source": [
    "* __kernel support vector machine__"
   ]
  },
  {
   "cell_type": "markdown",
   "metadata": {},
   "source": [
    "linear SVM"
   ]
  },
  {
   "cell_type": "code",
   "execution_count": null,
   "metadata": {
    "collapsed": true
   },
   "outputs": [],
   "source": [
    "#####linear\n",
    "from sklearn.svm import SVC\n",
    "\n",
    "linear=SVC(kernel='linear',,probability=True)\n",
    "\n",
    "\n",
    "# Use a grid over parameters of interest\n",
    "param_grid = { \"C\" : [0.01 ,0.1, 1, 10]}\n",
    " \n",
    "CV_linear = GridSearchCV(estimator=linear, param_grid=param_grid, cv= 10)\n",
    "CV_linear.fit(smote_predictors, smote_target)\n",
    "print CV_linear.best_params_"
   ]
  },
  {
   "cell_type": "code",
   "execution_count": 34,
   "metadata": {},
   "outputs": [
    {
     "name": "stdout",
     "output_type": "stream",
     "text": [
      "linear SVM accuracy: 66.67 (+/- 4.51)\n",
      "95.0 confidence interval 60.8% and 75.4%\n"
     ]
    }
   ],
   "source": [
    "# Linear SVM classifier\n",
    "#####linear\n",
    "from sklearn.svm import SVC\n",
    "linear = SVC(kernel='linear',C=1,,probability=True)\n",
    "\n",
    " \n",
    "# fit the model with training set  - CV(10)  and predict avg accuracy_\n",
    "linear_scores = model_selection.cross_val_score(linear, smote_predictors, smote_target, cv=10, scoring='accuracy')\n",
    "print(\"linear SVM accuracy: %0.2f (+/- %0.2f)\" % (linear_scores.mean()*100, linear_scores.std()*100))\n",
    "\n",
    "# confidence intervals\n",
    "import numpy\n",
    "alpha = 0.95\n",
    "p = ((1.0-alpha)/2.0) * 100\n",
    "lower = max(0.0, numpy.percentile(linear_scores, p))\n",
    "p = (alpha+((1.0-alpha)/2.0)) * 100\n",
    "upper = min(1.0, numpy.percentile(linear_scores, p))\n",
    "print('%.1f confidence interval %.1f%% and %.1f%%' % (alpha*100, lower*100, upper*100))\n"
   ]
  },
  {
   "cell_type": "code",
   "execution_count": 61,
   "metadata": {},
   "outputs": [
    {
     "name": "stdout",
     "output_type": "stream",
     "text": [
      "Prediction report: linear SVM\n",
      "\n",
      "\n",
      "accuracy: 0.591\n",
      "\n",
      "\n",
      "confusion matrix: \n",
      "[[9578 8000]\n",
      " [1045 3483]]\n",
      "\n",
      "\n",
      "classification report : \n",
      "             precision    recall  f1-score   support\n",
      "\n",
      "          0       0.90      0.54      0.68     17578\n",
      "          1       0.30      0.77      0.44      4528\n",
      "\n",
      "avg / total       0.78      0.59      0.63     22106\n",
      "\n"
     ]
    }
   ],
   "source": [
    "#prediction linear svm\n",
    "\n",
    "#LINEAR SVM\n",
    "# Make predictions on test dataset \n",
    "linear = SVC(kernel='linear',C=1,probability=True)\n",
    "linear.fit(smote_predictors, smote_target)\n",
    "linearpd = linear.predict(x_test2)\n",
    "print('Prediction report: linear SVM')\n",
    "print '\\n'\n",
    "print'accuracy: %0.3f' % accuracy_score(y_test2, linearpd)\n",
    "print '\\n'\n",
    "print 'confusion matrix: '\n",
    "print confusion_matrix(y_test2, linearpd)\n",
    "print '\\n'\n",
    "print 'classification report : '\n",
    "print(classification_report(y_test2, linearpd))"
   ]
  },
  {
   "cell_type": "markdown",
   "metadata": {},
   "source": [
    "SVM With kernal tricks and tuning paremater\n"
   ]
  },
  {
   "cell_type": "code",
   "execution_count": 51,
   "metadata": {
    "collapsed": true
   },
   "outputs": [],
   "source": [
    "# kernel support vector machine\n",
    "\n",
    "\n",
    "\n",
    "# penalize(weighted)\n",
    "kernelsvm=SVC(class_weight='balanced',probability=True)\n",
    "\n",
    "\n",
    "# Use a grid over parameters of interest\n",
    "param_grid = { \"kernel\" : ['rbf','poly','sigmoid'],\n",
    "           \"gamma\" : [1e-1, 1e-2, 1e-3, 1e-4],\n",
    "           \"C\" : [0.01 ,0.1, 1, 10, 100, 1000]}\n",
    " \n",
    "CV_kernelsvm = GridSearchCV(estimator=kernelsvm, param_grid=param_grid, cv= 10)\n",
    "CV_kernelsvm.fit(smote_predictors, smote_target)\n",
    "print CV_kernelsvm.best_params_"
   ]
  },
  {
   "cell_type": "code",
   "execution_count": null,
   "metadata": {
    "collapsed": true
   },
   "outputs": [],
   "source": [
    "# Optimized kernal SVM classifier\n",
    "\n",
    "poly_SVM = SVC(kernel = 'poly', C = 0.1, gamma = 0.1,class_weight='balanced',probability=True)\n",
    "\n",
    " \n",
    "# fit the model with training set  - CV(10)  and predict avg accuracy_\n",
    "poly_SVM_scores = model_selection.cross_val_score(poly_SVM, smote_predictors, smote_target, cv=10, scoring='accuracy')\n",
    "print(\"poly_SVM Train accuracy: %0.2f (+/- %0.2f)\" % (poly_SVM_scores.mean()*100, poly_SVM_scores.std()*100))\n",
    "\n",
    "# confidence intervals\n",
    "import numpy\n",
    "alpha = 0.95\n",
    "p = ((1.0-alpha)/2.0) * 100\n",
    "lower = max(0.0, numpy.percentile(poly_SVM_scores, p))\n",
    "p = (alpha+((1.0-alpha)/2.0)) * 100\n",
    "upper = min(1.0, numpy.percentile(poly_SVM_scores, p))\n",
    "print('%.1f confidence interval %.1f%% and %.1f%%' % (alpha*100, lower*100, upper*100))"
   ]
  },
  {
   "cell_type": "code",
   "execution_count": null,
   "metadata": {
    "collapsed": true
   },
   "outputs": [],
   "source": [
    "#prediction, kernal svm\n",
    "\n",
    "# Make predictions on test dataset \n",
    "poly_SVM = SVC(kernel = 'poly', C = 100, gamma = 0.1)\n",
    "poly_SVM.fit(smote_predictors, smote_target)\n",
    "poly_SVMpd = poly_SVM.predict(x_test2)\n",
    "print('Prediction report: polynominal kernel SVM')\n",
    "print '\\n'\n",
    "print'accuracy: %0.3f' % accuracy_score(y_test2, poly_SVMpd)\n",
    "print '\\n'\n",
    "print 'confusion matrix: '\n",
    "print confusion_matrix(y_test2, poly_SVMpd)\n",
    "print '\\n'\n",
    "print 'classification report : '\n",
    "print(classification_report(y_test2, poly_SVMpd))"
   ]
  },
  {
   "cell_type": "code",
   "execution_count": null,
   "metadata": {
    "collapsed": true
   },
   "outputs": [],
   "source": []
  },
  {
   "cell_type": "code",
   "execution_count": null,
   "metadata": {
    "collapsed": true
   },
   "outputs": [],
   "source": [
    "#compare svm and linear svm\n",
    "\n",
    "# paried t test to compare linear vs kernal svm\n",
    "\n",
    "from scipy import stats\n",
    "stats.ttest_rel(linear_scores, poly_SVM_scores)\n"
   ]
  },
  {
   "cell_type": "markdown",
   "metadata": {},
   "source": [
    "best tuned kernel SVM: \n",
    "\n",
    "\n",
    "__linear = SVC(kernel='linear',C=1)__\n",
    "\n",
    "Prediction on unseen set:\n",
    "\n",
    "acurracy: 59%\n",
    "\n",
    "Recall for no show :77% \n",
    "\n",
    "overall recall: 59%"
   ]
  },
  {
   "cell_type": "markdown",
   "metadata": {
    "collapsed": true
   },
   "source": [
    "## Stacking (Naive bayes ,boosting ,begging, svm)"
   ]
  },
  {
   "cell_type": "code",
   "execution_count": 48,
   "metadata": {},
   "outputs": [
    {
     "name": "stdout",
     "output_type": "stream",
     "text": [
      "stacking model Train accuracy: 66.39 (+/- 4.27)\n",
      "95.0 confidence interval 60.9% and 73.9%\n"
     ]
    }
   ],
   "source": [
    "#import majority_vote_classifier as mvc\n",
    "\n",
    "\n",
    "from sklearn.ensemble import VotingClassifier\n",
    "\n",
    "\n",
    "estimators = []\n",
    "model1 = BernoulliNB(alpha=0, binarize=0, class_prior=None, fit_prior=True)\n",
    "estimators.append(('bernouli NB', model1))\n",
    "model2 = RandomForestClassifier(n_estimators=36, max_depth=10, max_features='sqrt', min_samples_leaf = 10)\n",
    "estimators.append(('Random forest', model2))\n",
    "model3 = GradientBoostingClassifier(n_estimators=36, max_depth=10, max_features='sqrt', min_samples_leaf = 1)\n",
    "estimators.append(('gradient boosting', model3))\n",
    "model4 = SVC(kernel='linear',C=1,probability=True)\n",
    "estimators.append(('linear svm', model4))\n",
    "\n",
    "\n",
    "# create the ensemble model\n",
    "stacking = VotingClassifier(estimators,voting='soft')\n",
    "results = model_selection.cross_val_score(stacking, smote_predictors, smote_target, cv=10)\n",
    "print(\"stacking model Train accuracy: %0.2f (+/- %0.2f)\" % (results.mean()*100, results.std()*100))\n",
    "\n",
    "# confidence intervals\n",
    "import numpy\n",
    "alpha = 0.95\n",
    "p = ((1.0-alpha)/2.0) * 100\n",
    "lower = max(0.0, numpy.percentile(results , p))\n",
    "p = (alpha+((1.0-alpha)/2.0)) * 100\n",
    "upper = min(1.0, numpy.percentile(results , p))\n",
    "print('%.1f confidence interval %.1f%% and %.1f%%' % (alpha*100, lower*100, upper*100))\n"
   ]
  },
  {
   "cell_type": "code",
   "execution_count": 50,
   "metadata": {},
   "outputs": [
    {
     "name": "stdout",
     "output_type": "stream",
     "text": [
      "Prediction report: Stacking\n",
      "\n",
      "\n",
      "accuracy: 0.602\n",
      "\n",
      "\n",
      "confusion matrix: \n",
      "[[9964 7614]\n",
      " [1195 3333]]\n",
      "\n",
      "\n",
      "classification report : \n",
      "             precision    recall  f1-score   support\n",
      "\n",
      "          0       0.89      0.57      0.69     17578\n",
      "          1       0.30      0.74      0.43      4528\n",
      "\n",
      "avg / total       0.77      0.60      0.64     22106\n",
      "\n"
     ]
    }
   ],
   "source": [
    "#prediction\n",
    "\n",
    "\n",
    "stacking.fit(smote_predictors, smote_target)\n",
    "stpd = stacking.predict(x_test2)\n",
    "print('Prediction report: Stacking')\n",
    "print '\\n'\n",
    "print'accuracy: %0.3f' % accuracy_score(y_test2, stpd)\n",
    "print '\\n'\n",
    "print 'confusion matrix: '\n",
    "print confusion_matrix(y_test2, stpd)\n",
    "print '\\n'\n",
    "print 'classification report : '\n",
    "print(classification_report(y_test2, stpd))"
   ]
  },
  {
   "cell_type": "markdown",
   "metadata": {},
   "source": [
    "## compare performacne of machine learning Techniques in term of recall "
   ]
  },
  {
   "cell_type": "code",
   "execution_count": 40,
   "metadata": {},
   "outputs": [
    {
     "name": "stdout",
     "output_type": "stream",
     "text": [
      "10 fold Cross validaiton report for each model: average Acuuracy and Standardiviation\n",
      "\n",
      "\n"
     ]
    },
    {
     "data": {
      "image/png": "[encoded data removed]",
      "text/plain": [
       "<matplotlib.figure.Figure at 0x1047199d0>"
      ]
     },
     "metadata": {},
     "output_type": "display_data"
    }
   ],
   "source": [
    "from sklearn import cross_validation\n",
    "# Spot Check Algorithms\n",
    "models = []\n",
    "models.append(('BernoulliNB', BernoulliNB(alpha=0, binarize=0, class_prior=None, fit_prior=True)))\n",
    "models.append(('Emsembel:RF', RandomForestClassifier(n_estimators=36, max_depth=10, max_features='sqrt', min_samples_leaf = 1)))\n",
    "models.append(('Emsemble: GB', GradientBoostingClassifier(n_estimators=45, max_depth=15, max_features='sqrt', min_samples_leaf = 6)))\n",
    "models.append(('SVM',SVC(kernel='linear',C=1)))\n",
    "models.append(('Emsembel: Stacking',stacking ))\n",
    "\n",
    "# evaluate each model in turn\n",
    "results = []\n",
    "names = []\n",
    "print '10 fold Cross validaiton report for each model: average Acuuracy and Standardiviation'\n",
    "print '\\n'\n",
    "for name, model in models:\n",
    "\tcv_results = cross_validation.cross_val_score(model, smote_predictors, smote_target, cv=10)\n",
    "\tresults.append(cv_results)\n",
    "\tnames.append(name)\n",
    "    \n",
    "# boxplot\n",
    "fig = plt.figure()\n",
    "fig.suptitle('Algorithm Comparison: Presion on train')\n",
    "ax = fig.add_subplot(111)\n",
    "plt.boxplot(results)\n",
    "ax.set_xticklabels(names)\n",
    "plt.show()"
   ]
  },
  {
   "cell_type": "code",
   "execution_count": null,
   "metadata": {
    "collapsed": true
   },
   "outputs": [],
   "source": [
    "# paried t test to compare best model with second best\n",
    "from scipy import stats\n",
    "stats.ttest_rel(gbc_scores, rfc_scores,gbc_scores,)"
   ]
  },
  {
   "cell_type": "code",
   "execution_count": null,
   "metadata": {
    "collapsed": true
   },
   "outputs": [],
   "source": [
    "results=[BNB_scores,rfcb_scores,linear_scores,results]\n",
    "\n",
    "names=['BernoulliNB','Emsemble: RF','Emsemble: GB','SVM', 'stacking']\n",
    "\n",
    "# boxplot\n",
    "fig = plt.figure()\n",
    "fig.suptitle('Algorithm Comparison: Presion on train')\n",
    "ax = fig.add_subplot(111)\n",
    "plt.boxplot(results)\n",
    "ax.set_xticklabels(names)\n",
    "plt.show()"
   ]
  },
  {
   "cell_type": "markdown",
   "metadata": {},
   "source": [
    "## compare classifiers's prediction performacne on testing set (precision on noshow)"
   ]
  },
  {
   "cell_type": "markdown",
   "metadata": {},
   "source": [
    "### Model Evaluation"
   ]
  },
  {
   "cell_type": "code",
   "execution_count": 84,
   "metadata": {},
   "outputs": [
    {
     "data": {
      "image/png": "[encoded data removed]",
      "text/plain": [
       "<matplotlib.figure.Figure at 0x11a0151d0>"
      ]
     },
     "metadata": {},
     "output_type": "display_data"
    }
   ],
   "source": [
    "#### ROC Curve\n",
    "\n",
    "\n",
    "nbP=BNB.predict_proba(x_test2)[:,1]\n",
    "rfcP=rfcb.predict_proba(x_test2)[:,1]\n",
    "gbcP=gbc.predict_proba(x_test2)[:,1]\n",
    "#linearP=linear.predict_proba(x_test2)[:,1]\n",
    "#stcP=stacking.predict_proba(x_test2)[:,1]\n",
    "\n",
    "\n",
    "\n",
    "models=[nbP,rfcP,gbcP]\n",
    "#stcP\n",
    "label=['BernoulliNB','Emsemble: RF','Emsemble: GB']\n",
    "\n",
    "from sklearn import metrics\n",
    "# plotting ROC curves\n",
    "plt.figure(figsize=(20, 20))\n",
    "\n",
    "for i in range(len(models)):\n",
    "    fpr, tpr,thresholds= metrics.roc_curve(y_test2,models[i])\n",
    "    plt.plot(fpr,tpr,label=label[i])\n",
    "plt.xlim([0.0,1.0])\n",
    "plt.ylim([0.0,1.0])\n",
    "plt.title('ROC curve for SURVIVIED classifers')\n",
    "plt.xlabel('False positive rate (1-specificity)')\n",
    "plt.ylabel('True positive rate (sensitivity)')\n",
    "plt.legend(loc=4,)\n",
    "\n",
    "plt.show()"
   ]
  },
  {
   "cell_type": "code",
   "execution_count": 71,
   "metadata": {},
   "outputs": [
    {
     "data": {
      "text/plain": [
       "0.67390595908312945"
      ]
     },
     "execution_count": 71,
     "metadata": {},
     "output_type": "execute_result"
    }
   ],
   "source": [
    "#AUC\n",
    "from sklearn.metrics import roc_curve, auc, roc_auc_score\n",
    "\n",
    "roc_auc_score(y_test2, linearP)\n"
   ]
  },
  {
   "cell_type": "markdown",
   "metadata": {},
   "source": [
    "## Feature importacne"
   ]
  },
  {
   "cell_type": "code",
   "execution_count": 87,
   "metadata": {},
   "outputs": [
    {
     "data": {
      "image/png": "[encoded data removed]",
      "text/plain": [
       "<matplotlib.figure.Figure at 0x116604150>"
      ]
     },
     "metadata": {},
     "output_type": "display_data"
    }
   ],
   "source": [
    "# sort importances\n",
    "indices = np.argsort(gbc.feature_importances_)\n",
    "names = list(x_train2)\n",
    "# plot as bar chart\n",
    "plt.figure(figsize=(15, 15))\n",
    "plt.barh(np.arange(len(names)), gbc.feature_importances_[indices])\n",
    "plt.yticks(np.arange(len(names)) + 0.25, np.array(names)[indices])\n",
    "_ = plt.xlabel('Relative importance')\n",
    "\n",
    "plt.show()"
   ]
  }
 ],
 "metadata": {
  "kernelspec": {
   "display_name": "Python 2",
   "language": "python",
   "name": "python2"
  },
  "language_info": {
   "codemirror_mode": {
    "name": "ipython",
    "version": 2
   },
   "file_extension": ".py",
   "mimetype": "text/x-python",
   "name": "python",
   "nbconvert_exporter": "python",
   "pygments_lexer": "ipython2",
   "version": "2.7.14"
  }
 },
 "nbformat": 4,
 "nbformat_minor": 2
}
